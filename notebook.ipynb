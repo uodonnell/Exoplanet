{
 "cells": [
  {
   "cell_type": "markdown",
   "source": "# Exoplanets",
   "metadata": {
    "formattedRanges": [],
    "cell_id": "724d1153251644be8ece66f6880f4428",
    "tags": [],
    "is_collapsed": false,
    "deepnote_cell_type": "text-cell-h1"
   }
  },
  {
   "cell_type": "code",
   "metadata": {
    "cell_id": "a5347dc67d334158ac4f6af6e2dd7dad",
    "tags": [],
    "deepnote_to_be_reexecuted": false,
    "source_hash": "8544159e",
    "execution_start": 1656777612086,
    "execution_millis": 5891,
    "owner_user_id": "f4dc0182-7c34-4962-a1d6-446635695a61",
    "deepnote_cell_type": "code",
    "deepnote_cell_height": 477
   },
   "source": "# Import packages\n%matplotlib inline\nimport pandas as pd\nimport numpy as np\nimport matplotlib.pyplot as plt\nimport seaborn as sns\n\n# Sklearn Packages\nfrom sklearn.linear_model import LogisticRegression\nfrom sklearn.tree import DecisionTreeClassifier\nfrom sklearn.neighbors import KNeighborsClassifier\nfrom sklearn.model_selection import train_test_split, RandomizedSearchCV\nfrom sklearn.ensemble import RandomForestClassifier\nfrom sklearn import preprocessing\n\n# Sklearn Evaluation Metrics\nfrom sklearn import metrics\nfrom sklearn.metrics import mean_squared_error, precision_score, confusion_matrix, accuracy_score\n\n# keras\nfrom tensorflow.keras.models import Sequential\nfrom tensorflow.keras.layers import Dense\nimport tensorflow as tf",
   "execution_count": 1,
   "outputs": []
  },
  {
   "cell_type": "markdown",
   "source": "An exoplanet is a planet that orbits a star outside our solar system. Some exoplanets don't orbit stars but rather some galactic center, these are called \"rogue planets\". This data doesn't have any information on \"rogue\" planets.",
   "metadata": {
    "formattedRanges": [],
    "cell_id": "034e818aa0ee47b5a1d1c51b106fc68e",
    "tags": [],
    "is_collapsed": false,
    "deepnote_cell_type": "text-cell-p"
   }
  },
  {
   "cell_type": "markdown",
   "source": "The dataset I'll be using is from Caltech and NASA, collected from the Kepler missions. The data consists of KOI's, or Kepler Objects of Interest. There are several columns, one of which being the status of a certain KOI being an exoplanet, with values Candidate, Confirmed, or False Positive. We will use this data to train a model to predict a KOI's likelihood of being an exoplanet.",
   "metadata": {
    "formattedRanges": [],
    "cell_id": "372ac081aafd43dd831b9407fa63fa21",
    "tags": [],
    "is_collapsed": false,
    "deepnote_cell_type": "text-cell-p"
   }
  },
  {
   "cell_type": "markdown",
   "source": "## Data Exploration",
   "metadata": {
    "formattedRanges": [],
    "cell_id": "df603f66151546f1a1f10718a737d5f6",
    "tags": [],
    "is_collapsed": false,
    "deepnote_cell_type": "text-cell-h2"
   }
  },
  {
   "cell_type": "markdown",
   "source": "### Data Cleaning",
   "metadata": {
    "formattedRanges": [],
    "cell_id": "04bb9eae10f34597b13ea98f1466883d",
    "tags": [],
    "is_collapsed": false,
    "deepnote_cell_type": "text-cell-h3"
   }
  },
  {
   "cell_type": "code",
   "metadata": {
    "tags": [],
    "cell_id": "ee937ee1-7ad5-44ea-9acb-1831b8c8c1ec",
    "deepnote_to_be_reexecuted": false,
    "source_hash": "b845065b",
    "execution_start": 1656771872437,
    "execution_millis": 80,
    "deepnote_cell_type": "code",
    "deepnote_cell_height": 81
   },
   "source": "planet = pd.read_csv(\"nasa_exo_2022.csv\")",
   "outputs": [],
   "execution_count": null
  },
  {
   "cell_type": "code",
   "metadata": {
    "cell_id": "e962dc63cd034793abe6996a9ccb3d00",
    "tags": [],
    "deepnote_to_be_reexecuted": false,
    "source_hash": "14c5581",
    "execution_start": 1656771872586,
    "execution_millis": 509,
    "deepnote_cell_type": "code",
    "deepnote_cell_height": 412
   },
   "source": "planet.head()",
   "outputs": [
    {
     "output_type": "execute_result",
     "execution_count": 3,
     "data": {
      "application/vnd.deepnote.dataframe.v3+json": {
       "column_count": 49,
       "row_count": 5,
       "columns": [
        {
         "name": "kepid",
         "dtype": "int64",
         "stats": {
          "unique_count": 4,
          "nan_count": 0,
          "min": "10797460",
          "max": "10854555",
          "histogram": [
           {
            "bin_start": 10797460,
            "bin_end": 10803169.5,
            "count": 2
           },
           {
            "bin_start": 10803169.5,
            "bin_end": 10808879,
            "count": 0
           },
           {
            "bin_start": 10808879,
            "bin_end": 10814588.5,
            "count": 1
           },
           {
            "bin_start": 10814588.5,
            "bin_end": 10820298,
            "count": 0
           },
           {
            "bin_start": 10820298,
            "bin_end": 10826007.5,
            "count": 0
           },
           {
            "bin_start": 10826007.5,
            "bin_end": 10831717,
            "count": 0
           },
           {
            "bin_start": 10831717,
            "bin_end": 10837426.5,
            "count": 0
           },
           {
            "bin_start": 10837426.5,
            "bin_end": 10843136,
            "count": 0
           },
           {
            "bin_start": 10843136,
            "bin_end": 10848845.5,
            "count": 1
           },
           {
            "bin_start": 10848845.5,
            "bin_end": 10854555,
            "count": 1
           }
          ]
         }
        },
        {
         "name": "kepoi_name",
         "dtype": "object",
         "stats": {
          "unique_count": 5,
          "nan_count": 0,
          "categories": [
           {
            "name": "K00752.01",
            "count": 1
           },
           {
            "name": "K00752.02",
            "count": 1
           },
           {
            "name": "3 others",
            "count": 3
           }
          ]
         }
        },
        {
         "name": "kepler_name",
         "dtype": "object",
         "stats": {
          "unique_count": 3,
          "nan_count": 2,
          "categories": [
           {
            "name": "Kepler-227 b",
            "count": 1
           },
           {
            "name": "2 others",
            "count": 2
           },
           {
            "name": "Missing",
            "count": 2
           }
          ]
         }
        },
        {
         "name": "koi_disposition",
         "dtype": "object",
         "stats": {
          "unique_count": 3,
          "nan_count": 0,
          "categories": [
           {
            "name": "CONFIRMED",
            "count": 3
           },
           {
            "name": "CANDIDATE",
            "count": 1
           },
           {
            "name": "FALSE POSITIVE",
            "count": 1
           }
          ]
         }
        },
        {
         "name": "koi_pdisposition",
         "dtype": "object",
         "stats": {
          "unique_count": 2,
          "nan_count": 0,
          "categories": [
           {
            "name": "CANDIDATE",
            "count": 4
           },
           {
            "name": "FALSE POSITIVE",
            "count": 1
           }
          ]
         }
        },
        {
         "name": "koi_score",
         "dtype": "float64",
         "stats": {
          "unique_count": 3,
          "nan_count": 0,
          "min": "0.0",
          "max": "1.0",
          "histogram": [
           {
            "bin_start": 0,
            "bin_end": 0.1,
            "count": 2
           },
           {
            "bin_start": 0.1,
            "bin_end": 0.2,
            "count": 0
           },
           {
            "bin_start": 0.2,
            "bin_end": 0.30000000000000004,
            "count": 0
           },
           {
            "bin_start": 0.30000000000000004,
            "bin_end": 0.4,
            "count": 0
           },
           {
            "bin_start": 0.4,
            "bin_end": 0.5,
            "count": 0
           },
           {
            "bin_start": 0.5,
            "bin_end": 0.6000000000000001,
            "count": 0
           },
           {
            "bin_start": 0.6000000000000001,
            "bin_end": 0.7000000000000001,
            "count": 0
           },
           {
            "bin_start": 0.7000000000000001,
            "bin_end": 0.8,
            "count": 0
           },
           {
            "bin_start": 0.8,
            "bin_end": 0.9,
            "count": 0
           },
           {
            "bin_start": 0.9,
            "bin_end": 1,
            "count": 3
           }
          ]
         }
        },
        {
         "name": "koi_fpflag_nt",
         "dtype": "int64",
         "stats": {
          "unique_count": 1,
          "nan_count": 0,
          "min": "0",
          "max": "0",
          "histogram": [
           {
            "bin_start": -0.5,
            "bin_end": -0.4,
            "count": 0
           },
           {
            "bin_start": -0.4,
            "bin_end": -0.3,
            "count": 0
           },
           {
            "bin_start": -0.3,
            "bin_end": -0.19999999999999996,
            "count": 0
           },
           {
            "bin_start": -0.19999999999999996,
            "bin_end": -0.09999999999999998,
            "count": 0
           },
           {
            "bin_start": -0.09999999999999998,
            "bin_end": 0,
            "count": 0
           },
           {
            "bin_start": 0,
            "bin_end": 0.10000000000000009,
            "count": 5
           },
           {
            "bin_start": 0.10000000000000009,
            "bin_end": 0.20000000000000007,
            "count": 0
           },
           {
            "bin_start": 0.20000000000000007,
            "bin_end": 0.30000000000000004,
            "count": 0
           },
           {
            "bin_start": 0.30000000000000004,
            "bin_end": 0.4,
            "count": 0
           },
           {
            "bin_start": 0.4,
            "bin_end": 0.5,
            "count": 0
           }
          ]
         }
        },
        {
         "name": "koi_fpflag_ss",
         "dtype": "int64",
         "stats": {
          "unique_count": 2,
          "nan_count": 0,
          "min": "0",
          "max": "1",
          "histogram": [
           {
            "bin_start": 0,
            "bin_end": 0.1,
            "count": 4
           },
           {
            "bin_start": 0.1,
            "bin_end": 0.2,
            "count": 0
           },
           {
            "bin_start": 0.2,
            "bin_end": 0.30000000000000004,
            "count": 0
           },
           {
            "bin_start": 0.30000000000000004,
            "bin_end": 0.4,
            "count": 0
           },
           {
            "bin_start": 0.4,
            "bin_end": 0.5,
            "count": 0
           },
           {
            "bin_start": 0.5,
            "bin_end": 0.6000000000000001,
            "count": 0
           },
           {
            "bin_start": 0.6000000000000001,
            "bin_end": 0.7000000000000001,
            "count": 0
           },
           {
            "bin_start": 0.7000000000000001,
            "bin_end": 0.8,
            "count": 0
           },
           {
            "bin_start": 0.8,
            "bin_end": 0.9,
            "count": 0
           },
           {
            "bin_start": 0.9,
            "bin_end": 1,
            "count": 1
           }
          ]
         }
        },
        {
         "name": "koi_fpflag_co",
         "dtype": "int64",
         "stats": {
          "unique_count": 1,
          "nan_count": 0,
          "min": "0",
          "max": "0",
          "histogram": [
           {
            "bin_start": -0.5,
            "bin_end": -0.4,
            "count": 0
           },
           {
            "bin_start": -0.4,
            "bin_end": -0.3,
            "count": 0
           },
           {
            "bin_start": -0.3,
            "bin_end": -0.19999999999999996,
            "count": 0
           },
           {
            "bin_start": -0.19999999999999996,
            "bin_end": -0.09999999999999998,
            "count": 0
           },
           {
            "bin_start": -0.09999999999999998,
            "bin_end": 0,
            "count": 0
           },
           {
            "bin_start": 0,
            "bin_end": 0.10000000000000009,
            "count": 5
           },
           {
            "bin_start": 0.10000000000000009,
            "bin_end": 0.20000000000000007,
            "count": 0
           },
           {
            "bin_start": 0.20000000000000007,
            "bin_end": 0.30000000000000004,
            "count": 0
           },
           {
            "bin_start": 0.30000000000000004,
            "bin_end": 0.4,
            "count": 0
           },
           {
            "bin_start": 0.4,
            "bin_end": 0.5,
            "count": 0
           }
          ]
         }
        },
        {
         "name": "koi_fpflag_ec",
         "dtype": "int64",
         "stats": {
          "unique_count": 1,
          "nan_count": 0,
          "min": "0",
          "max": "0",
          "histogram": [
           {
            "bin_start": -0.5,
            "bin_end": -0.4,
            "count": 0
           },
           {
            "bin_start": -0.4,
            "bin_end": -0.3,
            "count": 0
           },
           {
            "bin_start": -0.3,
            "bin_end": -0.19999999999999996,
            "count": 0
           },
           {
            "bin_start": -0.19999999999999996,
            "bin_end": -0.09999999999999998,
            "count": 0
           },
           {
            "bin_start": -0.09999999999999998,
            "bin_end": 0,
            "count": 0
           },
           {
            "bin_start": 0,
            "bin_end": 0.10000000000000009,
            "count": 5
           },
           {
            "bin_start": 0.10000000000000009,
            "bin_end": 0.20000000000000007,
            "count": 0
           },
           {
            "bin_start": 0.20000000000000007,
            "bin_end": 0.30000000000000004,
            "count": 0
           },
           {
            "bin_start": 0.30000000000000004,
            "bin_end": 0.4,
            "count": 0
           },
           {
            "bin_start": 0.4,
            "bin_end": 0.5,
            "count": 0
           }
          ]
         }
        },
        {
         "name": "koi_period",
         "dtype": "float64",
         "stats": {
          "unique_count": 5,
          "nan_count": 0,
          "min": "1.736952453",
          "max": "54.4183827",
          "histogram": [
           {
            "bin_start": 1.736952453,
            "bin_end": 7.0050954777,
            "count": 2
           },
           {
            "bin_start": 7.0050954777,
            "bin_end": 12.273238502400002,
            "count": 1
           },
           {
            "bin_start": 12.273238502400002,
            "bin_end": 17.5413815271,
            "count": 0
           },
           {
            "bin_start": 17.5413815271,
            "bin_end": 22.809524551800003,
            "count": 1
           },
           {
            "bin_start": 22.809524551800003,
            "bin_end": 28.077667576500005,
            "count": 0
           },
           {
            "bin_start": 28.077667576500005,
            "bin_end": 33.3458106012,
            "count": 0
           },
           {
            "bin_start": 33.3458106012,
            "bin_end": 38.6139536259,
            "count": 0
           },
           {
            "bin_start": 38.6139536259,
            "bin_end": 43.882096650600005,
            "count": 0
           },
           {
            "bin_start": 43.882096650600005,
            "bin_end": 49.15023967530001,
            "count": 0
           },
           {
            "bin_start": 49.15023967530001,
            "bin_end": 54.4183827,
            "count": 1
           }
          ]
         }
        },
        {
         "name": "koi_period_err1",
         "dtype": "float64",
         "stats": {
          "unique_count": 5,
          "nan_count": 0,
          "min": "2.63e-07",
          "max": "0.000248",
          "histogram": [
           {
            "bin_start": 2.63e-7,
            "bin_end": 0.0000250367,
            "count": 3
           },
           {
            "bin_start": 0.0000250367,
            "bin_end": 0.0000498104,
            "count": 1
           },
           {
            "bin_start": 0.0000498104,
            "bin_end": 0.0000745841,
            "count": 0
           },
           {
            "bin_start": 0.0000745841,
            "bin_end": 0.00009935779999999999,
            "count": 0
           },
           {
            "bin_start": 0.00009935779999999999,
            "bin_end": 0.0001241315,
            "count": 0
           },
           {
            "bin_start": 0.0001241315,
            "bin_end": 0.0001489052,
            "count": 0
           },
           {
            "bin_start": 0.0001489052,
            "bin_end": 0.00017367889999999998,
            "count": 0
           },
           {
            "bin_start": 0.00017367889999999998,
            "bin_end": 0.0001984526,
            "count": 0
           },
           {
            "bin_start": 0.0001984526,
            "bin_end": 0.0002232263,
            "count": 0
           },
           {
            "bin_start": 0.0002232263,
            "bin_end": 0.000248,
            "count": 1
           }
          ]
         }
        },
        {
         "name": "koi_period_err2",
         "dtype": "float64",
         "stats": {
          "unique_count": 5,
          "nan_count": 0,
          "min": "-0.000248",
          "max": "-2.63e-07",
          "histogram": [
           {
            "bin_start": -0.000248,
            "bin_end": -0.0002232263,
            "count": 1
           },
           {
            "bin_start": -0.0002232263,
            "bin_end": -0.00019845260000000002,
            "count": 0
           },
           {
            "bin_start": -0.00019845260000000002,
            "bin_end": -0.0001736789,
            "count": 0
           },
           {
            "bin_start": -0.0001736789,
            "bin_end": -0.00014890520000000003,
            "count": 0
           },
           {
            "bin_start": -0.00014890520000000003,
            "bin_end": -0.00012413150000000002,
            "count": 0
           },
           {
            "bin_start": -0.00012413150000000002,
            "bin_end": -0.0000993578,
            "count": 0
           },
           {
            "bin_start": -0.0000993578,
            "bin_end": -0.00007458410000000002,
            "count": 0
           },
           {
            "bin_start": -0.00007458410000000002,
            "bin_end": -0.000049810400000000014,
            "count": 0
           },
           {
            "bin_start": -0.000049810400000000014,
            "bin_end": -0.000025036700000000004,
            "count": 1
           },
           {
            "bin_start": -0.000025036700000000004,
            "bin_end": -2.63e-7,
            "count": 3
           }
          ]
         }
        },
        {
         "name": "koi_time0bk",
         "dtype": "float64",
         "stats": {
          "unique_count": 5,
          "nan_count": 0,
          "min": "162.51384",
          "max": "175.850252",
          "histogram": [
           {
            "bin_start": 162.51384,
            "bin_end": 163.8474812,
            "count": 1
           },
           {
            "bin_start": 163.8474812,
            "bin_end": 165.1811224,
            "count": 0
           },
           {
            "bin_start": 165.1811224,
            "bin_end": 166.51476359999998,
            "count": 0
           },
           {
            "bin_start": 166.51476359999998,
            "bin_end": 167.8484048,
            "count": 0
           },
           {
            "bin_start": 167.8484048,
            "bin_end": 169.182046,
            "count": 0
           },
           {
            "bin_start": 169.182046,
            "bin_end": 170.5156872,
            "count": 1
           },
           {
            "bin_start": 170.5156872,
            "bin_end": 171.8493284,
            "count": 2
           },
           {
            "bin_start": 171.8493284,
            "bin_end": 173.1829696,
            "count": 0
           },
           {
            "bin_start": 173.1829696,
            "bin_end": 174.51661080000002,
            "count": 0
           },
           {
            "bin_start": 174.51661080000002,
            "bin_end": 175.850252,
            "count": 1
           }
          ]
         }
        },
        {
         "name": "koi_time0bk_err1",
         "dtype": "float64",
         "stats": {
          "unique_count": 5,
          "nan_count": 0,
          "min": "0.000115",
          "max": "0.00352",
          "histogram": [
           {
            "bin_start": 0.000115,
            "bin_end": 0.00045549999999999996,
            "count": 1
           },
           {
            "bin_start": 0.00045549999999999996,
            "bin_end": 0.0007959999999999999,
            "count": 1
           },
           {
            "bin_start": 0.0007959999999999999,
            "bin_end": 0.0011365,
            "count": 1
           },
           {
            "bin_start": 0.0011365,
            "bin_end": 0.001477,
            "count": 0
           },
           {
            "bin_start": 0.001477,
            "bin_end": 0.0018175,
            "count": 0
           },
           {
            "bin_start": 0.0018175,
            "bin_end": 0.0021579999999999998,
            "count": 0
           },
           {
            "bin_start": 0.0021579999999999998,
            "bin_end": 0.0024985,
            "count": 1
           },
           {
            "bin_start": 0.0024985,
            "bin_end": 0.002839,
            "count": 0
           },
           {
            "bin_start": 0.002839,
            "bin_end": 0.0031795,
            "count": 0
           },
           {
            "bin_start": 0.0031795,
            "bin_end": 0.00352,
            "count": 1
           }
          ]
         }
        },
        {
         "name": "koi_time0bk_err2",
         "dtype": "float64",
         "stats": {
          "unique_count": 5,
          "nan_count": 0,
          "min": "-0.00352",
          "max": "-0.000115",
          "histogram": [
           {
            "bin_start": -0.00352,
            "bin_end": -0.0031795,
            "count": 1
           },
           {
            "bin_start": -0.0031795,
            "bin_end": -0.0028390000000000004,
            "count": 0
           },
           {
            "bin_start": -0.0028390000000000004,
            "bin_end": -0.0024985000000000003,
            "count": 0
           },
           {
            "bin_start": -0.0024985000000000003,
            "bin_end": -0.002158,
            "count": 1
           },
           {
            "bin_start": -0.002158,
            "bin_end": -0.0018175,
            "count": 0
           },
           {
            "bin_start": -0.0018175,
            "bin_end": -0.0014770000000000004,
            "count": 0
           },
           {
            "bin_start": -0.0014770000000000004,
            "bin_end": -0.0011365000000000004,
            "count": 0
           },
           {
            "bin_start": -0.0011365000000000004,
            "bin_end": -0.0007960000000000003,
            "count": 1
           },
           {
            "bin_start": -0.0007960000000000003,
            "bin_end": -0.0004555000000000002,
            "count": 1
           },
           {
            "bin_start": -0.0004555000000000002,
            "bin_end": -0.000115,
            "count": 1
           }
          ]
         }
        },
        {
         "name": "koi_impact",
         "dtype": "float64",
         "stats": {
          "unique_count": 5,
          "nan_count": 0,
          "min": "0.146",
          "max": "1.276",
          "histogram": [
           {
            "bin_start": 0.146,
            "bin_end": 0.259,
            "count": 1
           },
           {
            "bin_start": 0.259,
            "bin_end": 0.372,
            "count": 0
           },
           {
            "bin_start": 0.372,
            "bin_end": 0.4850000000000001,
            "count": 0
           },
           {
            "bin_start": 0.4850000000000001,
            "bin_end": 0.5980000000000001,
            "count": 1
           },
           {
            "bin_start": 0.5980000000000001,
            "bin_end": 0.7110000000000001,
            "count": 1
           },
           {
            "bin_start": 0.7110000000000001,
            "bin_end": 0.8240000000000002,
            "count": 0
           },
           {
            "bin_start": 0.8240000000000002,
            "bin_end": 0.9370000000000002,
            "count": 0
           },
           {
            "bin_start": 0.9370000000000002,
            "bin_end": 1.05,
            "count": 1
           },
           {
            "bin_start": 1.05,
            "bin_end": 1.163,
            "count": 0
           },
           {
            "bin_start": 1.163,
            "bin_end": 1.276,
            "count": 1
           }
          ]
         }
        },
        {
         "name": "koi_impact_err1",
         "dtype": "float64",
         "stats": {
          "unique_count": 5,
          "nan_count": 0,
          "min": "0.059",
          "max": "5.126",
          "histogram": [
           {
            "bin_start": 0.059,
            "bin_end": 0.5657000000000001,
            "count": 4
           },
           {
            "bin_start": 0.5657000000000001,
            "bin_end": 1.0724,
            "count": 0
           },
           {
            "bin_start": 1.0724,
            "bin_end": 1.5791000000000002,
            "count": 0
           },
           {
            "bin_start": 1.5791000000000002,
            "bin_end": 2.0858000000000003,
            "count": 0
           },
           {
            "bin_start": 2.0858000000000003,
            "bin_end": 2.5925000000000002,
            "count": 0
           },
           {
            "bin_start": 2.5925000000000002,
            "bin_end": 3.0992000000000006,
            "count": 0
           },
           {
            "bin_start": 3.0992000000000006,
            "bin_end": 3.6059000000000005,
            "count": 0
           },
           {
            "bin_start": 3.6059000000000005,
            "bin_end": 4.1126000000000005,
            "count": 0
           },
           {
            "bin_start": 4.1126000000000005,
            "bin_end": 4.619300000000001,
            "count": 0
           },
           {
            "bin_start": 4.619300000000001,
            "bin_end": 5.126,
            "count": 1
           }
          ]
         }
        },
        {
         "name": "koi_impact_err2",
         "dtype": "float64",
         "stats": {
          "unique_count": 5,
          "nan_count": 0,
          "min": "-0.478",
          "max": "-0.077",
          "histogram": [
           {
            "bin_start": -0.478,
            "bin_end": -0.43789999999999996,
            "count": 2
           },
           {
            "bin_start": -0.43789999999999996,
            "bin_end": -0.3978,
            "count": 0
           },
           {
            "bin_start": -0.3978,
            "bin_end": -0.3577,
            "count": 0
           },
           {
            "bin_start": -0.3577,
            "bin_end": -0.3176,
            "count": 0
           },
           {
            "bin_start": -0.3176,
            "bin_end": -0.27749999999999997,
            "count": 0
           },
           {
            "bin_start": -0.27749999999999997,
            "bin_end": -0.2374,
            "count": 0
           },
           {
            "bin_start": -0.2374,
            "bin_end": -0.19730000000000003,
            "count": 0
           },
           {
            "bin_start": -0.19730000000000003,
            "bin_end": -0.1572,
            "count": 0
           },
           {
            "bin_start": -0.1572,
            "bin_end": -0.11709999999999998,
            "count": 1
           },
           {
            "bin_start": -0.11709999999999998,
            "bin_end": -0.077,
            "count": 2
           }
          ]
         }
        },
        {
         "name": "koi_duration",
         "dtype": "float64",
         "stats": {
          "unique_count": 5,
          "nan_count": 0,
          "min": "1.6545",
          "max": "4.507",
          "histogram": [
           {
            "bin_start": 1.6545,
            "bin_end": 1.93975,
            "count": 2
           },
           {
            "bin_start": 1.93975,
            "bin_end": 2.225,
            "count": 0
           },
           {
            "bin_start": 2.225,
            "bin_end": 2.51025,
            "count": 1
           },
           {
            "bin_start": 2.51025,
            "bin_end": 2.7954999999999997,
            "count": 0
           },
           {
            "bin_start": 2.7954999999999997,
            "bin_end": 3.08075,
            "count": 1
           },
           {
            "bin_start": 3.08075,
            "bin_end": 3.3659999999999997,
            "count": 0
           },
           {
            "bin_start": 3.3659999999999997,
            "bin_end": 3.6512499999999997,
            "count": 0
           },
           {
            "bin_start": 3.6512499999999997,
            "bin_end": 3.9364999999999997,
            "count": 0
           },
           {
            "bin_start": 3.9364999999999997,
            "bin_end": 4.22175,
            "count": 0
           },
           {
            "bin_start": 4.22175,
            "bin_end": 4.507,
            "count": 1
           }
          ]
         }
        },
        {
         "name": "koi_duration_err1",
         "dtype": "float64",
         "stats": {
          "unique_count": 5,
          "nan_count": 0,
          "min": "0.00537",
          "max": "0.116",
          "histogram": [
           {
            "bin_start": 0.00537,
            "bin_end": 0.016433,
            "count": 1
           },
           {
            "bin_start": 0.016433,
            "bin_end": 0.027496,
            "count": 0
           },
           {
            "bin_start": 0.027496,
            "bin_end": 0.038558999999999996,
            "count": 1
           },
           {
            "bin_start": 0.038558999999999996,
            "bin_end": 0.049622,
            "count": 1
           },
           {
            "bin_start": 0.049622,
            "bin_end": 0.060685,
            "count": 0
           },
           {
            "bin_start": 0.060685,
            "bin_end": 0.07174799999999999,
            "count": 0
           },
           {
            "bin_start": 0.07174799999999999,
            "bin_end": 0.082811,
            "count": 1
           },
           {
            "bin_start": 0.082811,
            "bin_end": 0.093874,
            "count": 0
           },
           {
            "bin_start": 0.093874,
            "bin_end": 0.104937,
            "count": 0
           },
           {
            "bin_start": 0.104937,
            "bin_end": 0.116,
            "count": 1
           }
          ]
         }
        },
        {
         "name": "koi_duration_err2",
         "dtype": "float64",
         "stats": {
          "unique_count": 5,
          "nan_count": 0,
          "min": "-0.116",
          "max": "-0.00537",
          "histogram": [
           {
            "bin_start": -0.116,
            "bin_end": -0.104937,
            "count": 1
           },
           {
            "bin_start": -0.104937,
            "bin_end": -0.09387400000000001,
            "count": 0
           },
           {
            "bin_start": -0.09387400000000001,
            "bin_end": -0.08281100000000001,
            "count": 0
           },
           {
            "bin_start": -0.08281100000000001,
            "bin_end": -0.071748,
            "count": 1
           },
           {
            "bin_start": -0.071748,
            "bin_end": -0.060685,
            "count": 0
           },
           {
            "bin_start": -0.060685,
            "bin_end": -0.04962200000000001,
            "count": 0
           },
           {
            "bin_start": -0.04962200000000001,
            "bin_end": -0.03855900000000001,
            "count": 1
           },
           {
            "bin_start": -0.03855900000000001,
            "bin_end": -0.027496000000000007,
            "count": 1
           },
           {
            "bin_start": -0.027496000000000007,
            "bin_end": -0.016433000000000003,
            "count": 0
           },
           {
            "bin_start": -0.016433000000000003,
            "bin_end": -0.00537,
            "count": 1
           }
          ]
         }
        },
        {
         "name": "koi_depth",
         "dtype": "float64",
         "stats": {
          "unique_count": 5,
          "nan_count": 0,
          "min": "603.0",
          "max": "10800.0",
          "histogram": [
           {
            "bin_start": 603,
            "bin_end": 1622.7,
            "count": 3
           },
           {
            "bin_start": 1622.7,
            "bin_end": 2642.4,
            "count": 0
           },
           {
            "bin_start": 2642.4,
            "bin_end": 3662.1000000000004,
            "count": 0
           },
           {
            "bin_start": 3662.1000000000004,
            "bin_end": 4681.8,
            "count": 0
           },
           {
            "bin_start": 4681.8,
            "bin_end": 5701.5,
            "count": 0
           },
           {
            "bin_start": 5701.5,
            "bin_end": 6721.200000000001,
            "count": 0
           },
           {
            "bin_start": 6721.200000000001,
            "bin_end": 7740.900000000001,
            "count": 0
           },
           {
            "bin_start": 7740.900000000001,
            "bin_end": 8760.6,
            "count": 1
           },
           {
            "bin_start": 8760.6,
            "bin_end": 9780.300000000001,
            "count": 0
           },
           {
            "bin_start": 9780.300000000001,
            "bin_end": 10800,
            "count": 1
           }
          ]
         }
        },
        {
         "name": "koi_depth_err1",
         "dtype": "float64",
         "stats": {
          "unique_count": 5,
          "nan_count": 0,
          "min": "12.8",
          "max": "171.0",
          "histogram": [
           {
            "bin_start": 12.8,
            "bin_end": 28.619999999999997,
            "count": 3
           },
           {
            "bin_start": 28.619999999999997,
            "bin_end": 44.44,
            "count": 1
           },
           {
            "bin_start": 44.44,
            "bin_end": 60.25999999999999,
            "count": 0
           },
           {
            "bin_start": 60.25999999999999,
            "bin_end": 76.08,
            "count": 0
           },
           {
            "bin_start": 76.08,
            "bin_end": 91.89999999999999,
            "count": 0
           },
           {
            "bin_start": 91.89999999999999,
            "bin_end": 107.71999999999998,
            "count": 0
           },
           {
            "bin_start": 107.71999999999998,
            "bin_end": 123.53999999999999,
            "count": 0
           },
           {
            "bin_start": 123.53999999999999,
            "bin_end": 139.35999999999999,
            "count": 0
           },
           {
            "bin_start": 139.35999999999999,
            "bin_end": 155.18,
            "count": 0
           },
           {
            "bin_start": 155.18,
            "bin_end": 171,
            "count": 1
           }
          ]
         }
        },
        {
         "name": "koi_depth_err2",
         "dtype": "float64",
         "stats": {
          "unique_count": 5,
          "nan_count": 0,
          "min": "-171.0",
          "max": "-12.8",
          "histogram": [
           {
            "bin_start": -171,
            "bin_end": -155.18,
            "count": 1
           },
           {
            "bin_start": -155.18,
            "bin_end": -139.36,
            "count": 0
           },
           {
            "bin_start": -139.36,
            "bin_end": -123.54,
            "count": 0
           },
           {
            "bin_start": -123.54,
            "bin_end": -107.72,
            "count": 0
           },
           {
            "bin_start": -107.72,
            "bin_end": -91.9,
            "count": 0
           },
           {
            "bin_start": -91.9,
            "bin_end": -76.08000000000001,
            "count": 0
           },
           {
            "bin_start": -76.08000000000001,
            "bin_end": -60.260000000000005,
            "count": 0
           },
           {
            "bin_start": -60.260000000000005,
            "bin_end": -44.44000000000001,
            "count": 0
           },
           {
            "bin_start": -44.44000000000001,
            "bin_end": -28.620000000000005,
            "count": 1
           },
           {
            "bin_start": -28.620000000000005,
            "bin_end": -12.8,
            "count": 3
           }
          ]
         }
        },
        {
         "name": "koi_prad",
         "dtype": "float64",
         "stats": {
          "unique_count": 5,
          "nan_count": 0,
          "min": "2.26",
          "max": "33.46",
          "histogram": [
           {
            "bin_start": 2.26,
            "bin_end": 5.38,
            "count": 3
           },
           {
            "bin_start": 5.38,
            "bin_end": 8.5,
            "count": 0
           },
           {
            "bin_start": 8.5,
            "bin_end": 11.62,
            "count": 0
           },
           {
            "bin_start": 11.62,
            "bin_end": 14.74,
            "count": 1
           },
           {
            "bin_start": 14.74,
            "bin_end": 17.86,
            "count": 0
           },
           {
            "bin_start": 17.86,
            "bin_end": 20.979999999999997,
            "count": 0
           },
           {
            "bin_start": 20.979999999999997,
            "bin_end": 24.1,
            "count": 0
           },
           {
            "bin_start": 24.1,
            "bin_end": 27.22,
            "count": 0
           },
           {
            "bin_start": 27.22,
            "bin_end": 30.340000000000003,
            "count": 0
           },
           {
            "bin_start": 30.340000000000003,
            "bin_end": 33.46,
            "count": 1
           }
          ]
         }
        },
        {
         "name": "koi_prad_err1",
         "dtype": "float64",
         "stats": {
          "unique_count": 5,
          "nan_count": 0,
          "min": "0.26",
          "max": "8.5",
          "histogram": [
           {
            "bin_start": 0.26,
            "bin_end": 1.084,
            "count": 3
           },
           {
            "bin_start": 1.084,
            "bin_end": 1.9080000000000001,
            "count": 0
           },
           {
            "bin_start": 1.9080000000000001,
            "bin_end": 2.732,
            "count": 0
           },
           {
            "bin_start": 2.732,
            "bin_end": 3.556,
            "count": 0
           },
           {
            "bin_start": 3.556,
            "bin_end": 4.38,
            "count": 1
           },
           {
            "bin_start": 4.38,
            "bin_end": 5.204000000000001,
            "count": 0
           },
           {
            "bin_start": 5.204000000000001,
            "bin_end": 6.0280000000000005,
            "count": 0
           },
           {
            "bin_start": 6.0280000000000005,
            "bin_end": 6.852,
            "count": 0
           },
           {
            "bin_start": 6.852,
            "bin_end": 7.676,
            "count": 0
           },
           {
            "bin_start": 7.676,
            "bin_end": 8.5,
            "count": 1
           }
          ]
         }
        },
        {
         "name": "koi_prad_err2",
         "dtype": "float64",
         "stats": {
          "unique_count": 5,
          "nan_count": 0,
          "min": "-2.83",
          "max": "-0.15",
          "histogram": [
           {
            "bin_start": -2.83,
            "bin_end": -2.5620000000000003,
            "count": 1
           },
           {
            "bin_start": -2.5620000000000003,
            "bin_end": -2.294,
            "count": 0
           },
           {
            "bin_start": -2.294,
            "bin_end": -2.026,
            "count": 0
           },
           {
            "bin_start": -2.026,
            "bin_end": -1.758,
            "count": 0
           },
           {
            "bin_start": -1.758,
            "bin_end": -1.49,
            "count": 0
           },
           {
            "bin_start": -1.49,
            "bin_end": -1.222,
            "count": 1
           },
           {
            "bin_start": -1.222,
            "bin_end": -0.954,
            "count": 0
           },
           {
            "bin_start": -0.954,
            "bin_end": -0.6859999999999999,
            "count": 0
           },
           {
            "bin_start": -0.6859999999999999,
            "bin_end": -0.41800000000000015,
            "count": 0
           },
           {
            "bin_start": -0.41800000000000015,
            "bin_end": -0.15,
            "count": 3
           }
          ]
         }
        },
        {
         "name": "koi_teq",
         "dtype": "float64",
         "stats": {
          "unique_count": 5,
          "nan_count": 0,
          "min": "443.0",
          "max": "1406.0",
          "histogram": [
           {
            "bin_start": 443,
            "bin_end": 539.3,
            "count": 1
           },
           {
            "bin_start": 539.3,
            "bin_end": 635.6,
            "count": 0
           },
           {
            "bin_start": 635.6,
            "bin_end": 731.9,
            "count": 1
           },
           {
            "bin_start": 731.9,
            "bin_end": 828.2,
            "count": 1
           },
           {
            "bin_start": 828.2,
            "bin_end": 924.5,
            "count": 0
           },
           {
            "bin_start": 924.5,
            "bin_end": 1020.8,
            "count": 0
           },
           {
            "bin_start": 1020.8,
            "bin_end": 1117.1,
            "count": 0
           },
           {
            "bin_start": 1117.1,
            "bin_end": 1213.4,
            "count": 0
           },
           {
            "bin_start": 1213.4,
            "bin_end": 1309.6999999999998,
            "count": 0
           },
           {
            "bin_start": 1309.6999999999998,
            "bin_end": 1406,
            "count": 2
           }
          ]
         }
        },
        {
         "name": "koi_teq_err1",
         "dtype": "float64",
         "stats": {
          "unique_count": 0,
          "nan_count": 5,
          "min": null,
          "max": null,
          "histogram": [
           {
            "bin_start": 0,
            "bin_end": 0.1,
            "count": 0
           },
           {
            "bin_start": 0.1,
            "bin_end": 0.2,
            "count": 0
           },
           {
            "bin_start": 0.2,
            "bin_end": 0.30000000000000004,
            "count": 0
           },
           {
            "bin_start": 0.30000000000000004,
            "bin_end": 0.4,
            "count": 0
           },
           {
            "bin_start": 0.4,
            "bin_end": 0.5,
            "count": 0
           },
           {
            "bin_start": 0.5,
            "bin_end": 0.6000000000000001,
            "count": 0
           },
           {
            "bin_start": 0.6000000000000001,
            "bin_end": 0.7000000000000001,
            "count": 0
           },
           {
            "bin_start": 0.7000000000000001,
            "bin_end": 0.8,
            "count": 0
           },
           {
            "bin_start": 0.8,
            "bin_end": 0.9,
            "count": 0
           },
           {
            "bin_start": 0.9,
            "bin_end": 1,
            "count": 0
           }
          ]
         }
        },
        {
         "name": "koi_teq_err2",
         "dtype": "float64",
         "stats": {
          "unique_count": 0,
          "nan_count": 5,
          "min": null,
          "max": null,
          "histogram": [
           {
            "bin_start": 0,
            "bin_end": 0.1,
            "count": 0
           },
           {
            "bin_start": 0.1,
            "bin_end": 0.2,
            "count": 0
           },
           {
            "bin_start": 0.2,
            "bin_end": 0.30000000000000004,
            "count": 0
           },
           {
            "bin_start": 0.30000000000000004,
            "bin_end": 0.4,
            "count": 0
           },
           {
            "bin_start": 0.4,
            "bin_end": 0.5,
            "count": 0
           },
           {
            "bin_start": 0.5,
            "bin_end": 0.6000000000000001,
            "count": 0
           },
           {
            "bin_start": 0.6000000000000001,
            "bin_end": 0.7000000000000001,
            "count": 0
           },
           {
            "bin_start": 0.7000000000000001,
            "bin_end": 0.8,
            "count": 0
           },
           {
            "bin_start": 0.8,
            "bin_end": 0.9,
            "count": 0
           },
           {
            "bin_start": 0.9,
            "bin_end": 1,
            "count": 0
           }
          ]
         }
        },
        {
         "name": "koi_insol",
         "dtype": "float64",
         "stats": {
          "unique_count": 5,
          "nan_count": 0,
          "min": "9.11",
          "max": "926.16",
          "histogram": [
           {
            "bin_start": 9.11,
            "bin_end": 100.815,
            "count": 3
           },
           {
            "bin_start": 100.815,
            "bin_end": 192.51999999999998,
            "count": 0
           },
           {
            "bin_start": 192.51999999999998,
            "bin_end": 284.225,
            "count": 0
           },
           {
            "bin_start": 284.225,
            "bin_end": 375.93,
            "count": 0
           },
           {
            "bin_start": 375.93,
            "bin_end": 467.635,
            "count": 0
           },
           {
            "bin_start": 467.635,
            "bin_end": 559.34,
            "count": 0
           },
           {
            "bin_start": 559.34,
            "bin_end": 651.045,
            "count": 0
           },
           {
            "bin_start": 651.045,
            "bin_end": 742.75,
            "count": 0
           },
           {
            "bin_start": 742.75,
            "bin_end": 834.455,
            "count": 0
           },
           {
            "bin_start": 834.455,
            "bin_end": 926.16,
            "count": 2
           }
          ]
         }
        },
        {
         "name": "koi_insol_err1",
         "dtype": "float64",
         "stats": {
          "unique_count": 5,
          "nan_count": 0,
          "min": "2.87",
          "max": "874.33",
          "histogram": [
           {
            "bin_start": 2.87,
            "bin_end": 90.016,
            "count": 3
           },
           {
            "bin_start": 90.016,
            "bin_end": 177.162,
            "count": 0
           },
           {
            "bin_start": 177.162,
            "bin_end": 264.308,
            "count": 0
           },
           {
            "bin_start": 264.308,
            "bin_end": 351.454,
            "count": 0
           },
           {
            "bin_start": 351.454,
            "bin_end": 438.6,
            "count": 0
           },
           {
            "bin_start": 438.6,
            "bin_end": 525.746,
            "count": 0
           },
           {
            "bin_start": 525.746,
            "bin_end": 612.892,
            "count": 0
           },
           {
            "bin_start": 612.892,
            "bin_end": 700.038,
            "count": 1
           },
           {
            "bin_start": 700.038,
            "bin_end": 787.184,
            "count": 0
           },
           {
            "bin_start": 787.184,
            "bin_end": 874.33,
            "count": 1
           }
          ]
         }
        },
        {
         "name": "koi_insol_err2",
         "dtype": "float64",
         "stats": {
          "unique_count": 5,
          "nan_count": 0,
          "min": "-314.24",
          "max": "-1.62",
          "histogram": [
           {
            "bin_start": -314.24,
            "bin_end": -282.978,
            "count": 1
           },
           {
            "bin_start": -282.978,
            "bin_end": -251.716,
            "count": 0
           },
           {
            "bin_start": -251.716,
            "bin_end": -220.454,
            "count": 1
           },
           {
            "bin_start": -220.454,
            "bin_end": -189.192,
            "count": 0
           },
           {
            "bin_start": -189.192,
            "bin_end": -157.93,
            "count": 0
           },
           {
            "bin_start": -157.93,
            "bin_end": -126.668,
            "count": 0
           },
           {
            "bin_start": -126.668,
            "bin_end": -95.406,
            "count": 0
           },
           {
            "bin_start": -95.406,
            "bin_end": -64.144,
            "count": 0
           },
           {
            "bin_start": -64.144,
            "bin_end": -32.882000000000005,
            "count": 0
           },
           {
            "bin_start": -32.882000000000005,
            "bin_end": -1.62,
            "count": 3
           }
          ]
         }
        },
        {
         "name": "koi_model_snr",
         "dtype": "float64",
         "stats": {
          "unique_count": 5,
          "nan_count": 0,
          "min": "25.8",
          "max": "505.6",
          "histogram": [
           {
            "bin_start": 25.8,
            "bin_end": 73.78,
            "count": 3
           },
           {
            "bin_start": 73.78,
            "bin_end": 121.76,
            "count": 1
           },
           {
            "bin_start": 121.76,
            "bin_end": 169.74,
            "count": 0
           },
           {
            "bin_start": 169.74,
            "bin_end": 217.72000000000003,
            "count": 0
           },
           {
            "bin_start": 217.72000000000003,
            "bin_end": 265.70000000000005,
            "count": 0
           },
           {
            "bin_start": 265.70000000000005,
            "bin_end": 313.68,
            "count": 0
           },
           {
            "bin_start": 313.68,
            "bin_end": 361.66,
            "count": 0
           },
           {
            "bin_start": 361.66,
            "bin_end": 409.64000000000004,
            "count": 0
           },
           {
            "bin_start": 409.64000000000004,
            "bin_end": 457.62000000000006,
            "count": 0
           },
           {
            "bin_start": 457.62000000000006,
            "bin_end": 505.6,
            "count": 1
           }
          ]
         }
        },
        {
         "name": "koi_tce_plnt_num",
         "dtype": "float64",
         "stats": {
          "unique_count": 2,
          "nan_count": 0,
          "min": "1.0",
          "max": "2.0",
          "histogram": [
           {
            "bin_start": 1,
            "bin_end": 1.1,
            "count": 4
           },
           {
            "bin_start": 1.1,
            "bin_end": 1.2,
            "count": 0
           },
           {
            "bin_start": 1.2,
            "bin_end": 1.3,
            "count": 0
           },
           {
            "bin_start": 1.3,
            "bin_end": 1.4,
            "count": 0
           },
           {
            "bin_start": 1.4,
            "bin_end": 1.5,
            "count": 0
           },
           {
            "bin_start": 1.5,
            "bin_end": 1.6,
            "count": 0
           },
           {
            "bin_start": 1.6,
            "bin_end": 1.7000000000000002,
            "count": 0
           },
           {
            "bin_start": 1.7000000000000002,
            "bin_end": 1.8,
            "count": 0
           },
           {
            "bin_start": 1.8,
            "bin_end": 1.9,
            "count": 0
           },
           {
            "bin_start": 1.9,
            "bin_end": 2,
            "count": 1
           }
          ]
         }
        },
        {
         "name": "koi_tce_delivname",
         "dtype": "object",
         "stats": {
          "unique_count": 1,
          "nan_count": 0,
          "categories": [
           {
            "name": "q1_q17_dr25_tce",
            "count": 5
           }
          ]
         }
        },
        {
         "name": "koi_steff",
         "dtype": "float64",
         "stats": {
          "unique_count": 4,
          "nan_count": 0,
          "min": "5455.0",
          "max": "6031.0",
          "histogram": [
           {
            "bin_start": 5455,
            "bin_end": 5512.6,
            "count": 2
           },
           {
            "bin_start": 5512.6,
            "bin_end": 5570.2,
            "count": 0
           },
           {
            "bin_start": 5570.2,
            "bin_end": 5627.8,
            "count": 0
           },
           {
            "bin_start": 5627.8,
            "bin_end": 5685.4,
            "count": 0
           },
           {
            "bin_start": 5685.4,
            "bin_end": 5743,
            "count": 0
           },
           {
            "bin_start": 5743,
            "bin_end": 5800.6,
            "count": 0
           },
           {
            "bin_start": 5800.6,
            "bin_end": 5858.2,
            "count": 2
           },
           {
            "bin_start": 5858.2,
            "bin_end": 5915.8,
            "count": 0
           },
           {
            "bin_start": 5915.8,
            "bin_end": 5973.4,
            "count": 0
           },
           {
            "bin_start": 5973.4,
            "bin_end": 6031,
            "count": 1
           }
          ]
         }
        },
        {
         "name": "koi_steff_err1",
         "dtype": "float64",
         "stats": {
          "unique_count": 4,
          "nan_count": 0,
          "min": "81.0",
          "max": "169.0",
          "histogram": [
           {
            "bin_start": 81,
            "bin_end": 89.8,
            "count": 2
           },
           {
            "bin_start": 89.8,
            "bin_end": 98.6,
            "count": 0
           },
           {
            "bin_start": 98.6,
            "bin_end": 107.4,
            "count": 0
           },
           {
            "bin_start": 107.4,
            "bin_end": 116.2,
            "count": 0
           },
           {
            "bin_start": 116.2,
            "bin_end": 125,
            "count": 0
           },
           {
            "bin_start": 125,
            "bin_end": 133.8,
            "count": 0
           },
           {
            "bin_start": 133.8,
            "bin_end": 142.60000000000002,
            "count": 0
           },
           {
            "bin_start": 142.60000000000002,
            "bin_end": 151.4,
            "count": 0
           },
           {
            "bin_start": 151.4,
            "bin_end": 160.2,
            "count": 2
           },
           {
            "bin_start": 160.2,
            "bin_end": 169,
            "count": 1
           }
          ]
         }
        },
        {
         "name": "koi_steff_err2",
         "dtype": "float64",
         "stats": {
          "unique_count": 4,
          "nan_count": 0,
          "min": "-211.0",
          "max": "-81.0",
          "histogram": [
           {
            "bin_start": -211,
            "bin_end": -198,
            "count": 1
           },
           {
            "bin_start": -198,
            "bin_end": -185,
            "count": 0
           },
           {
            "bin_start": -185,
            "bin_end": -172,
            "count": 2
           },
           {
            "bin_start": -172,
            "bin_end": -159,
            "count": 0
           },
           {
            "bin_start": -159,
            "bin_end": -146,
            "count": 0
           },
           {
            "bin_start": -146,
            "bin_end": -133,
            "count": 0
           },
           {
            "bin_start": -133,
            "bin_end": -120,
            "count": 0
           },
           {
            "bin_start": -120,
            "bin_end": -107,
            "count": 0
           },
           {
            "bin_start": -107,
            "bin_end": -94,
            "count": 0
           },
           {
            "bin_start": -94,
            "bin_end": -81,
            "count": 2
           }
          ]
         }
        },
        {
         "name": "koi_slogg",
         "dtype": "float64",
         "stats": {
          "unique_count": 4,
          "nan_count": 0,
          "min": "4.438",
          "max": "4.564",
          "histogram": [
           {
            "bin_start": 4.438,
            "bin_end": 4.4506,
            "count": 1
           },
           {
            "bin_start": 4.4506,
            "bin_end": 4.4632,
            "count": 0
           },
           {
            "bin_start": 4.4632,
            "bin_end": 4.4758,
            "count": 2
           },
           {
            "bin_start": 4.4758,
            "bin_end": 4.4883999999999995,
            "count": 0
           },
           {
            "bin_start": 4.4883999999999995,
            "bin_end": 4.5009999999999994,
            "count": 0
           },
           {
            "bin_start": 4.5009999999999994,
            "bin_end": 4.5136,
            "count": 0
           },
           {
            "bin_start": 4.5136,
            "bin_end": 4.5262,
            "count": 0
           },
           {
            "bin_start": 4.5262,
            "bin_end": 4.5388,
            "count": 0
           },
           {
            "bin_start": 4.5388,
            "bin_end": 4.5514,
            "count": 1
           },
           {
            "bin_start": 4.5514,
            "bin_end": 4.564,
            "count": 1
           }
          ]
         }
        },
        {
         "name": "koi_slogg_err1",
         "dtype": "float64",
         "stats": {
          "unique_count": 4,
          "nan_count": 0,
          "min": "0.044",
          "max": "0.07",
          "histogram": [
           {
            "bin_start": 0.044,
            "bin_end": 0.046599999999999996,
            "count": 1
           },
           {
            "bin_start": 0.046599999999999996,
            "bin_end": 0.0492,
            "count": 0
           },
           {
            "bin_start": 0.0492,
            "bin_end": 0.0518,
            "count": 0
           },
           {
            "bin_start": 0.0518,
            "bin_end": 0.054400000000000004,
            "count": 1
           },
           {
            "bin_start": 0.054400000000000004,
            "bin_end": 0.057,
            "count": 0
           },
           {
            "bin_start": 0.057,
            "bin_end": 0.0596,
            "count": 0
           },
           {
            "bin_start": 0.0596,
            "bin_end": 0.062200000000000005,
            "count": 0
           },
           {
            "bin_start": 0.062200000000000005,
            "bin_end": 0.0648,
            "count": 2
           },
           {
            "bin_start": 0.0648,
            "bin_end": 0.0674,
            "count": 0
           },
           {
            "bin_start": 0.0674,
            "bin_end": 0.07,
            "count": 1
           }
          ]
         }
        },
        {
         "name": "koi_slogg_err2",
         "dtype": "float64",
         "stats": {
          "unique_count": 4,
          "nan_count": 0,
          "min": "-0.21",
          "max": "-0.096",
          "histogram": [
           {
            "bin_start": -0.21,
            "bin_end": -0.1986,
            "count": 1
           },
           {
            "bin_start": -0.1986,
            "bin_end": -0.1872,
            "count": 0
           },
           {
            "bin_start": -0.1872,
            "bin_end": -0.1758,
            "count": 1
           },
           {
            "bin_start": -0.1758,
            "bin_end": -0.1644,
            "count": 1
           },
           {
            "bin_start": -0.1644,
            "bin_end": -0.153,
            "count": 0
           },
           {
            "bin_start": -0.153,
            "bin_end": -0.1416,
            "count": 0
           },
           {
            "bin_start": -0.1416,
            "bin_end": -0.13019999999999998,
            "count": 0
           },
           {
            "bin_start": -0.13019999999999998,
            "bin_end": -0.1188,
            "count": 0
           },
           {
            "bin_start": -0.1188,
            "bin_end": -0.10740000000000001,
            "count": 0
           },
           {
            "bin_start": -0.10740000000000001,
            "bin_end": -0.096,
            "count": 2
           }
          ]
         }
        },
        {
         "name": "koi_srad",
         "dtype": "float64",
         "stats": {
          "unique_count": 4,
          "nan_count": 0,
          "min": "0.791",
          "max": "1.046",
          "histogram": [
           {
            "bin_start": 0.791,
            "bin_end": 0.8165,
            "count": 1
           },
           {
            "bin_start": 0.8165,
            "bin_end": 0.8420000000000001,
            "count": 0
           },
           {
            "bin_start": 0.8420000000000001,
            "bin_end": 0.8675,
            "count": 0
           },
           {
            "bin_start": 0.8675,
            "bin_end": 0.893,
            "count": 1
           },
           {
            "bin_start": 0.893,
            "bin_end": 0.9185000000000001,
            "count": 0
           },
           {
            "bin_start": 0.9185000000000001,
            "bin_end": 0.9440000000000001,
            "count": 2
           },
           {
            "bin_start": 0.9440000000000001,
            "bin_end": 0.9695,
            "count": 0
           },
           {
            "bin_start": 0.9695,
            "bin_end": 0.9950000000000001,
            "count": 0
           },
           {
            "bin_start": 0.9950000000000001,
            "bin_end": 1.0205,
            "count": 0
           },
           {
            "bin_start": 1.0205,
            "bin_end": 1.046,
            "count": 1
           }
          ]
         }
        },
        {
         "name": "koi_srad_err1",
         "dtype": "float64",
         "stats": {
          "unique_count": 4,
          "nan_count": 0,
          "min": "0.105",
          "max": "0.334",
          "histogram": [
           {
            "bin_start": 0.105,
            "bin_end": 0.1279,
            "count": 2
           },
           {
            "bin_start": 0.1279,
            "bin_end": 0.1508,
            "count": 0
           },
           {
            "bin_start": 0.1508,
            "bin_end": 0.17370000000000002,
            "count": 0
           },
           {
            "bin_start": 0.17370000000000002,
            "bin_end": 0.1966,
            "count": 0
           },
           {
            "bin_start": 0.1966,
            "bin_end": 0.21950000000000003,
            "count": 1
           },
           {
            "bin_start": 0.21950000000000003,
            "bin_end": 0.2424,
            "count": 1
           },
           {
            "bin_start": 0.2424,
            "bin_end": 0.26530000000000004,
            "count": 0
           },
           {
            "bin_start": 0.26530000000000004,
            "bin_end": 0.2882,
            "count": 0
           },
           {
            "bin_start": 0.2882,
            "bin_end": 0.31110000000000004,
            "count": 0
           },
           {
            "bin_start": 0.31110000000000004,
            "bin_end": 0.334,
            "count": 1
           }
          ]
         }
        },
        {
         "name": "koi_srad_err2",
         "dtype": "float64",
         "stats": {
          "unique_count": 4,
          "nan_count": 0,
          "min": "-0.133",
          "max": "-0.061",
          "histogram": [
           {
            "bin_start": -0.133,
            "bin_end": -0.1258,
            "count": 1
           },
           {
            "bin_start": -0.1258,
            "bin_end": -0.11860000000000001,
            "count": 0
           },
           {
            "bin_start": -0.11860000000000001,
            "bin_end": -0.1114,
            "count": 0
           },
           {
            "bin_start": -0.1114,
            "bin_end": -0.1042,
            "count": 0
           },
           {
            "bin_start": -0.1042,
            "bin_end": -0.097,
            "count": 0
           },
           {
            "bin_start": -0.097,
            "bin_end": -0.0898,
            "count": 0
           },
           {
            "bin_start": -0.0898,
            "bin_end": -0.0826,
            "count": 0
           },
           {
            "bin_start": -0.0826,
            "bin_end": -0.0754,
            "count": 1
           },
           {
            "bin_start": -0.0754,
            "bin_end": -0.0682,
            "count": 0
           },
           {
            "bin_start": -0.0682,
            "bin_end": -0.061,
            "count": 3
           }
          ]
         }
        },
        {
         "name": "ra",
         "dtype": "float64",
         "stats": {
          "unique_count": 4,
          "nan_count": 0,
          "min": "285.53461",
          "max": "297.00482",
          "histogram": [
           {
            "bin_start": 285.53461,
            "bin_end": 286.681631,
            "count": 1
           },
           {
            "bin_start": 286.681631,
            "bin_end": 287.828652,
            "count": 0
           },
           {
            "bin_start": 287.828652,
            "bin_end": 288.975673,
            "count": 1
           },
           {
            "bin_start": 288.975673,
            "bin_end": 290.12269399999997,
            "count": 0
           },
           {
            "bin_start": 290.12269399999997,
            "bin_end": 291.269715,
            "count": 0
           },
           {
            "bin_start": 291.269715,
            "bin_end": 292.416736,
            "count": 2
           },
           {
            "bin_start": 292.416736,
            "bin_end": 293.563757,
            "count": 0
           },
           {
            "bin_start": 293.563757,
            "bin_end": 294.710778,
            "count": 0
           },
           {
            "bin_start": 294.710778,
            "bin_end": 295.857799,
            "count": 0
           },
           {
            "bin_start": 295.857799,
            "bin_end": 297.00482,
            "count": 1
           }
          ]
         }
        },
        {
         "name": "dec",
         "dtype": "float64",
         "stats": {
          "unique_count": 4,
          "nan_count": 0,
          "min": "48.134129",
          "max": "48.28521",
          "histogram": [
           {
            "bin_start": 48.134129,
            "bin_end": 48.1492371,
            "count": 3
           },
           {
            "bin_start": 48.1492371,
            "bin_end": 48.1643452,
            "count": 0
           },
           {
            "bin_start": 48.1643452,
            "bin_end": 48.1794533,
            "count": 0
           },
           {
            "bin_start": 48.1794533,
            "bin_end": 48.1945614,
            "count": 0
           },
           {
            "bin_start": 48.1945614,
            "bin_end": 48.209669500000004,
            "count": 0
           },
           {
            "bin_start": 48.209669500000004,
            "bin_end": 48.2247776,
            "count": 0
           },
           {
            "bin_start": 48.2247776,
            "bin_end": 48.2398857,
            "count": 1
           },
           {
            "bin_start": 48.2398857,
            "bin_end": 48.2549938,
            "count": 0
           },
           {
            "bin_start": 48.2549938,
            "bin_end": 48.2701019,
            "count": 0
           },
           {
            "bin_start": 48.2701019,
            "bin_end": 48.28521,
            "count": 1
           }
          ]
         }
        },
        {
         "name": "koi_kepmag",
         "dtype": "float64",
         "stats": {
          "unique_count": 4,
          "nan_count": 0,
          "min": "15.347",
          "max": "15.597",
          "histogram": [
           {
            "bin_start": 15.347,
            "bin_end": 15.372,
            "count": 2
           },
           {
            "bin_start": 15.372,
            "bin_end": 15.397,
            "count": 0
           },
           {
            "bin_start": 15.397,
            "bin_end": 15.421999999999999,
            "count": 0
           },
           {
            "bin_start": 15.421999999999999,
            "bin_end": 15.447,
            "count": 1
           },
           {
            "bin_start": 15.447,
            "bin_end": 15.472,
            "count": 0
           },
           {
            "bin_start": 15.472,
            "bin_end": 15.497,
            "count": 0
           },
           {
            "bin_start": 15.497,
            "bin_end": 15.522,
            "count": 1
           },
           {
            "bin_start": 15.522,
            "bin_end": 15.546999999999999,
            "count": 0
           },
           {
            "bin_start": 15.546999999999999,
            "bin_end": 15.572,
            "count": 0
           },
           {
            "bin_start": 15.572,
            "bin_end": 15.597,
            "count": 1
           }
          ]
         }
        },
        {
         "name": "_deepnote_index_column",
         "dtype": "int64"
        }
       ],
       "rows": [
        {
         "kepid": 10797460,
         "kepoi_name": "K00752.01",
         "kepler_name": "Kepler-227 b",
         "koi_disposition": "CONFIRMED",
         "koi_pdisposition": "CANDIDATE",
         "koi_score": 1,
         "koi_fpflag_nt": 0,
         "koi_fpflag_ss": 0,
         "koi_fpflag_co": 0,
         "koi_fpflag_ec": 0,
         "koi_period": 9.48803557,
         "koi_period_err1": 0.0000278,
         "koi_period_err2": -0.0000278,
         "koi_time0bk": 170.53875,
         "koi_time0bk_err1": 0.00216,
         "koi_time0bk_err2": -0.00216,
         "koi_impact": 0.146,
         "koi_impact_err1": 0.318,
         "koi_impact_err2": -0.146,
         "koi_duration": 2.9575,
         "koi_duration_err1": 0.0819,
         "koi_duration_err2": -0.0819,
         "koi_depth": 616,
         "koi_depth_err1": 19.5,
         "koi_depth_err2": -19.5,
         "koi_prad": 2.26,
         "koi_prad_err1": 0.26,
         "koi_prad_err2": -0.15,
         "koi_teq": 793,
         "koi_teq_err1": "nan",
         "koi_teq_err2": "nan",
         "koi_insol": 93.59,
         "koi_insol_err1": 29.45,
         "koi_insol_err2": -16.65,
         "koi_model_snr": 35.8,
         "koi_tce_plnt_num": 1,
         "koi_tce_delivname": "q1_q17_dr25_tce",
         "koi_steff": 5455,
         "koi_steff_err1": 81,
         "koi_steff_err2": -81,
         "koi_slogg": 4.467,
         "koi_slogg_err1": 0.064,
         "koi_slogg_err2": -0.096,
         "koi_srad": 0.927,
         "koi_srad_err1": 0.105,
         "koi_srad_err2": -0.061,
         "ra": 291.93423,
         "dec": 48.141651,
         "koi_kepmag": 15.347,
         "_deepnote_index_column": 0
        },
        {
         "kepid": 10797460,
         "kepoi_name": "K00752.02",
         "kepler_name": "Kepler-227 c",
         "koi_disposition": "CONFIRMED",
         "koi_pdisposition": "CANDIDATE",
         "koi_score": 0.969,
         "koi_fpflag_nt": 0,
         "koi_fpflag_ss": 0,
         "koi_fpflag_co": 0,
         "koi_fpflag_ec": 0,
         "koi_period": 54.4183827,
         "koi_period_err1": 0.000248,
         "koi_period_err2": -0.000248,
         "koi_time0bk": 162.51384,
         "koi_time0bk_err1": 0.00352,
         "koi_time0bk_err2": -0.00352,
         "koi_impact": 0.586,
         "koi_impact_err1": 0.059,
         "koi_impact_err2": -0.443,
         "koi_duration": 4.507,
         "koi_duration_err1": 0.116,
         "koi_duration_err2": -0.116,
         "koi_depth": 875,
         "koi_depth_err1": 35.5,
         "koi_depth_err2": -35.5,
         "koi_prad": 2.83,
         "koi_prad_err1": 0.32,
         "koi_prad_err2": -0.19,
         "koi_teq": 443,
         "koi_teq_err1": "nan",
         "koi_teq_err2": "nan",
         "koi_insol": 9.11,
         "koi_insol_err1": 2.87,
         "koi_insol_err2": -1.62,
         "koi_model_snr": 25.8,
         "koi_tce_plnt_num": 2,
         "koi_tce_delivname": "q1_q17_dr25_tce",
         "koi_steff": 5455,
         "koi_steff_err1": 81,
         "koi_steff_err2": -81,
         "koi_slogg": 4.467,
         "koi_slogg_err1": 0.064,
         "koi_slogg_err2": -0.096,
         "koi_srad": 0.927,
         "koi_srad_err1": 0.105,
         "koi_srad_err2": -0.061,
         "ra": 291.93423,
         "dec": 48.141651,
         "koi_kepmag": 15.347,
         "_deepnote_index_column": 1
        },
        {
         "kepid": 10811496,
         "kepoi_name": "K00753.01",
         "kepler_name": "nan",
         "koi_disposition": "CANDIDATE",
         "koi_pdisposition": "CANDIDATE",
         "koi_score": 0,
         "koi_fpflag_nt": 0,
         "koi_fpflag_ss": 0,
         "koi_fpflag_co": 0,
         "koi_fpflag_ec": 0,
         "koi_period": 19.89913995,
         "koi_period_err1": 0.0000149,
         "koi_period_err2": -0.0000149,
         "koi_time0bk": 175.850252,
         "koi_time0bk_err1": 0.000581,
         "koi_time0bk_err2": -0.000581,
         "koi_impact": 0.969,
         "koi_impact_err1": 5.126,
         "koi_impact_err2": -0.077,
         "koi_duration": 1.7822,
         "koi_duration_err1": 0.0341,
         "koi_duration_err2": -0.0341,
         "koi_depth": 10800,
         "koi_depth_err1": 171,
         "koi_depth_err2": -171,
         "koi_prad": 14.6,
         "koi_prad_err1": 3.92,
         "koi_prad_err2": -1.31,
         "koi_teq": 638,
         "koi_teq_err1": "nan",
         "koi_teq_err2": "nan",
         "koi_insol": 39.3,
         "koi_insol_err1": 31.04,
         "koi_insol_err2": -10.49,
         "koi_model_snr": 76.3,
         "koi_tce_plnt_num": 1,
         "koi_tce_delivname": "q1_q17_dr25_tce",
         "koi_steff": 5853,
         "koi_steff_err1": 158,
         "koi_steff_err2": -176,
         "koi_slogg": 4.544,
         "koi_slogg_err1": 0.044,
         "koi_slogg_err2": -0.176,
         "koi_srad": 0.868,
         "koi_srad_err1": 0.233,
         "koi_srad_err2": -0.078,
         "ra": 297.00482,
         "dec": 48.134129,
         "koi_kepmag": 15.436,
         "_deepnote_index_column": 2
        },
        {
         "kepid": 10848459,
         "kepoi_name": "K00754.01",
         "kepler_name": "nan",
         "koi_disposition": "FALSE POSITIVE",
         "koi_pdisposition": "FALSE POSITIVE",
         "koi_score": 0,
         "koi_fpflag_nt": 0,
         "koi_fpflag_ss": 1,
         "koi_fpflag_co": 0,
         "koi_fpflag_ec": 0,
         "koi_period": 1.736952453,
         "koi_period_err1": 2.63e-7,
         "koi_period_err2": -2.63e-7,
         "koi_time0bk": 170.307565,
         "koi_time0bk_err1": 0.000115,
         "koi_time0bk_err2": -0.000115,
         "koi_impact": 1.276,
         "koi_impact_err1": 0.115,
         "koi_impact_err2": -0.092,
         "koi_duration": 2.40641,
         "koi_duration_err1": 0.00537,
         "koi_duration_err2": -0.00537,
         "koi_depth": 8080,
         "koi_depth_err1": 12.8,
         "koi_depth_err2": -12.8,
         "koi_prad": 33.46,
         "koi_prad_err1": 8.5,
         "koi_prad_err2": -2.83,
         "koi_teq": 1395,
         "koi_teq_err1": "nan",
         "koi_teq_err2": "nan",
         "koi_insol": 891.96,
         "koi_insol_err1": 668.95,
         "koi_insol_err2": -230.35,
         "koi_model_snr": 505.6,
         "koi_tce_plnt_num": 1,
         "koi_tce_delivname": "q1_q17_dr25_tce",
         "koi_steff": 5805,
         "koi_steff_err1": 157,
         "koi_steff_err2": -174,
         "koi_slogg": 4.564,
         "koi_slogg_err1": 0.053,
         "koi_slogg_err2": -0.168,
         "koi_srad": 0.791,
         "koi_srad_err1": 0.201,
         "koi_srad_err2": -0.067,
         "ra": 285.53461,
         "dec": 48.28521,
         "koi_kepmag": 15.597,
         "_deepnote_index_column": 3
        },
        {
         "kepid": 10854555,
         "kepoi_name": "K00755.01",
         "kepler_name": "Kepler-664 b",
         "koi_disposition": "CONFIRMED",
         "koi_pdisposition": "CANDIDATE",
         "koi_score": 1,
         "koi_fpflag_nt": 0,
         "koi_fpflag_ss": 0,
         "koi_fpflag_co": 0,
         "koi_fpflag_ec": 0,
         "koi_period": 2.525591777,
         "koi_period_err1": 0.00000376,
         "koi_period_err2": -0.00000376,
         "koi_time0bk": 171.59555,
         "koi_time0bk_err1": 0.00113,
         "koi_time0bk_err2": -0.00113,
         "koi_impact": 0.701,
         "koi_impact_err1": 0.235,
         "koi_impact_err2": -0.478,
         "koi_duration": 1.6545,
         "koi_duration_err1": 0.042,
         "koi_duration_err2": -0.042,
         "koi_depth": 603,
         "koi_depth_err1": 16.9,
         "koi_depth_err2": -16.9,
         "koi_prad": 2.75,
         "koi_prad_err1": 0.88,
         "koi_prad_err2": -0.35,
         "koi_teq": 1406,
         "koi_teq_err1": "nan",
         "koi_teq_err2": "nan",
         "koi_insol": 926.16,
         "koi_insol_err1": 874.33,
         "koi_insol_err2": -314.24,
         "koi_model_snr": 40.9,
         "koi_tce_plnt_num": 1,
         "koi_tce_delivname": "q1_q17_dr25_tce",
         "koi_steff": 6031,
         "koi_steff_err1": 169,
         "koi_steff_err2": -211,
         "koi_slogg": 4.438,
         "koi_slogg_err1": 0.07,
         "koi_slogg_err2": -0.21,
         "koi_srad": 1.046,
         "koi_srad_err1": 0.334,
         "koi_srad_err2": -0.133,
         "ra": 288.75488,
         "dec": 48.2262,
         "koi_kepmag": 15.509,
         "_deepnote_index_column": 4
        }
       ]
      },
      "text/plain": "      kepid kepoi_name   kepler_name koi_disposition koi_pdisposition  \\\n0  10797460  K00752.01  Kepler-227 b       CONFIRMED        CANDIDATE   \n1  10797460  K00752.02  Kepler-227 c       CONFIRMED        CANDIDATE   \n2  10811496  K00753.01           NaN       CANDIDATE        CANDIDATE   \n3  10848459  K00754.01           NaN  FALSE POSITIVE   FALSE POSITIVE   \n4  10854555  K00755.01  Kepler-664 b       CONFIRMED        CANDIDATE   \n\n   koi_score  koi_fpflag_nt  koi_fpflag_ss  koi_fpflag_co  koi_fpflag_ec  ...  \\\n0      1.000              0              0              0              0  ...   \n1      0.969              0              0              0              0  ...   \n2      0.000              0              0              0              0  ...   \n3      0.000              0              1              0              0  ...   \n4      1.000              0              0              0              0  ...   \n\n   koi_steff_err2  koi_slogg  koi_slogg_err1  koi_slogg_err2  koi_srad  \\\n0           -81.0      4.467           0.064          -0.096     0.927   \n1           -81.0      4.467           0.064          -0.096     0.927   \n2          -176.0      4.544           0.044          -0.176     0.868   \n3          -174.0      4.564           0.053          -0.168     0.791   \n4          -211.0      4.438           0.070          -0.210     1.046   \n\n   koi_srad_err1  koi_srad_err2         ra        dec  koi_kepmag  \n0          0.105         -0.061  291.93423  48.141651      15.347  \n1          0.105         -0.061  291.93423  48.141651      15.347  \n2          0.233         -0.078  297.00482  48.134129      15.436  \n3          0.201         -0.067  285.53461  48.285210      15.597  \n4          0.334         -0.133  288.75488  48.226200      15.509  \n\n[5 rows x 49 columns]",
      "text/html": "<div>\n<style scoped>\n    .dataframe tbody tr th:only-of-type {\n        vertical-align: middle;\n    }\n\n    .dataframe tbody tr th {\n        vertical-align: top;\n    }\n\n    .dataframe thead th {\n        text-align: right;\n    }\n</style>\n<table border=\"1\" class=\"dataframe\">\n  <thead>\n    <tr style=\"text-align: right;\">\n      <th></th>\n      <th>kepid</th>\n      <th>kepoi_name</th>\n      <th>kepler_name</th>\n      <th>koi_disposition</th>\n      <th>koi_pdisposition</th>\n      <th>koi_score</th>\n      <th>koi_fpflag_nt</th>\n      <th>koi_fpflag_ss</th>\n      <th>koi_fpflag_co</th>\n      <th>koi_fpflag_ec</th>\n      <th>...</th>\n      <th>koi_steff_err2</th>\n      <th>koi_slogg</th>\n      <th>koi_slogg_err1</th>\n      <th>koi_slogg_err2</th>\n      <th>koi_srad</th>\n      <th>koi_srad_err1</th>\n      <th>koi_srad_err2</th>\n      <th>ra</th>\n      <th>dec</th>\n      <th>koi_kepmag</th>\n    </tr>\n  </thead>\n  <tbody>\n    <tr>\n      <th>0</th>\n      <td>10797460</td>\n      <td>K00752.01</td>\n      <td>Kepler-227 b</td>\n      <td>CONFIRMED</td>\n      <td>CANDIDATE</td>\n      <td>1.000</td>\n      <td>0</td>\n      <td>0</td>\n      <td>0</td>\n      <td>0</td>\n      <td>...</td>\n      <td>-81.0</td>\n      <td>4.467</td>\n      <td>0.064</td>\n      <td>-0.096</td>\n      <td>0.927</td>\n      <td>0.105</td>\n      <td>-0.061</td>\n      <td>291.93423</td>\n      <td>48.141651</td>\n      <td>15.347</td>\n    </tr>\n    <tr>\n      <th>1</th>\n      <td>10797460</td>\n      <td>K00752.02</td>\n      <td>Kepler-227 c</td>\n      <td>CONFIRMED</td>\n      <td>CANDIDATE</td>\n      <td>0.969</td>\n      <td>0</td>\n      <td>0</td>\n      <td>0</td>\n      <td>0</td>\n      <td>...</td>\n      <td>-81.0</td>\n      <td>4.467</td>\n      <td>0.064</td>\n      <td>-0.096</td>\n      <td>0.927</td>\n      <td>0.105</td>\n      <td>-0.061</td>\n      <td>291.93423</td>\n      <td>48.141651</td>\n      <td>15.347</td>\n    </tr>\n    <tr>\n      <th>2</th>\n      <td>10811496</td>\n      <td>K00753.01</td>\n      <td>NaN</td>\n      <td>CANDIDATE</td>\n      <td>CANDIDATE</td>\n      <td>0.000</td>\n      <td>0</td>\n      <td>0</td>\n      <td>0</td>\n      <td>0</td>\n      <td>...</td>\n      <td>-176.0</td>\n      <td>4.544</td>\n      <td>0.044</td>\n      <td>-0.176</td>\n      <td>0.868</td>\n      <td>0.233</td>\n      <td>-0.078</td>\n      <td>297.00482</td>\n      <td>48.134129</td>\n      <td>15.436</td>\n    </tr>\n    <tr>\n      <th>3</th>\n      <td>10848459</td>\n      <td>K00754.01</td>\n      <td>NaN</td>\n      <td>FALSE POSITIVE</td>\n      <td>FALSE POSITIVE</td>\n      <td>0.000</td>\n      <td>0</td>\n      <td>1</td>\n      <td>0</td>\n      <td>0</td>\n      <td>...</td>\n      <td>-174.0</td>\n      <td>4.564</td>\n      <td>0.053</td>\n      <td>-0.168</td>\n      <td>0.791</td>\n      <td>0.201</td>\n      <td>-0.067</td>\n      <td>285.53461</td>\n      <td>48.285210</td>\n      <td>15.597</td>\n    </tr>\n    <tr>\n      <th>4</th>\n      <td>10854555</td>\n      <td>K00755.01</td>\n      <td>Kepler-664 b</td>\n      <td>CONFIRMED</td>\n      <td>CANDIDATE</td>\n      <td>1.000</td>\n      <td>0</td>\n      <td>0</td>\n      <td>0</td>\n      <td>0</td>\n      <td>...</td>\n      <td>-211.0</td>\n      <td>4.438</td>\n      <td>0.070</td>\n      <td>-0.210</td>\n      <td>1.046</td>\n      <td>0.334</td>\n      <td>-0.133</td>\n      <td>288.75488</td>\n      <td>48.226200</td>\n      <td>15.509</td>\n    </tr>\n  </tbody>\n</table>\n<p>5 rows × 49 columns</p>\n</div>"
     },
     "metadata": {}
    }
   ],
   "execution_count": null
  },
  {
   "cell_type": "markdown",
   "source": "Let's rename some columns, the dataset came with a more descriptive column naming scheme so were just gonna use that, and condense some of the names",
   "metadata": {
    "formattedRanges": [],
    "cell_id": "5574699cb90a41178f90c22f232f2a71",
    "tags": [],
    "is_collapsed": false,
    "deepnote_cell_type": "text-cell-p"
   }
  },
  {
   "cell_type": "code",
   "metadata": {
    "cell_id": "66281269213b4767ae8d5e95cfce167c",
    "tags": [],
    "deepnote_to_be_reexecuted": false,
    "source_hash": "f5bdc401",
    "execution_start": 1656771872711,
    "execution_millis": 3,
    "deepnote_cell_type": "code",
    "deepnote_cell_height": 909
   },
   "source": "planet = planet.rename(columns={\n'koi_disposition':'archiveDisposition',\n'koi_pdisposition':'DispositionUsingKeplerData',\n'koi_score':'DispositionScore',\n'koi_fpflag_nt':'NotTransit-LikeFalsePositiveFlag',\n'koi_fpflag_co':'CentroidOffsetFalsePositiveFlag',\n'koi_fpflag_ec':'EphemerisMatchIndicatesContaminationFalsePositiveFlag',\n'koi_period':'OrbitalPeriod(days)',\n'koi_period_err1':'OrbitalPeriodUpperUnc(days)',\n'koi_period_err2':'OrbitalPeriodLowerUnc(days)',\n'koi_time0bk':'TransitEpoch(BKJD)',\n'koi_time0bk_err1':'TransitEpochUpperUnc(BKJD)',\n'koi_time0bk_err2':'TransitEpochLowerUnc(BKJD)',\n'koi_impact':'ImpactParameter',\n'koi_impact_err1':'ImpactParameterUpperUnc',\n'koi_impact_err2':'ImpactParameterLowerUnc',\n'koi_duration':'TransitDuration(hrs)',\n'koi_duration_err1':'TransitDurationUpperUnc(hrs)',\n'koi_duration_err2':'TransitDurationLowerUnc(hrs)',\n'koi_depth':'TransitDepth(ppm)',\n'koi_depth_err1':'TransitDepthUpperUnc(ppm)',\n'koi_depth_err2':'TransitDepthLowerUnc(ppm)',\n'koi_prad':'PlanetaryRadius(Earthradii)',\n'koi_prad_err1':'PlanetaryRadiusUpperUnc(Earthradii)',\n'koi_prad_err2':'PlanetaryRadiusLowerUnc(Earthradii)',\n'koi_teq':'EquilibriumTemperature(K)',\n'koi_teq_err1':'EquilibriumTemperatureUpperUnc(K)',\n'koi_teq_err2':'EquilibriumTemperatureLowerUnc(K)',\n'koi_insol':'InsolationFlux(Earthflux)',\n'koi_insol_err1':'InsolationFluxUpperUnc(Earthflux)',\n'koi_insol_err2':'InsolationFluxLowerUnc(Earthflux)',\n'koi_model_snr':'TransitSignal-to-Nois',\n'koi_tce_plnt_num':'TCEPlanetNumber',\n'koi_tce_delivname':'TCEDeliver',\n'koi_steff':'EffectiveTemperature(K)',\n'koi_steff_err1':'EffectiveTemperatureUpperUnc(K)',\n'koi_steff_err2':'EffectiveTemperatureLowerUnc(K)',\n'koi_slogg':'SurfaceGravity(log10(cm/s**2))',\n'koi_slogg_err1':'SurfaceGravityUpperUnc(log10(cm/s**2))',\n'koi_slogg_err2':'SurfaceGravityLowerUnc(log10(cm/s**2))',\n'koi_srad':'Radius(Solarradii)',\n'koi_srad_err1':'RadiusUpperUnc(Solarradii)',\n'koi_srad_err2':'RadiusLowerUnc(Solarradii)',\n'ra':'RA(decimaldegrees)',\n'dec':'Dec(decimaldegrees)',\n'koi_kepmag':'Kepler-band(mag)'\n})",
   "outputs": [],
   "execution_count": null
  },
  {
   "cell_type": "markdown",
   "source": "Full disclosure, I am not an astronomer, I just think space is cool. I need to define somethings for my own sake.\n- Unc means uncertainty, most measures have uncertainty upper and lower bounds, so perhaps we can incorporate this in some way.\n- BKJD is the Barycentric Kepler Julian Date which is the Julian Date (JD) corrected for differences in the Earth's position with respect to the barycentre of the Solar System.\n    - The Julian Date is very simple, Jan 1st is the number 001, and december 31st is the number 365, July 29th(my birthday) is 210.\n    - The barycentre of the Solar System is the center of mass of every object in the solar system combined. Our solar system's barycenter constantly changes position. Its position depends on where the planets are in their orbits. The solar system's barycenter can range from being near the center of the sun to being outside the surface of the sun.\n- Solar Radius - Solar radius is a unit of distance used to express the size of stars in astronomy relative to the Sun. The solar radius is usually defined as the radius to the layer in the Sun's photosphere. 1 solar radius = 6.957 * 10^8 meters\n- Earth flux, I couldn't find too much on this one but, solar flux just outside Earth's atmosphere is referred to as the “solar constant” and has a value of approximately 1373 W m− 2, where solar flux is a measure of how much light energy is being radiated in a given area.\n\nYou learn something new everyday!",
   "metadata": {
    "cell_id": "932ee6f21a4a464cbd29d6a56eafe20f",
    "tags": [],
    "deepnote_cell_type": "markdown",
    "deepnote_cell_height": 442.25
   }
  },
  {
   "cell_type": "code",
   "metadata": {
    "cell_id": "a69453a15c6a45fba5600433be469f6e",
    "tags": [],
    "deepnote_to_be_reexecuted": false,
    "source_hash": "c8bb929d",
    "execution_start": 1656771872748,
    "execution_millis": 361,
    "deepnote_cell_type": "code",
    "deepnote_cell_height": 156.5625,
    "deepnote_output_heights": [
     59.5625
    ]
   },
   "source": "planet[\"DispositionUsingKeplerData\"].value_counts()",
   "outputs": [
    {
     "output_type": "execute_result",
     "execution_count": 5,
     "data": {
      "text/plain": "FALSE POSITIVE    4847\nCANDIDATE         4717\nName: DispositionUsingKeplerData, dtype: int64"
     },
     "metadata": {}
    }
   ],
   "execution_count": null
  },
  {
   "cell_type": "code",
   "metadata": {
    "cell_id": "f4129e77d71b4d2b85b96cc72e412f48",
    "tags": [],
    "deepnote_to_be_reexecuted": false,
    "source_hash": "38a64f96",
    "execution_start": 1656771872749,
    "execution_millis": 0,
    "deepnote_cell_type": "code",
    "deepnote_cell_height": 81
   },
   "source": "planet[\"PossibleExoplanet\"] = planet[\"DispositionUsingKeplerData\"].apply(lambda x : 1 if x == 'CANDIDATE' else 0)",
   "outputs": [],
   "execution_count": null
  },
  {
   "cell_type": "code",
   "metadata": {
    "cell_id": "1ca18eb3d18f48919d4b9ebcd6dc5817",
    "tags": [],
    "deepnote_to_be_reexecuted": false,
    "source_hash": "46009444",
    "execution_start": 1656771872750,
    "execution_millis": 360,
    "deepnote_cell_type": "code",
    "deepnote_cell_height": 175.75,
    "deepnote_output_heights": [
     78.75
    ]
   },
   "source": "planet[\"archiveDisposition\"].value_counts()",
   "outputs": [
    {
     "output_type": "execute_result",
     "execution_count": 7,
     "data": {
      "text/plain": "FALSE POSITIVE    4839\nCONFIRMED         2668\nCANDIDATE         2057\nName: archiveDisposition, dtype: int64"
     },
     "metadata": {}
    }
   ],
   "execution_count": null
  },
  {
   "cell_type": "code",
   "metadata": {
    "cell_id": "f6a9e48a39fa464b8ff124782f370c3f",
    "tags": [],
    "deepnote_to_be_reexecuted": false,
    "source_hash": "8dbb4165",
    "execution_start": 1656771872755,
    "execution_millis": 3,
    "deepnote_cell_type": "code",
    "deepnote_cell_height": 81
   },
   "source": "planet[\"ConfirmedExoplanet\"] = planet[\"archiveDisposition\"].apply(lambda x: 2 if x == 'CONFIRMED' else 1 if x == 'CANDIDATE' else 0 )",
   "outputs": [],
   "execution_count": null
  },
  {
   "cell_type": "code",
   "metadata": {
    "cell_id": "b10003bbab4249bfbaa7f6e4708cf754",
    "tags": [],
    "deepnote_to_be_reexecuted": false,
    "source_hash": "14c5581",
    "execution_start": 1656771872776,
    "execution_millis": 351,
    "deepnote_cell_type": "code",
    "deepnote_cell_height": 412
   },
   "source": "planet.head()",
   "outputs": [
    {
     "output_type": "execute_result",
     "execution_count": 9,
     "data": {
      "application/vnd.deepnote.dataframe.v3+json": {
       "column_count": 51,
       "row_count": 5,
       "columns": [
        {
         "name": "kepid",
         "dtype": "int64",
         "stats": {
          "unique_count": 4,
          "nan_count": 0,
          "min": "10797460",
          "max": "10854555",
          "histogram": [
           {
            "bin_start": 10797460,
            "bin_end": 10803169.5,
            "count": 2
           },
           {
            "bin_start": 10803169.5,
            "bin_end": 10808879,
            "count": 0
           },
           {
            "bin_start": 10808879,
            "bin_end": 10814588.5,
            "count": 1
           },
           {
            "bin_start": 10814588.5,
            "bin_end": 10820298,
            "count": 0
           },
           {
            "bin_start": 10820298,
            "bin_end": 10826007.5,
            "count": 0
           },
           {
            "bin_start": 10826007.5,
            "bin_end": 10831717,
            "count": 0
           },
           {
            "bin_start": 10831717,
            "bin_end": 10837426.5,
            "count": 0
           },
           {
            "bin_start": 10837426.5,
            "bin_end": 10843136,
            "count": 0
           },
           {
            "bin_start": 10843136,
            "bin_end": 10848845.5,
            "count": 1
           },
           {
            "bin_start": 10848845.5,
            "bin_end": 10854555,
            "count": 1
           }
          ]
         }
        },
        {
         "name": "kepoi_name",
         "dtype": "object",
         "stats": {
          "unique_count": 5,
          "nan_count": 0,
          "categories": [
           {
            "name": "K00752.01",
            "count": 1
           },
           {
            "name": "K00752.02",
            "count": 1
           },
           {
            "name": "3 others",
            "count": 3
           }
          ]
         }
        },
        {
         "name": "kepler_name",
         "dtype": "object",
         "stats": {
          "unique_count": 3,
          "nan_count": 2,
          "categories": [
           {
            "name": "Kepler-227 b",
            "count": 1
           },
           {
            "name": "2 others",
            "count": 2
           },
           {
            "name": "Missing",
            "count": 2
           }
          ]
         }
        },
        {
         "name": "archiveDisposition",
         "dtype": "object",
         "stats": {
          "unique_count": 3,
          "nan_count": 0,
          "categories": [
           {
            "name": "CONFIRMED",
            "count": 3
           },
           {
            "name": "CANDIDATE",
            "count": 1
           },
           {
            "name": "FALSE POSITIVE",
            "count": 1
           }
          ]
         }
        },
        {
         "name": "DispositionUsingKeplerData",
         "dtype": "object",
         "stats": {
          "unique_count": 2,
          "nan_count": 0,
          "categories": [
           {
            "name": "CANDIDATE",
            "count": 4
           },
           {
            "name": "FALSE POSITIVE",
            "count": 1
           }
          ]
         }
        },
        {
         "name": "DispositionScore",
         "dtype": "float64",
         "stats": {
          "unique_count": 3,
          "nan_count": 0,
          "min": "0.0",
          "max": "1.0",
          "histogram": [
           {
            "bin_start": 0,
            "bin_end": 0.1,
            "count": 2
           },
           {
            "bin_start": 0.1,
            "bin_end": 0.2,
            "count": 0
           },
           {
            "bin_start": 0.2,
            "bin_end": 0.30000000000000004,
            "count": 0
           },
           {
            "bin_start": 0.30000000000000004,
            "bin_end": 0.4,
            "count": 0
           },
           {
            "bin_start": 0.4,
            "bin_end": 0.5,
            "count": 0
           },
           {
            "bin_start": 0.5,
            "bin_end": 0.6000000000000001,
            "count": 0
           },
           {
            "bin_start": 0.6000000000000001,
            "bin_end": 0.7000000000000001,
            "count": 0
           },
           {
            "bin_start": 0.7000000000000001,
            "bin_end": 0.8,
            "count": 0
           },
           {
            "bin_start": 0.8,
            "bin_end": 0.9,
            "count": 0
           },
           {
            "bin_start": 0.9,
            "bin_end": 1,
            "count": 3
           }
          ]
         }
        },
        {
         "name": "NotTransit-LikeFalsePositiveFlag",
         "dtype": "int64",
         "stats": {
          "unique_count": 1,
          "nan_count": 0,
          "min": "0",
          "max": "0",
          "histogram": [
           {
            "bin_start": -0.5,
            "bin_end": -0.4,
            "count": 0
           },
           {
            "bin_start": -0.4,
            "bin_end": -0.3,
            "count": 0
           },
           {
            "bin_start": -0.3,
            "bin_end": -0.19999999999999996,
            "count": 0
           },
           {
            "bin_start": -0.19999999999999996,
            "bin_end": -0.09999999999999998,
            "count": 0
           },
           {
            "bin_start": -0.09999999999999998,
            "bin_end": 0,
            "count": 0
           },
           {
            "bin_start": 0,
            "bin_end": 0.10000000000000009,
            "count": 5
           },
           {
            "bin_start": 0.10000000000000009,
            "bin_end": 0.20000000000000007,
            "count": 0
           },
           {
            "bin_start": 0.20000000000000007,
            "bin_end": 0.30000000000000004,
            "count": 0
           },
           {
            "bin_start": 0.30000000000000004,
            "bin_end": 0.4,
            "count": 0
           },
           {
            "bin_start": 0.4,
            "bin_end": 0.5,
            "count": 0
           }
          ]
         }
        },
        {
         "name": "koi_fpflag_ss",
         "dtype": "int64",
         "stats": {
          "unique_count": 2,
          "nan_count": 0,
          "min": "0",
          "max": "1",
          "histogram": [
           {
            "bin_start": 0,
            "bin_end": 0.1,
            "count": 4
           },
           {
            "bin_start": 0.1,
            "bin_end": 0.2,
            "count": 0
           },
           {
            "bin_start": 0.2,
            "bin_end": 0.30000000000000004,
            "count": 0
           },
           {
            "bin_start": 0.30000000000000004,
            "bin_end": 0.4,
            "count": 0
           },
           {
            "bin_start": 0.4,
            "bin_end": 0.5,
            "count": 0
           },
           {
            "bin_start": 0.5,
            "bin_end": 0.6000000000000001,
            "count": 0
           },
           {
            "bin_start": 0.6000000000000001,
            "bin_end": 0.7000000000000001,
            "count": 0
           },
           {
            "bin_start": 0.7000000000000001,
            "bin_end": 0.8,
            "count": 0
           },
           {
            "bin_start": 0.8,
            "bin_end": 0.9,
            "count": 0
           },
           {
            "bin_start": 0.9,
            "bin_end": 1,
            "count": 1
           }
          ]
         }
        },
        {
         "name": "CentroidOffsetFalsePositiveFlag",
         "dtype": "int64",
         "stats": {
          "unique_count": 1,
          "nan_count": 0,
          "min": "0",
          "max": "0",
          "histogram": [
           {
            "bin_start": -0.5,
            "bin_end": -0.4,
            "count": 0
           },
           {
            "bin_start": -0.4,
            "bin_end": -0.3,
            "count": 0
           },
           {
            "bin_start": -0.3,
            "bin_end": -0.19999999999999996,
            "count": 0
           },
           {
            "bin_start": -0.19999999999999996,
            "bin_end": -0.09999999999999998,
            "count": 0
           },
           {
            "bin_start": -0.09999999999999998,
            "bin_end": 0,
            "count": 0
           },
           {
            "bin_start": 0,
            "bin_end": 0.10000000000000009,
            "count": 5
           },
           {
            "bin_start": 0.10000000000000009,
            "bin_end": 0.20000000000000007,
            "count": 0
           },
           {
            "bin_start": 0.20000000000000007,
            "bin_end": 0.30000000000000004,
            "count": 0
           },
           {
            "bin_start": 0.30000000000000004,
            "bin_end": 0.4,
            "count": 0
           },
           {
            "bin_start": 0.4,
            "bin_end": 0.5,
            "count": 0
           }
          ]
         }
        },
        {
         "name": "EphemerisMatchIndicatesContaminationFalsePositiveFlag",
         "dtype": "int64",
         "stats": {
          "unique_count": 1,
          "nan_count": 0,
          "min": "0",
          "max": "0",
          "histogram": [
           {
            "bin_start": -0.5,
            "bin_end": -0.4,
            "count": 0
           },
           {
            "bin_start": -0.4,
            "bin_end": -0.3,
            "count": 0
           },
           {
            "bin_start": -0.3,
            "bin_end": -0.19999999999999996,
            "count": 0
           },
           {
            "bin_start": -0.19999999999999996,
            "bin_end": -0.09999999999999998,
            "count": 0
           },
           {
            "bin_start": -0.09999999999999998,
            "bin_end": 0,
            "count": 0
           },
           {
            "bin_start": 0,
            "bin_end": 0.10000000000000009,
            "count": 5
           },
           {
            "bin_start": 0.10000000000000009,
            "bin_end": 0.20000000000000007,
            "count": 0
           },
           {
            "bin_start": 0.20000000000000007,
            "bin_end": 0.30000000000000004,
            "count": 0
           },
           {
            "bin_start": 0.30000000000000004,
            "bin_end": 0.4,
            "count": 0
           },
           {
            "bin_start": 0.4,
            "bin_end": 0.5,
            "count": 0
           }
          ]
         }
        },
        {
         "name": "OrbitalPeriod(days)",
         "dtype": "float64",
         "stats": {
          "unique_count": 5,
          "nan_count": 0,
          "min": "1.736952453",
          "max": "54.4183827",
          "histogram": [
           {
            "bin_start": 1.736952453,
            "bin_end": 7.0050954777,
            "count": 2
           },
           {
            "bin_start": 7.0050954777,
            "bin_end": 12.273238502400002,
            "count": 1
           },
           {
            "bin_start": 12.273238502400002,
            "bin_end": 17.5413815271,
            "count": 0
           },
           {
            "bin_start": 17.5413815271,
            "bin_end": 22.809524551800003,
            "count": 1
           },
           {
            "bin_start": 22.809524551800003,
            "bin_end": 28.077667576500005,
            "count": 0
           },
           {
            "bin_start": 28.077667576500005,
            "bin_end": 33.3458106012,
            "count": 0
           },
           {
            "bin_start": 33.3458106012,
            "bin_end": 38.6139536259,
            "count": 0
           },
           {
            "bin_start": 38.6139536259,
            "bin_end": 43.882096650600005,
            "count": 0
           },
           {
            "bin_start": 43.882096650600005,
            "bin_end": 49.15023967530001,
            "count": 0
           },
           {
            "bin_start": 49.15023967530001,
            "bin_end": 54.4183827,
            "count": 1
           }
          ]
         }
        },
        {
         "name": "OrbitalPeriodUpperUnc(days)",
         "dtype": "float64",
         "stats": {
          "unique_count": 5,
          "nan_count": 0,
          "min": "2.63e-07",
          "max": "0.000248",
          "histogram": [
           {
            "bin_start": 2.63e-7,
            "bin_end": 0.0000250367,
            "count": 3
           },
           {
            "bin_start": 0.0000250367,
            "bin_end": 0.0000498104,
            "count": 1
           },
           {
            "bin_start": 0.0000498104,
            "bin_end": 0.0000745841,
            "count": 0
           },
           {
            "bin_start": 0.0000745841,
            "bin_end": 0.00009935779999999999,
            "count": 0
           },
           {
            "bin_start": 0.00009935779999999999,
            "bin_end": 0.0001241315,
            "count": 0
           },
           {
            "bin_start": 0.0001241315,
            "bin_end": 0.0001489052,
            "count": 0
           },
           {
            "bin_start": 0.0001489052,
            "bin_end": 0.00017367889999999998,
            "count": 0
           },
           {
            "bin_start": 0.00017367889999999998,
            "bin_end": 0.0001984526,
            "count": 0
           },
           {
            "bin_start": 0.0001984526,
            "bin_end": 0.0002232263,
            "count": 0
           },
           {
            "bin_start": 0.0002232263,
            "bin_end": 0.000248,
            "count": 1
           }
          ]
         }
        },
        {
         "name": "OrbitalPeriodLowerUnc(days)",
         "dtype": "float64",
         "stats": {
          "unique_count": 5,
          "nan_count": 0,
          "min": "-0.000248",
          "max": "-2.63e-07",
          "histogram": [
           {
            "bin_start": -0.000248,
            "bin_end": -0.0002232263,
            "count": 1
           },
           {
            "bin_start": -0.0002232263,
            "bin_end": -0.00019845260000000002,
            "count": 0
           },
           {
            "bin_start": -0.00019845260000000002,
            "bin_end": -0.0001736789,
            "count": 0
           },
           {
            "bin_start": -0.0001736789,
            "bin_end": -0.00014890520000000003,
            "count": 0
           },
           {
            "bin_start": -0.00014890520000000003,
            "bin_end": -0.00012413150000000002,
            "count": 0
           },
           {
            "bin_start": -0.00012413150000000002,
            "bin_end": -0.0000993578,
            "count": 0
           },
           {
            "bin_start": -0.0000993578,
            "bin_end": -0.00007458410000000002,
            "count": 0
           },
           {
            "bin_start": -0.00007458410000000002,
            "bin_end": -0.000049810400000000014,
            "count": 0
           },
           {
            "bin_start": -0.000049810400000000014,
            "bin_end": -0.000025036700000000004,
            "count": 1
           },
           {
            "bin_start": -0.000025036700000000004,
            "bin_end": -2.63e-7,
            "count": 3
           }
          ]
         }
        },
        {
         "name": "TransitEpoch(BKJD)",
         "dtype": "float64",
         "stats": {
          "unique_count": 5,
          "nan_count": 0,
          "min": "162.51384",
          "max": "175.850252",
          "histogram": [
           {
            "bin_start": 162.51384,
            "bin_end": 163.8474812,
            "count": 1
           },
           {
            "bin_start": 163.8474812,
            "bin_end": 165.1811224,
            "count": 0
           },
           {
            "bin_start": 165.1811224,
            "bin_end": 166.51476359999998,
            "count": 0
           },
           {
            "bin_start": 166.51476359999998,
            "bin_end": 167.8484048,
            "count": 0
           },
           {
            "bin_start": 167.8484048,
            "bin_end": 169.182046,
            "count": 0
           },
           {
            "bin_start": 169.182046,
            "bin_end": 170.5156872,
            "count": 1
           },
           {
            "bin_start": 170.5156872,
            "bin_end": 171.8493284,
            "count": 2
           },
           {
            "bin_start": 171.8493284,
            "bin_end": 173.1829696,
            "count": 0
           },
           {
            "bin_start": 173.1829696,
            "bin_end": 174.51661080000002,
            "count": 0
           },
           {
            "bin_start": 174.51661080000002,
            "bin_end": 175.850252,
            "count": 1
           }
          ]
         }
        },
        {
         "name": "TransitEpochUpperUnc(BKJD)",
         "dtype": "float64",
         "stats": {
          "unique_count": 5,
          "nan_count": 0,
          "min": "0.000115",
          "max": "0.00352",
          "histogram": [
           {
            "bin_start": 0.000115,
            "bin_end": 0.00045549999999999996,
            "count": 1
           },
           {
            "bin_start": 0.00045549999999999996,
            "bin_end": 0.0007959999999999999,
            "count": 1
           },
           {
            "bin_start": 0.0007959999999999999,
            "bin_end": 0.0011365,
            "count": 1
           },
           {
            "bin_start": 0.0011365,
            "bin_end": 0.001477,
            "count": 0
           },
           {
            "bin_start": 0.001477,
            "bin_end": 0.0018175,
            "count": 0
           },
           {
            "bin_start": 0.0018175,
            "bin_end": 0.0021579999999999998,
            "count": 0
           },
           {
            "bin_start": 0.0021579999999999998,
            "bin_end": 0.0024985,
            "count": 1
           },
           {
            "bin_start": 0.0024985,
            "bin_end": 0.002839,
            "count": 0
           },
           {
            "bin_start": 0.002839,
            "bin_end": 0.0031795,
            "count": 0
           },
           {
            "bin_start": 0.0031795,
            "bin_end": 0.00352,
            "count": 1
           }
          ]
         }
        },
        {
         "name": "TransitEpochLowerUnc(BKJD)",
         "dtype": "float64",
         "stats": {
          "unique_count": 5,
          "nan_count": 0,
          "min": "-0.00352",
          "max": "-0.000115",
          "histogram": [
           {
            "bin_start": -0.00352,
            "bin_end": -0.0031795,
            "count": 1
           },
           {
            "bin_start": -0.0031795,
            "bin_end": -0.0028390000000000004,
            "count": 0
           },
           {
            "bin_start": -0.0028390000000000004,
            "bin_end": -0.0024985000000000003,
            "count": 0
           },
           {
            "bin_start": -0.0024985000000000003,
            "bin_end": -0.002158,
            "count": 1
           },
           {
            "bin_start": -0.002158,
            "bin_end": -0.0018175,
            "count": 0
           },
           {
            "bin_start": -0.0018175,
            "bin_end": -0.0014770000000000004,
            "count": 0
           },
           {
            "bin_start": -0.0014770000000000004,
            "bin_end": -0.0011365000000000004,
            "count": 0
           },
           {
            "bin_start": -0.0011365000000000004,
            "bin_end": -0.0007960000000000003,
            "count": 1
           },
           {
            "bin_start": -0.0007960000000000003,
            "bin_end": -0.0004555000000000002,
            "count": 1
           },
           {
            "bin_start": -0.0004555000000000002,
            "bin_end": -0.000115,
            "count": 1
           }
          ]
         }
        },
        {
         "name": "ImpactParameter",
         "dtype": "float64",
         "stats": {
          "unique_count": 5,
          "nan_count": 0,
          "min": "0.146",
          "max": "1.276",
          "histogram": [
           {
            "bin_start": 0.146,
            "bin_end": 0.259,
            "count": 1
           },
           {
            "bin_start": 0.259,
            "bin_end": 0.372,
            "count": 0
           },
           {
            "bin_start": 0.372,
            "bin_end": 0.4850000000000001,
            "count": 0
           },
           {
            "bin_start": 0.4850000000000001,
            "bin_end": 0.5980000000000001,
            "count": 1
           },
           {
            "bin_start": 0.5980000000000001,
            "bin_end": 0.7110000000000001,
            "count": 1
           },
           {
            "bin_start": 0.7110000000000001,
            "bin_end": 0.8240000000000002,
            "count": 0
           },
           {
            "bin_start": 0.8240000000000002,
            "bin_end": 0.9370000000000002,
            "count": 0
           },
           {
            "bin_start": 0.9370000000000002,
            "bin_end": 1.05,
            "count": 1
           },
           {
            "bin_start": 1.05,
            "bin_end": 1.163,
            "count": 0
           },
           {
            "bin_start": 1.163,
            "bin_end": 1.276,
            "count": 1
           }
          ]
         }
        },
        {
         "name": "ImpactParameterUpperUnc",
         "dtype": "float64",
         "stats": {
          "unique_count": 5,
          "nan_count": 0,
          "min": "0.059",
          "max": "5.126",
          "histogram": [
           {
            "bin_start": 0.059,
            "bin_end": 0.5657000000000001,
            "count": 4
           },
           {
            "bin_start": 0.5657000000000001,
            "bin_end": 1.0724,
            "count": 0
           },
           {
            "bin_start": 1.0724,
            "bin_end": 1.5791000000000002,
            "count": 0
           },
           {
            "bin_start": 1.5791000000000002,
            "bin_end": 2.0858000000000003,
            "count": 0
           },
           {
            "bin_start": 2.0858000000000003,
            "bin_end": 2.5925000000000002,
            "count": 0
           },
           {
            "bin_start": 2.5925000000000002,
            "bin_end": 3.0992000000000006,
            "count": 0
           },
           {
            "bin_start": 3.0992000000000006,
            "bin_end": 3.6059000000000005,
            "count": 0
           },
           {
            "bin_start": 3.6059000000000005,
            "bin_end": 4.1126000000000005,
            "count": 0
           },
           {
            "bin_start": 4.1126000000000005,
            "bin_end": 4.619300000000001,
            "count": 0
           },
           {
            "bin_start": 4.619300000000001,
            "bin_end": 5.126,
            "count": 1
           }
          ]
         }
        },
        {
         "name": "ImpactParameterLowerUnc",
         "dtype": "float64",
         "stats": {
          "unique_count": 5,
          "nan_count": 0,
          "min": "-0.478",
          "max": "-0.077",
          "histogram": [
           {
            "bin_start": -0.478,
            "bin_end": -0.43789999999999996,
            "count": 2
           },
           {
            "bin_start": -0.43789999999999996,
            "bin_end": -0.3978,
            "count": 0
           },
           {
            "bin_start": -0.3978,
            "bin_end": -0.3577,
            "count": 0
           },
           {
            "bin_start": -0.3577,
            "bin_end": -0.3176,
            "count": 0
           },
           {
            "bin_start": -0.3176,
            "bin_end": -0.27749999999999997,
            "count": 0
           },
           {
            "bin_start": -0.27749999999999997,
            "bin_end": -0.2374,
            "count": 0
           },
           {
            "bin_start": -0.2374,
            "bin_end": -0.19730000000000003,
            "count": 0
           },
           {
            "bin_start": -0.19730000000000003,
            "bin_end": -0.1572,
            "count": 0
           },
           {
            "bin_start": -0.1572,
            "bin_end": -0.11709999999999998,
            "count": 1
           },
           {
            "bin_start": -0.11709999999999998,
            "bin_end": -0.077,
            "count": 2
           }
          ]
         }
        },
        {
         "name": "TransitDuration(hrs)",
         "dtype": "float64",
         "stats": {
          "unique_count": 5,
          "nan_count": 0,
          "min": "1.6545",
          "max": "4.507",
          "histogram": [
           {
            "bin_start": 1.6545,
            "bin_end": 1.93975,
            "count": 2
           },
           {
            "bin_start": 1.93975,
            "bin_end": 2.225,
            "count": 0
           },
           {
            "bin_start": 2.225,
            "bin_end": 2.51025,
            "count": 1
           },
           {
            "bin_start": 2.51025,
            "bin_end": 2.7954999999999997,
            "count": 0
           },
           {
            "bin_start": 2.7954999999999997,
            "bin_end": 3.08075,
            "count": 1
           },
           {
            "bin_start": 3.08075,
            "bin_end": 3.3659999999999997,
            "count": 0
           },
           {
            "bin_start": 3.3659999999999997,
            "bin_end": 3.6512499999999997,
            "count": 0
           },
           {
            "bin_start": 3.6512499999999997,
            "bin_end": 3.9364999999999997,
            "count": 0
           },
           {
            "bin_start": 3.9364999999999997,
            "bin_end": 4.22175,
            "count": 0
           },
           {
            "bin_start": 4.22175,
            "bin_end": 4.507,
            "count": 1
           }
          ]
         }
        },
        {
         "name": "TransitDurationUpperUnc(hrs)",
         "dtype": "float64",
         "stats": {
          "unique_count": 5,
          "nan_count": 0,
          "min": "0.00537",
          "max": "0.116",
          "histogram": [
           {
            "bin_start": 0.00537,
            "bin_end": 0.016433,
            "count": 1
           },
           {
            "bin_start": 0.016433,
            "bin_end": 0.027496,
            "count": 0
           },
           {
            "bin_start": 0.027496,
            "bin_end": 0.038558999999999996,
            "count": 1
           },
           {
            "bin_start": 0.038558999999999996,
            "bin_end": 0.049622,
            "count": 1
           },
           {
            "bin_start": 0.049622,
            "bin_end": 0.060685,
            "count": 0
           },
           {
            "bin_start": 0.060685,
            "bin_end": 0.07174799999999999,
            "count": 0
           },
           {
            "bin_start": 0.07174799999999999,
            "bin_end": 0.082811,
            "count": 1
           },
           {
            "bin_start": 0.082811,
            "bin_end": 0.093874,
            "count": 0
           },
           {
            "bin_start": 0.093874,
            "bin_end": 0.104937,
            "count": 0
           },
           {
            "bin_start": 0.104937,
            "bin_end": 0.116,
            "count": 1
           }
          ]
         }
        },
        {
         "name": "TransitDurationLowerUnc(hrs)",
         "dtype": "float64",
         "stats": {
          "unique_count": 5,
          "nan_count": 0,
          "min": "-0.116",
          "max": "-0.00537",
          "histogram": [
           {
            "bin_start": -0.116,
            "bin_end": -0.104937,
            "count": 1
           },
           {
            "bin_start": -0.104937,
            "bin_end": -0.09387400000000001,
            "count": 0
           },
           {
            "bin_start": -0.09387400000000001,
            "bin_end": -0.08281100000000001,
            "count": 0
           },
           {
            "bin_start": -0.08281100000000001,
            "bin_end": -0.071748,
            "count": 1
           },
           {
            "bin_start": -0.071748,
            "bin_end": -0.060685,
            "count": 0
           },
           {
            "bin_start": -0.060685,
            "bin_end": -0.04962200000000001,
            "count": 0
           },
           {
            "bin_start": -0.04962200000000001,
            "bin_end": -0.03855900000000001,
            "count": 1
           },
           {
            "bin_start": -0.03855900000000001,
            "bin_end": -0.027496000000000007,
            "count": 1
           },
           {
            "bin_start": -0.027496000000000007,
            "bin_end": -0.016433000000000003,
            "count": 0
           },
           {
            "bin_start": -0.016433000000000003,
            "bin_end": -0.00537,
            "count": 1
           }
          ]
         }
        },
        {
         "name": "TransitDepth(ppm)",
         "dtype": "float64",
         "stats": {
          "unique_count": 5,
          "nan_count": 0,
          "min": "603.0",
          "max": "10800.0",
          "histogram": [
           {
            "bin_start": 603,
            "bin_end": 1622.7,
            "count": 3
           },
           {
            "bin_start": 1622.7,
            "bin_end": 2642.4,
            "count": 0
           },
           {
            "bin_start": 2642.4,
            "bin_end": 3662.1000000000004,
            "count": 0
           },
           {
            "bin_start": 3662.1000000000004,
            "bin_end": 4681.8,
            "count": 0
           },
           {
            "bin_start": 4681.8,
            "bin_end": 5701.5,
            "count": 0
           },
           {
            "bin_start": 5701.5,
            "bin_end": 6721.200000000001,
            "count": 0
           },
           {
            "bin_start": 6721.200000000001,
            "bin_end": 7740.900000000001,
            "count": 0
           },
           {
            "bin_start": 7740.900000000001,
            "bin_end": 8760.6,
            "count": 1
           },
           {
            "bin_start": 8760.6,
            "bin_end": 9780.300000000001,
            "count": 0
           },
           {
            "bin_start": 9780.300000000001,
            "bin_end": 10800,
            "count": 1
           }
          ]
         }
        },
        {
         "name": "TransitDepthUpperUnc(ppm)",
         "dtype": "float64",
         "stats": {
          "unique_count": 5,
          "nan_count": 0,
          "min": "12.8",
          "max": "171.0",
          "histogram": [
           {
            "bin_start": 12.8,
            "bin_end": 28.619999999999997,
            "count": 3
           },
           {
            "bin_start": 28.619999999999997,
            "bin_end": 44.44,
            "count": 1
           },
           {
            "bin_start": 44.44,
            "bin_end": 60.25999999999999,
            "count": 0
           },
           {
            "bin_start": 60.25999999999999,
            "bin_end": 76.08,
            "count": 0
           },
           {
            "bin_start": 76.08,
            "bin_end": 91.89999999999999,
            "count": 0
           },
           {
            "bin_start": 91.89999999999999,
            "bin_end": 107.71999999999998,
            "count": 0
           },
           {
            "bin_start": 107.71999999999998,
            "bin_end": 123.53999999999999,
            "count": 0
           },
           {
            "bin_start": 123.53999999999999,
            "bin_end": 139.35999999999999,
            "count": 0
           },
           {
            "bin_start": 139.35999999999999,
            "bin_end": 155.18,
            "count": 0
           },
           {
            "bin_start": 155.18,
            "bin_end": 171,
            "count": 1
           }
          ]
         }
        },
        {
         "name": "TransitDepthLowerUnc(ppm)",
         "dtype": "float64",
         "stats": {
          "unique_count": 5,
          "nan_count": 0,
          "min": "-171.0",
          "max": "-12.8",
          "histogram": [
           {
            "bin_start": -171,
            "bin_end": -155.18,
            "count": 1
           },
           {
            "bin_start": -155.18,
            "bin_end": -139.36,
            "count": 0
           },
           {
            "bin_start": -139.36,
            "bin_end": -123.54,
            "count": 0
           },
           {
            "bin_start": -123.54,
            "bin_end": -107.72,
            "count": 0
           },
           {
            "bin_start": -107.72,
            "bin_end": -91.9,
            "count": 0
           },
           {
            "bin_start": -91.9,
            "bin_end": -76.08000000000001,
            "count": 0
           },
           {
            "bin_start": -76.08000000000001,
            "bin_end": -60.260000000000005,
            "count": 0
           },
           {
            "bin_start": -60.260000000000005,
            "bin_end": -44.44000000000001,
            "count": 0
           },
           {
            "bin_start": -44.44000000000001,
            "bin_end": -28.620000000000005,
            "count": 1
           },
           {
            "bin_start": -28.620000000000005,
            "bin_end": -12.8,
            "count": 3
           }
          ]
         }
        },
        {
         "name": "PlanetaryRadius(Earthradii)",
         "dtype": "float64",
         "stats": {
          "unique_count": 5,
          "nan_count": 0,
          "min": "2.26",
          "max": "33.46",
          "histogram": [
           {
            "bin_start": 2.26,
            "bin_end": 5.38,
            "count": 3
           },
           {
            "bin_start": 5.38,
            "bin_end": 8.5,
            "count": 0
           },
           {
            "bin_start": 8.5,
            "bin_end": 11.62,
            "count": 0
           },
           {
            "bin_start": 11.62,
            "bin_end": 14.74,
            "count": 1
           },
           {
            "bin_start": 14.74,
            "bin_end": 17.86,
            "count": 0
           },
           {
            "bin_start": 17.86,
            "bin_end": 20.979999999999997,
            "count": 0
           },
           {
            "bin_start": 20.979999999999997,
            "bin_end": 24.1,
            "count": 0
           },
           {
            "bin_start": 24.1,
            "bin_end": 27.22,
            "count": 0
           },
           {
            "bin_start": 27.22,
            "bin_end": 30.340000000000003,
            "count": 0
           },
           {
            "bin_start": 30.340000000000003,
            "bin_end": 33.46,
            "count": 1
           }
          ]
         }
        },
        {
         "name": "PlanetaryRadiusUpperUnc(Earthradii)",
         "dtype": "float64",
         "stats": {
          "unique_count": 5,
          "nan_count": 0,
          "min": "0.26",
          "max": "8.5",
          "histogram": [
           {
            "bin_start": 0.26,
            "bin_end": 1.084,
            "count": 3
           },
           {
            "bin_start": 1.084,
            "bin_end": 1.9080000000000001,
            "count": 0
           },
           {
            "bin_start": 1.9080000000000001,
            "bin_end": 2.732,
            "count": 0
           },
           {
            "bin_start": 2.732,
            "bin_end": 3.556,
            "count": 0
           },
           {
            "bin_start": 3.556,
            "bin_end": 4.38,
            "count": 1
           },
           {
            "bin_start": 4.38,
            "bin_end": 5.204000000000001,
            "count": 0
           },
           {
            "bin_start": 5.204000000000001,
            "bin_end": 6.0280000000000005,
            "count": 0
           },
           {
            "bin_start": 6.0280000000000005,
            "bin_end": 6.852,
            "count": 0
           },
           {
            "bin_start": 6.852,
            "bin_end": 7.676,
            "count": 0
           },
           {
            "bin_start": 7.676,
            "bin_end": 8.5,
            "count": 1
           }
          ]
         }
        },
        {
         "name": "PlanetaryRadiusLowerUnc(Earthradii)",
         "dtype": "float64",
         "stats": {
          "unique_count": 5,
          "nan_count": 0,
          "min": "-2.83",
          "max": "-0.15",
          "histogram": [
           {
            "bin_start": -2.83,
            "bin_end": -2.5620000000000003,
            "count": 1
           },
           {
            "bin_start": -2.5620000000000003,
            "bin_end": -2.294,
            "count": 0
           },
           {
            "bin_start": -2.294,
            "bin_end": -2.026,
            "count": 0
           },
           {
            "bin_start": -2.026,
            "bin_end": -1.758,
            "count": 0
           },
           {
            "bin_start": -1.758,
            "bin_end": -1.49,
            "count": 0
           },
           {
            "bin_start": -1.49,
            "bin_end": -1.222,
            "count": 1
           },
           {
            "bin_start": -1.222,
            "bin_end": -0.954,
            "count": 0
           },
           {
            "bin_start": -0.954,
            "bin_end": -0.6859999999999999,
            "count": 0
           },
           {
            "bin_start": -0.6859999999999999,
            "bin_end": -0.41800000000000015,
            "count": 0
           },
           {
            "bin_start": -0.41800000000000015,
            "bin_end": -0.15,
            "count": 3
           }
          ]
         }
        },
        {
         "name": "EquilibriumTemperature(K)",
         "dtype": "float64",
         "stats": {
          "unique_count": 5,
          "nan_count": 0,
          "min": "443.0",
          "max": "1406.0",
          "histogram": [
           {
            "bin_start": 443,
            "bin_end": 539.3,
            "count": 1
           },
           {
            "bin_start": 539.3,
            "bin_end": 635.6,
            "count": 0
           },
           {
            "bin_start": 635.6,
            "bin_end": 731.9,
            "count": 1
           },
           {
            "bin_start": 731.9,
            "bin_end": 828.2,
            "count": 1
           },
           {
            "bin_start": 828.2,
            "bin_end": 924.5,
            "count": 0
           },
           {
            "bin_start": 924.5,
            "bin_end": 1020.8,
            "count": 0
           },
           {
            "bin_start": 1020.8,
            "bin_end": 1117.1,
            "count": 0
           },
           {
            "bin_start": 1117.1,
            "bin_end": 1213.4,
            "count": 0
           },
           {
            "bin_start": 1213.4,
            "bin_end": 1309.6999999999998,
            "count": 0
           },
           {
            "bin_start": 1309.6999999999998,
            "bin_end": 1406,
            "count": 2
           }
          ]
         }
        },
        {
         "name": "EquilibriumTemperatureUpperUnc(K)",
         "dtype": "float64",
         "stats": {
          "unique_count": 0,
          "nan_count": 5,
          "min": null,
          "max": null,
          "histogram": [
           {
            "bin_start": 0,
            "bin_end": 0.1,
            "count": 0
           },
           {
            "bin_start": 0.1,
            "bin_end": 0.2,
            "count": 0
           },
           {
            "bin_start": 0.2,
            "bin_end": 0.30000000000000004,
            "count": 0
           },
           {
            "bin_start": 0.30000000000000004,
            "bin_end": 0.4,
            "count": 0
           },
           {
            "bin_start": 0.4,
            "bin_end": 0.5,
            "count": 0
           },
           {
            "bin_start": 0.5,
            "bin_end": 0.6000000000000001,
            "count": 0
           },
           {
            "bin_start": 0.6000000000000001,
            "bin_end": 0.7000000000000001,
            "count": 0
           },
           {
            "bin_start": 0.7000000000000001,
            "bin_end": 0.8,
            "count": 0
           },
           {
            "bin_start": 0.8,
            "bin_end": 0.9,
            "count": 0
           },
           {
            "bin_start": 0.9,
            "bin_end": 1,
            "count": 0
           }
          ]
         }
        },
        {
         "name": "EquilibriumTemperatureLowerUnc(K)",
         "dtype": "float64",
         "stats": {
          "unique_count": 0,
          "nan_count": 5,
          "min": null,
          "max": null,
          "histogram": [
           {
            "bin_start": 0,
            "bin_end": 0.1,
            "count": 0
           },
           {
            "bin_start": 0.1,
            "bin_end": 0.2,
            "count": 0
           },
           {
            "bin_start": 0.2,
            "bin_end": 0.30000000000000004,
            "count": 0
           },
           {
            "bin_start": 0.30000000000000004,
            "bin_end": 0.4,
            "count": 0
           },
           {
            "bin_start": 0.4,
            "bin_end": 0.5,
            "count": 0
           },
           {
            "bin_start": 0.5,
            "bin_end": 0.6000000000000001,
            "count": 0
           },
           {
            "bin_start": 0.6000000000000001,
            "bin_end": 0.7000000000000001,
            "count": 0
           },
           {
            "bin_start": 0.7000000000000001,
            "bin_end": 0.8,
            "count": 0
           },
           {
            "bin_start": 0.8,
            "bin_end": 0.9,
            "count": 0
           },
           {
            "bin_start": 0.9,
            "bin_end": 1,
            "count": 0
           }
          ]
         }
        },
        {
         "name": "InsolationFlux(Earthflux)",
         "dtype": "float64",
         "stats": {
          "unique_count": 5,
          "nan_count": 0,
          "min": "9.11",
          "max": "926.16",
          "histogram": [
           {
            "bin_start": 9.11,
            "bin_end": 100.815,
            "count": 3
           },
           {
            "bin_start": 100.815,
            "bin_end": 192.51999999999998,
            "count": 0
           },
           {
            "bin_start": 192.51999999999998,
            "bin_end": 284.225,
            "count": 0
           },
           {
            "bin_start": 284.225,
            "bin_end": 375.93,
            "count": 0
           },
           {
            "bin_start": 375.93,
            "bin_end": 467.635,
            "count": 0
           },
           {
            "bin_start": 467.635,
            "bin_end": 559.34,
            "count": 0
           },
           {
            "bin_start": 559.34,
            "bin_end": 651.045,
            "count": 0
           },
           {
            "bin_start": 651.045,
            "bin_end": 742.75,
            "count": 0
           },
           {
            "bin_start": 742.75,
            "bin_end": 834.455,
            "count": 0
           },
           {
            "bin_start": 834.455,
            "bin_end": 926.16,
            "count": 2
           }
          ]
         }
        },
        {
         "name": "InsolationFluxUpperUnc(Earthflux)",
         "dtype": "float64",
         "stats": {
          "unique_count": 5,
          "nan_count": 0,
          "min": "2.87",
          "max": "874.33",
          "histogram": [
           {
            "bin_start": 2.87,
            "bin_end": 90.016,
            "count": 3
           },
           {
            "bin_start": 90.016,
            "bin_end": 177.162,
            "count": 0
           },
           {
            "bin_start": 177.162,
            "bin_end": 264.308,
            "count": 0
           },
           {
            "bin_start": 264.308,
            "bin_end": 351.454,
            "count": 0
           },
           {
            "bin_start": 351.454,
            "bin_end": 438.6,
            "count": 0
           },
           {
            "bin_start": 438.6,
            "bin_end": 525.746,
            "count": 0
           },
           {
            "bin_start": 525.746,
            "bin_end": 612.892,
            "count": 0
           },
           {
            "bin_start": 612.892,
            "bin_end": 700.038,
            "count": 1
           },
           {
            "bin_start": 700.038,
            "bin_end": 787.184,
            "count": 0
           },
           {
            "bin_start": 787.184,
            "bin_end": 874.33,
            "count": 1
           }
          ]
         }
        },
        {
         "name": "InsolationFluxLowerUnc(Earthflux)",
         "dtype": "float64",
         "stats": {
          "unique_count": 5,
          "nan_count": 0,
          "min": "-314.24",
          "max": "-1.62",
          "histogram": [
           {
            "bin_start": -314.24,
            "bin_end": -282.978,
            "count": 1
           },
           {
            "bin_start": -282.978,
            "bin_end": -251.716,
            "count": 0
           },
           {
            "bin_start": -251.716,
            "bin_end": -220.454,
            "count": 1
           },
           {
            "bin_start": -220.454,
            "bin_end": -189.192,
            "count": 0
           },
           {
            "bin_start": -189.192,
            "bin_end": -157.93,
            "count": 0
           },
           {
            "bin_start": -157.93,
            "bin_end": -126.668,
            "count": 0
           },
           {
            "bin_start": -126.668,
            "bin_end": -95.406,
            "count": 0
           },
           {
            "bin_start": -95.406,
            "bin_end": -64.144,
            "count": 0
           },
           {
            "bin_start": -64.144,
            "bin_end": -32.882000000000005,
            "count": 0
           },
           {
            "bin_start": -32.882000000000005,
            "bin_end": -1.62,
            "count": 3
           }
          ]
         }
        },
        {
         "name": "TransitSignal-to-Nois",
         "dtype": "float64",
         "stats": {
          "unique_count": 5,
          "nan_count": 0,
          "min": "25.8",
          "max": "505.6",
          "histogram": [
           {
            "bin_start": 25.8,
            "bin_end": 73.78,
            "count": 3
           },
           {
            "bin_start": 73.78,
            "bin_end": 121.76,
            "count": 1
           },
           {
            "bin_start": 121.76,
            "bin_end": 169.74,
            "count": 0
           },
           {
            "bin_start": 169.74,
            "bin_end": 217.72000000000003,
            "count": 0
           },
           {
            "bin_start": 217.72000000000003,
            "bin_end": 265.70000000000005,
            "count": 0
           },
           {
            "bin_start": 265.70000000000005,
            "bin_end": 313.68,
            "count": 0
           },
           {
            "bin_start": 313.68,
            "bin_end": 361.66,
            "count": 0
           },
           {
            "bin_start": 361.66,
            "bin_end": 409.64000000000004,
            "count": 0
           },
           {
            "bin_start": 409.64000000000004,
            "bin_end": 457.62000000000006,
            "count": 0
           },
           {
            "bin_start": 457.62000000000006,
            "bin_end": 505.6,
            "count": 1
           }
          ]
         }
        },
        {
         "name": "TCEPlanetNumber",
         "dtype": "float64",
         "stats": {
          "unique_count": 2,
          "nan_count": 0,
          "min": "1.0",
          "max": "2.0",
          "histogram": [
           {
            "bin_start": 1,
            "bin_end": 1.1,
            "count": 4
           },
           {
            "bin_start": 1.1,
            "bin_end": 1.2,
            "count": 0
           },
           {
            "bin_start": 1.2,
            "bin_end": 1.3,
            "count": 0
           },
           {
            "bin_start": 1.3,
            "bin_end": 1.4,
            "count": 0
           },
           {
            "bin_start": 1.4,
            "bin_end": 1.5,
            "count": 0
           },
           {
            "bin_start": 1.5,
            "bin_end": 1.6,
            "count": 0
           },
           {
            "bin_start": 1.6,
            "bin_end": 1.7000000000000002,
            "count": 0
           },
           {
            "bin_start": 1.7000000000000002,
            "bin_end": 1.8,
            "count": 0
           },
           {
            "bin_start": 1.8,
            "bin_end": 1.9,
            "count": 0
           },
           {
            "bin_start": 1.9,
            "bin_end": 2,
            "count": 1
           }
          ]
         }
        },
        {
         "name": "TCEDeliver",
         "dtype": "object",
         "stats": {
          "unique_count": 1,
          "nan_count": 0,
          "categories": [
           {
            "name": "q1_q17_dr25_tce",
            "count": 5
           }
          ]
         }
        },
        {
         "name": "EffectiveTemperature(K)",
         "dtype": "float64",
         "stats": {
          "unique_count": 4,
          "nan_count": 0,
          "min": "5455.0",
          "max": "6031.0",
          "histogram": [
           {
            "bin_start": 5455,
            "bin_end": 5512.6,
            "count": 2
           },
           {
            "bin_start": 5512.6,
            "bin_end": 5570.2,
            "count": 0
           },
           {
            "bin_start": 5570.2,
            "bin_end": 5627.8,
            "count": 0
           },
           {
            "bin_start": 5627.8,
            "bin_end": 5685.4,
            "count": 0
           },
           {
            "bin_start": 5685.4,
            "bin_end": 5743,
            "count": 0
           },
           {
            "bin_start": 5743,
            "bin_end": 5800.6,
            "count": 0
           },
           {
            "bin_start": 5800.6,
            "bin_end": 5858.2,
            "count": 2
           },
           {
            "bin_start": 5858.2,
            "bin_end": 5915.8,
            "count": 0
           },
           {
            "bin_start": 5915.8,
            "bin_end": 5973.4,
            "count": 0
           },
           {
            "bin_start": 5973.4,
            "bin_end": 6031,
            "count": 1
           }
          ]
         }
        },
        {
         "name": "EffectiveTemperatureUpperUnc(K)",
         "dtype": "float64",
         "stats": {
          "unique_count": 4,
          "nan_count": 0,
          "min": "81.0",
          "max": "169.0",
          "histogram": [
           {
            "bin_start": 81,
            "bin_end": 89.8,
            "count": 2
           },
           {
            "bin_start": 89.8,
            "bin_end": 98.6,
            "count": 0
           },
           {
            "bin_start": 98.6,
            "bin_end": 107.4,
            "count": 0
           },
           {
            "bin_start": 107.4,
            "bin_end": 116.2,
            "count": 0
           },
           {
            "bin_start": 116.2,
            "bin_end": 125,
            "count": 0
           },
           {
            "bin_start": 125,
            "bin_end": 133.8,
            "count": 0
           },
           {
            "bin_start": 133.8,
            "bin_end": 142.60000000000002,
            "count": 0
           },
           {
            "bin_start": 142.60000000000002,
            "bin_end": 151.4,
            "count": 0
           },
           {
            "bin_start": 151.4,
            "bin_end": 160.2,
            "count": 2
           },
           {
            "bin_start": 160.2,
            "bin_end": 169,
            "count": 1
           }
          ]
         }
        },
        {
         "name": "EffectiveTemperatureLowerUnc(K)",
         "dtype": "float64",
         "stats": {
          "unique_count": 4,
          "nan_count": 0,
          "min": "-211.0",
          "max": "-81.0",
          "histogram": [
           {
            "bin_start": -211,
            "bin_end": -198,
            "count": 1
           },
           {
            "bin_start": -198,
            "bin_end": -185,
            "count": 0
           },
           {
            "bin_start": -185,
            "bin_end": -172,
            "count": 2
           },
           {
            "bin_start": -172,
            "bin_end": -159,
            "count": 0
           },
           {
            "bin_start": -159,
            "bin_end": -146,
            "count": 0
           },
           {
            "bin_start": -146,
            "bin_end": -133,
            "count": 0
           },
           {
            "bin_start": -133,
            "bin_end": -120,
            "count": 0
           },
           {
            "bin_start": -120,
            "bin_end": -107,
            "count": 0
           },
           {
            "bin_start": -107,
            "bin_end": -94,
            "count": 0
           },
           {
            "bin_start": -94,
            "bin_end": -81,
            "count": 2
           }
          ]
         }
        },
        {
         "name": "SurfaceGravity(log10(cm/s**2))",
         "dtype": "float64",
         "stats": {
          "unique_count": 4,
          "nan_count": 0,
          "min": "4.438",
          "max": "4.564",
          "histogram": [
           {
            "bin_start": 4.438,
            "bin_end": 4.4506,
            "count": 1
           },
           {
            "bin_start": 4.4506,
            "bin_end": 4.4632,
            "count": 0
           },
           {
            "bin_start": 4.4632,
            "bin_end": 4.4758,
            "count": 2
           },
           {
            "bin_start": 4.4758,
            "bin_end": 4.4883999999999995,
            "count": 0
           },
           {
            "bin_start": 4.4883999999999995,
            "bin_end": 4.5009999999999994,
            "count": 0
           },
           {
            "bin_start": 4.5009999999999994,
            "bin_end": 4.5136,
            "count": 0
           },
           {
            "bin_start": 4.5136,
            "bin_end": 4.5262,
            "count": 0
           },
           {
            "bin_start": 4.5262,
            "bin_end": 4.5388,
            "count": 0
           },
           {
            "bin_start": 4.5388,
            "bin_end": 4.5514,
            "count": 1
           },
           {
            "bin_start": 4.5514,
            "bin_end": 4.564,
            "count": 1
           }
          ]
         }
        },
        {
         "name": "SurfaceGravityUpperUnc(log10(cm/s**2))",
         "dtype": "float64",
         "stats": {
          "unique_count": 4,
          "nan_count": 0,
          "min": "0.044",
          "max": "0.07",
          "histogram": [
           {
            "bin_start": 0.044,
            "bin_end": 0.046599999999999996,
            "count": 1
           },
           {
            "bin_start": 0.046599999999999996,
            "bin_end": 0.0492,
            "count": 0
           },
           {
            "bin_start": 0.0492,
            "bin_end": 0.0518,
            "count": 0
           },
           {
            "bin_start": 0.0518,
            "bin_end": 0.054400000000000004,
            "count": 1
           },
           {
            "bin_start": 0.054400000000000004,
            "bin_end": 0.057,
            "count": 0
           },
           {
            "bin_start": 0.057,
            "bin_end": 0.0596,
            "count": 0
           },
           {
            "bin_start": 0.0596,
            "bin_end": 0.062200000000000005,
            "count": 0
           },
           {
            "bin_start": 0.062200000000000005,
            "bin_end": 0.0648,
            "count": 2
           },
           {
            "bin_start": 0.0648,
            "bin_end": 0.0674,
            "count": 0
           },
           {
            "bin_start": 0.0674,
            "bin_end": 0.07,
            "count": 1
           }
          ]
         }
        },
        {
         "name": "SurfaceGravityLowerUnc(log10(cm/s**2))",
         "dtype": "float64",
         "stats": {
          "unique_count": 4,
          "nan_count": 0,
          "min": "-0.21",
          "max": "-0.096",
          "histogram": [
           {
            "bin_start": -0.21,
            "bin_end": -0.1986,
            "count": 1
           },
           {
            "bin_start": -0.1986,
            "bin_end": -0.1872,
            "count": 0
           },
           {
            "bin_start": -0.1872,
            "bin_end": -0.1758,
            "count": 1
           },
           {
            "bin_start": -0.1758,
            "bin_end": -0.1644,
            "count": 1
           },
           {
            "bin_start": -0.1644,
            "bin_end": -0.153,
            "count": 0
           },
           {
            "bin_start": -0.153,
            "bin_end": -0.1416,
            "count": 0
           },
           {
            "bin_start": -0.1416,
            "bin_end": -0.13019999999999998,
            "count": 0
           },
           {
            "bin_start": -0.13019999999999998,
            "bin_end": -0.1188,
            "count": 0
           },
           {
            "bin_start": -0.1188,
            "bin_end": -0.10740000000000001,
            "count": 0
           },
           {
            "bin_start": -0.10740000000000001,
            "bin_end": -0.096,
            "count": 2
           }
          ]
         }
        },
        {
         "name": "Radius(Solarradii)",
         "dtype": "float64",
         "stats": {
          "unique_count": 4,
          "nan_count": 0,
          "min": "0.791",
          "max": "1.046",
          "histogram": [
           {
            "bin_start": 0.791,
            "bin_end": 0.8165,
            "count": 1
           },
           {
            "bin_start": 0.8165,
            "bin_end": 0.8420000000000001,
            "count": 0
           },
           {
            "bin_start": 0.8420000000000001,
            "bin_end": 0.8675,
            "count": 0
           },
           {
            "bin_start": 0.8675,
            "bin_end": 0.893,
            "count": 1
           },
           {
            "bin_start": 0.893,
            "bin_end": 0.9185000000000001,
            "count": 0
           },
           {
            "bin_start": 0.9185000000000001,
            "bin_end": 0.9440000000000001,
            "count": 2
           },
           {
            "bin_start": 0.9440000000000001,
            "bin_end": 0.9695,
            "count": 0
           },
           {
            "bin_start": 0.9695,
            "bin_end": 0.9950000000000001,
            "count": 0
           },
           {
            "bin_start": 0.9950000000000001,
            "bin_end": 1.0205,
            "count": 0
           },
           {
            "bin_start": 1.0205,
            "bin_end": 1.046,
            "count": 1
           }
          ]
         }
        },
        {
         "name": "RadiusUpperUnc(Solarradii)",
         "dtype": "float64",
         "stats": {
          "unique_count": 4,
          "nan_count": 0,
          "min": "0.105",
          "max": "0.334",
          "histogram": [
           {
            "bin_start": 0.105,
            "bin_end": 0.1279,
            "count": 2
           },
           {
            "bin_start": 0.1279,
            "bin_end": 0.1508,
            "count": 0
           },
           {
            "bin_start": 0.1508,
            "bin_end": 0.17370000000000002,
            "count": 0
           },
           {
            "bin_start": 0.17370000000000002,
            "bin_end": 0.1966,
            "count": 0
           },
           {
            "bin_start": 0.1966,
            "bin_end": 0.21950000000000003,
            "count": 1
           },
           {
            "bin_start": 0.21950000000000003,
            "bin_end": 0.2424,
            "count": 1
           },
           {
            "bin_start": 0.2424,
            "bin_end": 0.26530000000000004,
            "count": 0
           },
           {
            "bin_start": 0.26530000000000004,
            "bin_end": 0.2882,
            "count": 0
           },
           {
            "bin_start": 0.2882,
            "bin_end": 0.31110000000000004,
            "count": 0
           },
           {
            "bin_start": 0.31110000000000004,
            "bin_end": 0.334,
            "count": 1
           }
          ]
         }
        },
        {
         "name": "RadiusLowerUnc(Solarradii)",
         "dtype": "float64",
         "stats": {
          "unique_count": 4,
          "nan_count": 0,
          "min": "-0.133",
          "max": "-0.061",
          "histogram": [
           {
            "bin_start": -0.133,
            "bin_end": -0.1258,
            "count": 1
           },
           {
            "bin_start": -0.1258,
            "bin_end": -0.11860000000000001,
            "count": 0
           },
           {
            "bin_start": -0.11860000000000001,
            "bin_end": -0.1114,
            "count": 0
           },
           {
            "bin_start": -0.1114,
            "bin_end": -0.1042,
            "count": 0
           },
           {
            "bin_start": -0.1042,
            "bin_end": -0.097,
            "count": 0
           },
           {
            "bin_start": -0.097,
            "bin_end": -0.0898,
            "count": 0
           },
           {
            "bin_start": -0.0898,
            "bin_end": -0.0826,
            "count": 0
           },
           {
            "bin_start": -0.0826,
            "bin_end": -0.0754,
            "count": 1
           },
           {
            "bin_start": -0.0754,
            "bin_end": -0.0682,
            "count": 0
           },
           {
            "bin_start": -0.0682,
            "bin_end": -0.061,
            "count": 3
           }
          ]
         }
        },
        {
         "name": "RA(decimaldegrees)",
         "dtype": "float64",
         "stats": {
          "unique_count": 4,
          "nan_count": 0,
          "min": "285.53461",
          "max": "297.00482",
          "histogram": [
           {
            "bin_start": 285.53461,
            "bin_end": 286.681631,
            "count": 1
           },
           {
            "bin_start": 286.681631,
            "bin_end": 287.828652,
            "count": 0
           },
           {
            "bin_start": 287.828652,
            "bin_end": 288.975673,
            "count": 1
           },
           {
            "bin_start": 288.975673,
            "bin_end": 290.12269399999997,
            "count": 0
           },
           {
            "bin_start": 290.12269399999997,
            "bin_end": 291.269715,
            "count": 0
           },
           {
            "bin_start": 291.269715,
            "bin_end": 292.416736,
            "count": 2
           },
           {
            "bin_start": 292.416736,
            "bin_end": 293.563757,
            "count": 0
           },
           {
            "bin_start": 293.563757,
            "bin_end": 294.710778,
            "count": 0
           },
           {
            "bin_start": 294.710778,
            "bin_end": 295.857799,
            "count": 0
           },
           {
            "bin_start": 295.857799,
            "bin_end": 297.00482,
            "count": 1
           }
          ]
         }
        },
        {
         "name": "Dec(decimaldegrees)",
         "dtype": "float64",
         "stats": {
          "unique_count": 4,
          "nan_count": 0,
          "min": "48.134129",
          "max": "48.28521",
          "histogram": [
           {
            "bin_start": 48.134129,
            "bin_end": 48.1492371,
            "count": 3
           },
           {
            "bin_start": 48.1492371,
            "bin_end": 48.1643452,
            "count": 0
           },
           {
            "bin_start": 48.1643452,
            "bin_end": 48.1794533,
            "count": 0
           },
           {
            "bin_start": 48.1794533,
            "bin_end": 48.1945614,
            "count": 0
           },
           {
            "bin_start": 48.1945614,
            "bin_end": 48.209669500000004,
            "count": 0
           },
           {
            "bin_start": 48.209669500000004,
            "bin_end": 48.2247776,
            "count": 0
           },
           {
            "bin_start": 48.2247776,
            "bin_end": 48.2398857,
            "count": 1
           },
           {
            "bin_start": 48.2398857,
            "bin_end": 48.2549938,
            "count": 0
           },
           {
            "bin_start": 48.2549938,
            "bin_end": 48.2701019,
            "count": 0
           },
           {
            "bin_start": 48.2701019,
            "bin_end": 48.28521,
            "count": 1
           }
          ]
         }
        },
        {
         "name": "Kepler-band(mag)",
         "dtype": "float64",
         "stats": {
          "unique_count": 4,
          "nan_count": 0,
          "min": "15.347",
          "max": "15.597",
          "histogram": [
           {
            "bin_start": 15.347,
            "bin_end": 15.372,
            "count": 2
           },
           {
            "bin_start": 15.372,
            "bin_end": 15.397,
            "count": 0
           },
           {
            "bin_start": 15.397,
            "bin_end": 15.421999999999999,
            "count": 0
           },
           {
            "bin_start": 15.421999999999999,
            "bin_end": 15.447,
            "count": 1
           },
           {
            "bin_start": 15.447,
            "bin_end": 15.472,
            "count": 0
           },
           {
            "bin_start": 15.472,
            "bin_end": 15.497,
            "count": 0
           },
           {
            "bin_start": 15.497,
            "bin_end": 15.522,
            "count": 1
           },
           {
            "bin_start": 15.522,
            "bin_end": 15.546999999999999,
            "count": 0
           },
           {
            "bin_start": 15.546999999999999,
            "bin_end": 15.572,
            "count": 0
           },
           {
            "bin_start": 15.572,
            "bin_end": 15.597,
            "count": 1
           }
          ]
         }
        },
        {
         "name": "PossibleExoplanet",
         "dtype": "int64",
         "stats": {
          "unique_count": 2,
          "nan_count": 0,
          "min": "0",
          "max": "1",
          "histogram": [
           {
            "bin_start": 0,
            "bin_end": 0.1,
            "count": 1
           },
           {
            "bin_start": 0.1,
            "bin_end": 0.2,
            "count": 0
           },
           {
            "bin_start": 0.2,
            "bin_end": 0.30000000000000004,
            "count": 0
           },
           {
            "bin_start": 0.30000000000000004,
            "bin_end": 0.4,
            "count": 0
           },
           {
            "bin_start": 0.4,
            "bin_end": 0.5,
            "count": 0
           },
           {
            "bin_start": 0.5,
            "bin_end": 0.6000000000000001,
            "count": 0
           },
           {
            "bin_start": 0.6000000000000001,
            "bin_end": 0.7000000000000001,
            "count": 0
           },
           {
            "bin_start": 0.7000000000000001,
            "bin_end": 0.8,
            "count": 0
           },
           {
            "bin_start": 0.8,
            "bin_end": 0.9,
            "count": 0
           },
           {
            "bin_start": 0.9,
            "bin_end": 1,
            "count": 4
           }
          ]
         }
        },
        {
         "name": "ConfirmedExoplanet",
         "dtype": "int64",
         "stats": {
          "unique_count": 3,
          "nan_count": 0,
          "min": "0",
          "max": "2",
          "histogram": [
           {
            "bin_start": 0,
            "bin_end": 0.2,
            "count": 1
           },
           {
            "bin_start": 0.2,
            "bin_end": 0.4,
            "count": 0
           },
           {
            "bin_start": 0.4,
            "bin_end": 0.6000000000000001,
            "count": 0
           },
           {
            "bin_start": 0.6000000000000001,
            "bin_end": 0.8,
            "count": 0
           },
           {
            "bin_start": 0.8,
            "bin_end": 1,
            "count": 0
           },
           {
            "bin_start": 1,
            "bin_end": 1.2000000000000002,
            "count": 1
           },
           {
            "bin_start": 1.2000000000000002,
            "bin_end": 1.4000000000000001,
            "count": 0
           },
           {
            "bin_start": 1.4000000000000001,
            "bin_end": 1.6,
            "count": 0
           },
           {
            "bin_start": 1.6,
            "bin_end": 1.8,
            "count": 0
           },
           {
            "bin_start": 1.8,
            "bin_end": 2,
            "count": 3
           }
          ]
         }
        },
        {
         "name": "_deepnote_index_column",
         "dtype": "int64"
        }
       ],
       "rows": [
        {
         "kepid": 10797460,
         "kepoi_name": "K00752.01",
         "kepler_name": "Kepler-227 b",
         "archiveDisposition": "CONFIRMED",
         "DispositionUsingKeplerData": "CANDIDATE",
         "DispositionScore": 1,
         "NotTransit-LikeFalsePositiveFlag": 0,
         "koi_fpflag_ss": 0,
         "CentroidOffsetFalsePositiveFlag": 0,
         "EphemerisMatchIndicatesContaminationFalsePositiveFlag": 0,
         "OrbitalPeriod(days)": 9.48803557,
         "OrbitalPeriodUpperUnc(days)": 0.0000278,
         "OrbitalPeriodLowerUnc(days)": -0.0000278,
         "TransitEpoch(BKJD)": 170.53875,
         "TransitEpochUpperUnc(BKJD)": 0.00216,
         "TransitEpochLowerUnc(BKJD)": -0.00216,
         "ImpactParameter": 0.146,
         "ImpactParameterUpperUnc": 0.318,
         "ImpactParameterLowerUnc": -0.146,
         "TransitDuration(hrs)": 2.9575,
         "TransitDurationUpperUnc(hrs)": 0.0819,
         "TransitDurationLowerUnc(hrs)": -0.0819,
         "TransitDepth(ppm)": 616,
         "TransitDepthUpperUnc(ppm)": 19.5,
         "TransitDepthLowerUnc(ppm)": -19.5,
         "PlanetaryRadius(Earthradii)": 2.26,
         "PlanetaryRadiusUpperUnc(Earthradii)": 0.26,
         "PlanetaryRadiusLowerUnc(Earthradii)": -0.15,
         "EquilibriumTemperature(K)": 793,
         "EquilibriumTemperatureUpperUnc(K)": "nan",
         "EquilibriumTemperatureLowerUnc(K)": "nan",
         "InsolationFlux(Earthflux)": 93.59,
         "InsolationFluxUpperUnc(Earthflux)": 29.45,
         "InsolationFluxLowerUnc(Earthflux)": -16.65,
         "TransitSignal-to-Nois": 35.8,
         "TCEPlanetNumber": 1,
         "TCEDeliver": "q1_q17_dr25_tce",
         "EffectiveTemperature(K)": 5455,
         "EffectiveTemperatureUpperUnc(K)": 81,
         "EffectiveTemperatureLowerUnc(K)": -81,
         "SurfaceGravity(log10(cm/s**2))": 4.467,
         "SurfaceGravityUpperUnc(log10(cm/s**2))": 0.064,
         "SurfaceGravityLowerUnc(log10(cm/s**2))": -0.096,
         "Radius(Solarradii)": 0.927,
         "RadiusUpperUnc(Solarradii)": 0.105,
         "RadiusLowerUnc(Solarradii)": -0.061,
         "RA(decimaldegrees)": 291.93423,
         "Dec(decimaldegrees)": 48.141651,
         "Kepler-band(mag)": 15.347,
         "PossibleExoplanet": 1,
         "ConfirmedExoplanet": 2,
         "_deepnote_index_column": 0
        },
        {
         "kepid": 10797460,
         "kepoi_name": "K00752.02",
         "kepler_name": "Kepler-227 c",
         "archiveDisposition": "CONFIRMED",
         "DispositionUsingKeplerData": "CANDIDATE",
         "DispositionScore": 0.969,
         "NotTransit-LikeFalsePositiveFlag": 0,
         "koi_fpflag_ss": 0,
         "CentroidOffsetFalsePositiveFlag": 0,
         "EphemerisMatchIndicatesContaminationFalsePositiveFlag": 0,
         "OrbitalPeriod(days)": 54.4183827,
         "OrbitalPeriodUpperUnc(days)": 0.000248,
         "OrbitalPeriodLowerUnc(days)": -0.000248,
         "TransitEpoch(BKJD)": 162.51384,
         "TransitEpochUpperUnc(BKJD)": 0.00352,
         "TransitEpochLowerUnc(BKJD)": -0.00352,
         "ImpactParameter": 0.586,
         "ImpactParameterUpperUnc": 0.059,
         "ImpactParameterLowerUnc": -0.443,
         "TransitDuration(hrs)": 4.507,
         "TransitDurationUpperUnc(hrs)": 0.116,
         "TransitDurationLowerUnc(hrs)": -0.116,
         "TransitDepth(ppm)": 875,
         "TransitDepthUpperUnc(ppm)": 35.5,
         "TransitDepthLowerUnc(ppm)": -35.5,
         "PlanetaryRadius(Earthradii)": 2.83,
         "PlanetaryRadiusUpperUnc(Earthradii)": 0.32,
         "PlanetaryRadiusLowerUnc(Earthradii)": -0.19,
         "EquilibriumTemperature(K)": 443,
         "EquilibriumTemperatureUpperUnc(K)": "nan",
         "EquilibriumTemperatureLowerUnc(K)": "nan",
         "InsolationFlux(Earthflux)": 9.11,
         "InsolationFluxUpperUnc(Earthflux)": 2.87,
         "InsolationFluxLowerUnc(Earthflux)": -1.62,
         "TransitSignal-to-Nois": 25.8,
         "TCEPlanetNumber": 2,
         "TCEDeliver": "q1_q17_dr25_tce",
         "EffectiveTemperature(K)": 5455,
         "EffectiveTemperatureUpperUnc(K)": 81,
         "EffectiveTemperatureLowerUnc(K)": -81,
         "SurfaceGravity(log10(cm/s**2))": 4.467,
         "SurfaceGravityUpperUnc(log10(cm/s**2))": 0.064,
         "SurfaceGravityLowerUnc(log10(cm/s**2))": -0.096,
         "Radius(Solarradii)": 0.927,
         "RadiusUpperUnc(Solarradii)": 0.105,
         "RadiusLowerUnc(Solarradii)": -0.061,
         "RA(decimaldegrees)": 291.93423,
         "Dec(decimaldegrees)": 48.141651,
         "Kepler-band(mag)": 15.347,
         "PossibleExoplanet": 1,
         "ConfirmedExoplanet": 2,
         "_deepnote_index_column": 1
        },
        {
         "kepid": 10811496,
         "kepoi_name": "K00753.01",
         "kepler_name": "nan",
         "archiveDisposition": "CANDIDATE",
         "DispositionUsingKeplerData": "CANDIDATE",
         "DispositionScore": 0,
         "NotTransit-LikeFalsePositiveFlag": 0,
         "koi_fpflag_ss": 0,
         "CentroidOffsetFalsePositiveFlag": 0,
         "EphemerisMatchIndicatesContaminationFalsePositiveFlag": 0,
         "OrbitalPeriod(days)": 19.89913995,
         "OrbitalPeriodUpperUnc(days)": 0.0000149,
         "OrbitalPeriodLowerUnc(days)": -0.0000149,
         "TransitEpoch(BKJD)": 175.850252,
         "TransitEpochUpperUnc(BKJD)": 0.000581,
         "TransitEpochLowerUnc(BKJD)": -0.000581,
         "ImpactParameter": 0.969,
         "ImpactParameterUpperUnc": 5.126,
         "ImpactParameterLowerUnc": -0.077,
         "TransitDuration(hrs)": 1.7822,
         "TransitDurationUpperUnc(hrs)": 0.0341,
         "TransitDurationLowerUnc(hrs)": -0.0341,
         "TransitDepth(ppm)": 10800,
         "TransitDepthUpperUnc(ppm)": 171,
         "TransitDepthLowerUnc(ppm)": -171,
         "PlanetaryRadius(Earthradii)": 14.6,
         "PlanetaryRadiusUpperUnc(Earthradii)": 3.92,
         "PlanetaryRadiusLowerUnc(Earthradii)": -1.31,
         "EquilibriumTemperature(K)": 638,
         "EquilibriumTemperatureUpperUnc(K)": "nan",
         "EquilibriumTemperatureLowerUnc(K)": "nan",
         "InsolationFlux(Earthflux)": 39.3,
         "InsolationFluxUpperUnc(Earthflux)": 31.04,
         "InsolationFluxLowerUnc(Earthflux)": -10.49,
         "TransitSignal-to-Nois": 76.3,
         "TCEPlanetNumber": 1,
         "TCEDeliver": "q1_q17_dr25_tce",
         "EffectiveTemperature(K)": 5853,
         "EffectiveTemperatureUpperUnc(K)": 158,
         "EffectiveTemperatureLowerUnc(K)": -176,
         "SurfaceGravity(log10(cm/s**2))": 4.544,
         "SurfaceGravityUpperUnc(log10(cm/s**2))": 0.044,
         "SurfaceGravityLowerUnc(log10(cm/s**2))": -0.176,
         "Radius(Solarradii)": 0.868,
         "RadiusUpperUnc(Solarradii)": 0.233,
         "RadiusLowerUnc(Solarradii)": -0.078,
         "RA(decimaldegrees)": 297.00482,
         "Dec(decimaldegrees)": 48.134129,
         "Kepler-band(mag)": 15.436,
         "PossibleExoplanet": 1,
         "ConfirmedExoplanet": 1,
         "_deepnote_index_column": 2
        },
        {
         "kepid": 10848459,
         "kepoi_name": "K00754.01",
         "kepler_name": "nan",
         "archiveDisposition": "FALSE POSITIVE",
         "DispositionUsingKeplerData": "FALSE POSITIVE",
         "DispositionScore": 0,
         "NotTransit-LikeFalsePositiveFlag": 0,
         "koi_fpflag_ss": 1,
         "CentroidOffsetFalsePositiveFlag": 0,
         "EphemerisMatchIndicatesContaminationFalsePositiveFlag": 0,
         "OrbitalPeriod(days)": 1.736952453,
         "OrbitalPeriodUpperUnc(days)": 2.63e-7,
         "OrbitalPeriodLowerUnc(days)": -2.63e-7,
         "TransitEpoch(BKJD)": 170.307565,
         "TransitEpochUpperUnc(BKJD)": 0.000115,
         "TransitEpochLowerUnc(BKJD)": -0.000115,
         "ImpactParameter": 1.276,
         "ImpactParameterUpperUnc": 0.115,
         "ImpactParameterLowerUnc": -0.092,
         "TransitDuration(hrs)": 2.40641,
         "TransitDurationUpperUnc(hrs)": 0.00537,
         "TransitDurationLowerUnc(hrs)": -0.00537,
         "TransitDepth(ppm)": 8080,
         "TransitDepthUpperUnc(ppm)": 12.8,
         "TransitDepthLowerUnc(ppm)": -12.8,
         "PlanetaryRadius(Earthradii)": 33.46,
         "PlanetaryRadiusUpperUnc(Earthradii)": 8.5,
         "PlanetaryRadiusLowerUnc(Earthradii)": -2.83,
         "EquilibriumTemperature(K)": 1395,
         "EquilibriumTemperatureUpperUnc(K)": "nan",
         "EquilibriumTemperatureLowerUnc(K)": "nan",
         "InsolationFlux(Earthflux)": 891.96,
         "InsolationFluxUpperUnc(Earthflux)": 668.95,
         "InsolationFluxLowerUnc(Earthflux)": -230.35,
         "TransitSignal-to-Nois": 505.6,
         "TCEPlanetNumber": 1,
         "TCEDeliver": "q1_q17_dr25_tce",
         "EffectiveTemperature(K)": 5805,
         "EffectiveTemperatureUpperUnc(K)": 157,
         "EffectiveTemperatureLowerUnc(K)": -174,
         "SurfaceGravity(log10(cm/s**2))": 4.564,
         "SurfaceGravityUpperUnc(log10(cm/s**2))": 0.053,
         "SurfaceGravityLowerUnc(log10(cm/s**2))": -0.168,
         "Radius(Solarradii)": 0.791,
         "RadiusUpperUnc(Solarradii)": 0.201,
         "RadiusLowerUnc(Solarradii)": -0.067,
         "RA(decimaldegrees)": 285.53461,
         "Dec(decimaldegrees)": 48.28521,
         "Kepler-band(mag)": 15.597,
         "PossibleExoplanet": 0,
         "ConfirmedExoplanet": 0,
         "_deepnote_index_column": 3
        },
        {
         "kepid": 10854555,
         "kepoi_name": "K00755.01",
         "kepler_name": "Kepler-664 b",
         "archiveDisposition": "CONFIRMED",
         "DispositionUsingKeplerData": "CANDIDATE",
         "DispositionScore": 1,
         "NotTransit-LikeFalsePositiveFlag": 0,
         "koi_fpflag_ss": 0,
         "CentroidOffsetFalsePositiveFlag": 0,
         "EphemerisMatchIndicatesContaminationFalsePositiveFlag": 0,
         "OrbitalPeriod(days)": 2.525591777,
         "OrbitalPeriodUpperUnc(days)": 0.00000376,
         "OrbitalPeriodLowerUnc(days)": -0.00000376,
         "TransitEpoch(BKJD)": 171.59555,
         "TransitEpochUpperUnc(BKJD)": 0.00113,
         "TransitEpochLowerUnc(BKJD)": -0.00113,
         "ImpactParameter": 0.701,
         "ImpactParameterUpperUnc": 0.235,
         "ImpactParameterLowerUnc": -0.478,
         "TransitDuration(hrs)": 1.6545,
         "TransitDurationUpperUnc(hrs)": 0.042,
         "TransitDurationLowerUnc(hrs)": -0.042,
         "TransitDepth(ppm)": 603,
         "TransitDepthUpperUnc(ppm)": 16.9,
         "TransitDepthLowerUnc(ppm)": -16.9,
         "PlanetaryRadius(Earthradii)": 2.75,
         "PlanetaryRadiusUpperUnc(Earthradii)": 0.88,
         "PlanetaryRadiusLowerUnc(Earthradii)": -0.35,
         "EquilibriumTemperature(K)": 1406,
         "EquilibriumTemperatureUpperUnc(K)": "nan",
         "EquilibriumTemperatureLowerUnc(K)": "nan",
         "InsolationFlux(Earthflux)": 926.16,
         "InsolationFluxUpperUnc(Earthflux)": 874.33,
         "InsolationFluxLowerUnc(Earthflux)": -314.24,
         "TransitSignal-to-Nois": 40.9,
         "TCEPlanetNumber": 1,
         "TCEDeliver": "q1_q17_dr25_tce",
         "EffectiveTemperature(K)": 6031,
         "EffectiveTemperatureUpperUnc(K)": 169,
         "EffectiveTemperatureLowerUnc(K)": -211,
         "SurfaceGravity(log10(cm/s**2))": 4.438,
         "SurfaceGravityUpperUnc(log10(cm/s**2))": 0.07,
         "SurfaceGravityLowerUnc(log10(cm/s**2))": -0.21,
         "Radius(Solarradii)": 1.046,
         "RadiusUpperUnc(Solarradii)": 0.334,
         "RadiusLowerUnc(Solarradii)": -0.133,
         "RA(decimaldegrees)": 288.75488,
         "Dec(decimaldegrees)": 48.2262,
         "Kepler-band(mag)": 15.509,
         "PossibleExoplanet": 1,
         "ConfirmedExoplanet": 2,
         "_deepnote_index_column": 4
        }
       ]
      },
      "text/plain": "      kepid kepoi_name   kepler_name archiveDisposition  \\\n0  10797460  K00752.01  Kepler-227 b          CONFIRMED   \n1  10797460  K00752.02  Kepler-227 c          CONFIRMED   \n2  10811496  K00753.01           NaN          CANDIDATE   \n3  10848459  K00754.01           NaN     FALSE POSITIVE   \n4  10854555  K00755.01  Kepler-664 b          CONFIRMED   \n\n  DispositionUsingKeplerData  DispositionScore  \\\n0                  CANDIDATE             1.000   \n1                  CANDIDATE             0.969   \n2                  CANDIDATE             0.000   \n3             FALSE POSITIVE             0.000   \n4                  CANDIDATE             1.000   \n\n   NotTransit-LikeFalsePositiveFlag  koi_fpflag_ss  \\\n0                                 0              0   \n1                                 0              0   \n2                                 0              0   \n3                                 0              1   \n4                                 0              0   \n\n   CentroidOffsetFalsePositiveFlag  \\\n0                                0   \n1                                0   \n2                                0   \n3                                0   \n4                                0   \n\n   EphemerisMatchIndicatesContaminationFalsePositiveFlag  ...  \\\n0                                                  0      ...   \n1                                                  0      ...   \n2                                                  0      ...   \n3                                                  0      ...   \n4                                                  0      ...   \n\n   SurfaceGravityUpperUnc(log10(cm/s**2))  \\\n0                                   0.064   \n1                                   0.064   \n2                                   0.044   \n3                                   0.053   \n4                                   0.070   \n\n   SurfaceGravityLowerUnc(log10(cm/s**2))  Radius(Solarradii)  \\\n0                                  -0.096               0.927   \n1                                  -0.096               0.927   \n2                                  -0.176               0.868   \n3                                  -0.168               0.791   \n4                                  -0.210               1.046   \n\n   RadiusUpperUnc(Solarradii)  RadiusLowerUnc(Solarradii)  RA(decimaldegrees)  \\\n0                       0.105                      -0.061           291.93423   \n1                       0.105                      -0.061           291.93423   \n2                       0.233                      -0.078           297.00482   \n3                       0.201                      -0.067           285.53461   \n4                       0.334                      -0.133           288.75488   \n\n   Dec(decimaldegrees)  Kepler-band(mag)  PossibleExoplanet  \\\n0            48.141651            15.347                  1   \n1            48.141651            15.347                  1   \n2            48.134129            15.436                  1   \n3            48.285210            15.597                  0   \n4            48.226200            15.509                  1   \n\n   ConfirmedExoplanet  \n0                   2  \n1                   2  \n2                   1  \n3                   0  \n4                   2  \n\n[5 rows x 51 columns]",
      "text/html": "<div>\n<style scoped>\n    .dataframe tbody tr th:only-of-type {\n        vertical-align: middle;\n    }\n\n    .dataframe tbody tr th {\n        vertical-align: top;\n    }\n\n    .dataframe thead th {\n        text-align: right;\n    }\n</style>\n<table border=\"1\" class=\"dataframe\">\n  <thead>\n    <tr style=\"text-align: right;\">\n      <th></th>\n      <th>kepid</th>\n      <th>kepoi_name</th>\n      <th>kepler_name</th>\n      <th>archiveDisposition</th>\n      <th>DispositionUsingKeplerData</th>\n      <th>DispositionScore</th>\n      <th>NotTransit-LikeFalsePositiveFlag</th>\n      <th>koi_fpflag_ss</th>\n      <th>CentroidOffsetFalsePositiveFlag</th>\n      <th>EphemerisMatchIndicatesContaminationFalsePositiveFlag</th>\n      <th>...</th>\n      <th>SurfaceGravityUpperUnc(log10(cm/s**2))</th>\n      <th>SurfaceGravityLowerUnc(log10(cm/s**2))</th>\n      <th>Radius(Solarradii)</th>\n      <th>RadiusUpperUnc(Solarradii)</th>\n      <th>RadiusLowerUnc(Solarradii)</th>\n      <th>RA(decimaldegrees)</th>\n      <th>Dec(decimaldegrees)</th>\n      <th>Kepler-band(mag)</th>\n      <th>PossibleExoplanet</th>\n      <th>ConfirmedExoplanet</th>\n    </tr>\n  </thead>\n  <tbody>\n    <tr>\n      <th>0</th>\n      <td>10797460</td>\n      <td>K00752.01</td>\n      <td>Kepler-227 b</td>\n      <td>CONFIRMED</td>\n      <td>CANDIDATE</td>\n      <td>1.000</td>\n      <td>0</td>\n      <td>0</td>\n      <td>0</td>\n      <td>0</td>\n      <td>...</td>\n      <td>0.064</td>\n      <td>-0.096</td>\n      <td>0.927</td>\n      <td>0.105</td>\n      <td>-0.061</td>\n      <td>291.93423</td>\n      <td>48.141651</td>\n      <td>15.347</td>\n      <td>1</td>\n      <td>2</td>\n    </tr>\n    <tr>\n      <th>1</th>\n      <td>10797460</td>\n      <td>K00752.02</td>\n      <td>Kepler-227 c</td>\n      <td>CONFIRMED</td>\n      <td>CANDIDATE</td>\n      <td>0.969</td>\n      <td>0</td>\n      <td>0</td>\n      <td>0</td>\n      <td>0</td>\n      <td>...</td>\n      <td>0.064</td>\n      <td>-0.096</td>\n      <td>0.927</td>\n      <td>0.105</td>\n      <td>-0.061</td>\n      <td>291.93423</td>\n      <td>48.141651</td>\n      <td>15.347</td>\n      <td>1</td>\n      <td>2</td>\n    </tr>\n    <tr>\n      <th>2</th>\n      <td>10811496</td>\n      <td>K00753.01</td>\n      <td>NaN</td>\n      <td>CANDIDATE</td>\n      <td>CANDIDATE</td>\n      <td>0.000</td>\n      <td>0</td>\n      <td>0</td>\n      <td>0</td>\n      <td>0</td>\n      <td>...</td>\n      <td>0.044</td>\n      <td>-0.176</td>\n      <td>0.868</td>\n      <td>0.233</td>\n      <td>-0.078</td>\n      <td>297.00482</td>\n      <td>48.134129</td>\n      <td>15.436</td>\n      <td>1</td>\n      <td>1</td>\n    </tr>\n    <tr>\n      <th>3</th>\n      <td>10848459</td>\n      <td>K00754.01</td>\n      <td>NaN</td>\n      <td>FALSE POSITIVE</td>\n      <td>FALSE POSITIVE</td>\n      <td>0.000</td>\n      <td>0</td>\n      <td>1</td>\n      <td>0</td>\n      <td>0</td>\n      <td>...</td>\n      <td>0.053</td>\n      <td>-0.168</td>\n      <td>0.791</td>\n      <td>0.201</td>\n      <td>-0.067</td>\n      <td>285.53461</td>\n      <td>48.285210</td>\n      <td>15.597</td>\n      <td>0</td>\n      <td>0</td>\n    </tr>\n    <tr>\n      <th>4</th>\n      <td>10854555</td>\n      <td>K00755.01</td>\n      <td>Kepler-664 b</td>\n      <td>CONFIRMED</td>\n      <td>CANDIDATE</td>\n      <td>1.000</td>\n      <td>0</td>\n      <td>0</td>\n      <td>0</td>\n      <td>0</td>\n      <td>...</td>\n      <td>0.070</td>\n      <td>-0.210</td>\n      <td>1.046</td>\n      <td>0.334</td>\n      <td>-0.133</td>\n      <td>288.75488</td>\n      <td>48.226200</td>\n      <td>15.509</td>\n      <td>1</td>\n      <td>2</td>\n    </tr>\n  </tbody>\n</table>\n<p>5 rows × 51 columns</p>\n</div>"
     },
     "metadata": {}
    }
   ],
   "execution_count": null
  },
  {
   "cell_type": "code",
   "metadata": {
    "cell_id": "53c69aae7770427abbde3ac51e8396ea",
    "tags": [],
    "deepnote_to_be_reexecuted": false,
    "source_hash": "c3d067e",
    "execution_start": 1656771872898,
    "execution_millis": 230,
    "deepnote_cell_type": "code",
    "deepnote_cell_height": 701
   },
   "source": "planet.info()",
   "outputs": [
    {
     "name": "stdout",
     "text": "<class 'pandas.core.frame.DataFrame'>\nRangeIndex: 9564 entries, 0 to 9563\nData columns (total 51 columns):\n #   Column                                                 Non-Null Count  Dtype  \n---  ------                                                 --------------  -----  \n 0   kepid                                                  9564 non-null   int64  \n 1   kepoi_name                                             9564 non-null   object \n 2   kepler_name                                            2670 non-null   object \n 3   archiveDisposition                                     9564 non-null   object \n 4   DispositionUsingKeplerData                             9564 non-null   object \n 5   DispositionScore                                       8054 non-null   float64\n 6   NotTransit-LikeFalsePositiveFlag                       9564 non-null   int64  \n 7   koi_fpflag_ss                                          9564 non-null   int64  \n 8   CentroidOffsetFalsePositiveFlag                        9564 non-null   int64  \n 9   EphemerisMatchIndicatesContaminationFalsePositiveFlag  9564 non-null   int64  \n 10  OrbitalPeriod(days)                                    9564 non-null   float64\n 11  OrbitalPeriodUpperUnc(days)                            9110 non-null   float64\n 12  OrbitalPeriodLowerUnc(days)                            9110 non-null   float64\n 13  TransitEpoch(BKJD)                                     9564 non-null   float64\n 14  TransitEpochUpperUnc(BKJD)                             9110 non-null   float64\n 15  TransitEpochLowerUnc(BKJD)                             9110 non-null   float64\n 16  ImpactParameter                                        9201 non-null   float64\n 17  ImpactParameterUpperUnc                                9110 non-null   float64\n 18  ImpactParameterLowerUnc                                9110 non-null   float64\n 19  TransitDuration(hrs)                                   9564 non-null   float64\n 20  TransitDurationUpperUnc(hrs)                           9110 non-null   float64\n 21  TransitDurationLowerUnc(hrs)                           9110 non-null   float64\n 22  TransitDepth(ppm)                                      9201 non-null   float64\n 23  TransitDepthUpperUnc(ppm)                              9110 non-null   float64\n 24  TransitDepthLowerUnc(ppm)                              9110 non-null   float64\n 25  PlanetaryRadius(Earthradii)                            9201 non-null   float64\n 26  PlanetaryRadiusUpperUnc(Earthradii)                    9201 non-null   float64\n 27  PlanetaryRadiusLowerUnc(Earthradii)                    9201 non-null   float64\n 28  EquilibriumTemperature(K)                              9201 non-null   float64\n 29  EquilibriumTemperatureUpperUnc(K)                      0 non-null      float64\n 30  EquilibriumTemperatureLowerUnc(K)                      0 non-null      float64\n 31  InsolationFlux(Earthflux)                              9243 non-null   float64\n 32  InsolationFluxUpperUnc(Earthflux)                      9243 non-null   float64\n 33  InsolationFluxLowerUnc(Earthflux)                      9243 non-null   float64\n 34  TransitSignal-to-Nois                                  9201 non-null   float64\n 35  TCEPlanetNumber                                        9218 non-null   float64\n 36  TCEDeliver                                             9218 non-null   object \n 37  EffectiveTemperature(K)                                9201 non-null   float64\n 38  EffectiveTemperatureUpperUnc(K)                        9096 non-null   float64\n 39  EffectiveTemperatureLowerUnc(K)                        9081 non-null   float64\n 40  SurfaceGravity(log10(cm/s**2))                         9201 non-null   float64\n 41  SurfaceGravityUpperUnc(log10(cm/s**2))                 9096 non-null   float64\n 42  SurfaceGravityLowerUnc(log10(cm/s**2))                 9096 non-null   float64\n 43  Radius(Solarradii)                                     9201 non-null   float64\n 44  RadiusUpperUnc(Solarradii)                             9096 non-null   float64\n 45  RadiusLowerUnc(Solarradii)                             9096 non-null   float64\n 46  RA(decimaldegrees)                                     9564 non-null   float64\n 47  Dec(decimaldegrees)                                    9564 non-null   float64\n 48  Kepler-band(mag)                                       9563 non-null   float64\n 49  PossibleExoplanet                                      9564 non-null   int64  \n 50  ConfirmedExoplanet                                     9564 non-null   int64  \ndtypes: float64(39), int64(7), object(5)\nmemory usage: 3.7+ MB\n",
     "output_type": "stream"
    }
   ],
   "execution_count": null
  },
  {
   "cell_type": "markdown",
   "source": "We can definitely drop some of these columns. Some have no info, lots of missing info, or just info we aren't going to use, such as the flags that are categorical and are hard to find the meaning of.",
   "metadata": {
    "formattedRanges": [],
    "cell_id": "da6ee8e1e54243a3b9db316ca040fd97",
    "tags": [],
    "is_collapsed": false,
    "deepnote_cell_type": "text-cell-p"
   }
  },
  {
   "cell_type": "code",
   "metadata": {
    "cell_id": "83b97501df25457d96f7f9c4995d0180",
    "tags": [],
    "deepnote_to_be_reexecuted": false,
    "source_hash": "a87e3d7b",
    "execution_start": 1656771872907,
    "execution_millis": 3,
    "deepnote_cell_type": "code",
    "deepnote_cell_height": 117
   },
   "source": "planet = planet.drop(['kepler_name','kepoi_name','archiveDisposition','DispositionUsingKeplerData',\n                 'NotTransit-LikeFalsePositiveFlag','koi_fpflag_ss','CentroidOffsetFalsePositiveFlag',\n                 'EphemerisMatchIndicatesContaminationFalsePositiveFlag','TCEDeliver'], axis = 1)",
   "outputs": [],
   "execution_count": null
  },
  {
   "cell_type": "markdown",
   "source": "We also need to drop the column Disposition Score, because it is determined AFTER the flag of CANDIDATE or FALSE POSITIVE is given, as it is a score of confidence in that classification. I solely want to use the data about the planet, such as its temp, radius, etc.",
   "metadata": {
    "cell_id": "2f4a2bdbbef543cd8882df7e8f77253f",
    "tags": [],
    "is_collapsed": false,
    "formattedRanges": [],
    "deepnote_cell_type": "text-cell-p"
   }
  },
  {
   "cell_type": "markdown",
   "source": "I will also drop uncertainty values, as they are just error measurements on the actual values we want. For now we will ignore them.",
   "metadata": {
    "cell_id": "3b21f5bd48a94b09955cf5eee82a2835",
    "tags": [],
    "is_collapsed": false,
    "formattedRanges": [],
    "deepnote_cell_type": "text-cell-p"
   }
  },
  {
   "cell_type": "code",
   "source": "planet = planet.drop([\"DispositionScore\", 'PlanetaryRadiusUpperUnc(Earthradii)','EquilibriumTemperatureUpperUnc(K)',\n'EquilibriumTemperatureLowerUnc(K)','PlanetaryRadiusLowerUnc(Earthradii)', 'InsolationFluxUpperUnc(Earthflux)','InsolationFluxLowerUnc(Earthflux)',\n'EffectiveTemperatureUpperUnc(K)', 'EffectiveTemperatureLowerUnc(K)', 'SurfaceGravityUpperUnc(log10(cm/s**2))',\n'SurfaceGravityLowerUnc(log10(cm/s**2))','RadiusUpperUnc(Solarradii)', 'RadiusLowerUnc(Solarradii)','OrbitalPeriodUpperUnc(days)', \n'OrbitalPeriodLowerUnc(days)','TransitEpochUpperUnc(BKJD)','TransitEpochLowerUnc(BKJD)','ImpactParameterUpperUnc', 'ImpactParameterLowerUnc',\n'TransitDurationUpperUnc(hrs)','TransitDurationLowerUnc(hrs)','TransitDepthUpperUnc(ppm)', 'TransitDepthLowerUnc(ppm)'], axis = 1)",
   "metadata": {
    "cell_id": "f6a982975ae547d1896d9327c36c7b7a",
    "tags": [],
    "deepnote_to_be_reexecuted": false,
    "source_hash": "72ad949c",
    "execution_start": 1656771872978,
    "execution_millis": 0,
    "deepnote_cell_type": "code",
    "deepnote_cell_height": 171
   },
   "outputs": [],
   "execution_count": null
  },
  {
   "cell_type": "code",
   "metadata": {
    "cell_id": "56feb08d46af4a91a4e173059a39ed39",
    "tags": [],
    "deepnote_to_be_reexecuted": false,
    "source_hash": "d75c2316",
    "execution_start": 1656771872979,
    "execution_millis": 150,
    "deepnote_cell_type": "code",
    "deepnote_cell_height": 482.75,
    "deepnote_output_heights": [
     385.75
    ]
   },
   "source": "planet.isna().any()",
   "outputs": [
    {
     "output_type": "execute_result",
     "execution_count": 13,
     "data": {
      "text/plain": "kepid                             False\nOrbitalPeriod(days)               False\nTransitEpoch(BKJD)                False\nImpactParameter                    True\nTransitDuration(hrs)              False\nTransitDepth(ppm)                  True\nPlanetaryRadius(Earthradii)        True\nEquilibriumTemperature(K)          True\nInsolationFlux(Earthflux)          True\nTransitSignal-to-Nois              True\nTCEPlanetNumber                    True\nEffectiveTemperature(K)            True\nSurfaceGravity(log10(cm/s**2))     True\nRadius(Solarradii)                 True\nRA(decimaldegrees)                False\nDec(decimaldegrees)               False\nKepler-band(mag)                   True\nPossibleExoplanet                 False\nConfirmedExoplanet                False\ndtype: bool"
     },
     "metadata": {}
    }
   ],
   "execution_count": null
  },
  {
   "cell_type": "markdown",
   "source": "We can't have any na values, perhaps I can revisit going column by column and doing some column-wise data cleaning, but for now I think its safe to drop all the na values. I would assume exoplanets have many different features so averaging columns for example wouldn't be the best option.",
   "metadata": {
    "formattedRanges": [],
    "cell_id": "bf24882efd364e8298f1e9873b916935",
    "tags": [],
    "is_collapsed": false,
    "deepnote_cell_type": "text-cell-p"
   }
  },
  {
   "cell_type": "code",
   "metadata": {
    "cell_id": "f608ff3b48ee47d7a9b1954d99a0a876",
    "tags": [],
    "deepnote_to_be_reexecuted": false,
    "source_hash": "db97e171",
    "execution_start": 1656771872980,
    "execution_millis": 0,
    "deepnote_cell_type": "code",
    "deepnote_cell_height": 81
   },
   "source": "planet = planet.dropna()",
   "outputs": [],
   "execution_count": null
  },
  {
   "cell_type": "code",
   "metadata": {
    "cell_id": "ca1e83259a77423085f06e9720c1aa2a",
    "tags": [],
    "deepnote_to_be_reexecuted": false,
    "source_hash": "5a1637cc",
    "execution_start": 1656771872981,
    "execution_millis": 148,
    "deepnote_cell_type": "code",
    "deepnote_cell_height": 118.1875,
    "deepnote_output_heights": [
     21.1875
    ]
   },
   "source": "planet.shape",
   "outputs": [
    {
     "output_type": "execute_result",
     "execution_count": 15,
     "data": {
      "text/plain": "(8945, 19)"
     },
     "metadata": {}
    }
   ],
   "execution_count": null
  },
  {
   "cell_type": "markdown",
   "source": "Were left with 7803 observations and 40 predictors, that's pretty good!",
   "metadata": {
    "formattedRanges": [],
    "cell_id": "e24b82fa356c4f20823c93b2764b5fba",
    "tags": [],
    "is_collapsed": false,
    "deepnote_cell_type": "text-cell-p"
   }
  },
  {
   "cell_type": "markdown",
   "source": "### Data Viz",
   "metadata": {
    "formattedRanges": [],
    "cell_id": "bbf404919ef143d28de414d78e3d83c4",
    "tags": [],
    "is_collapsed": false,
    "deepnote_cell_type": "text-cell-h3"
   }
  },
  {
   "cell_type": "code",
   "metadata": {
    "cell_id": "63ebeb4e7f1c410facb0f1674dbbca9e",
    "tags": [],
    "deepnote_to_be_reexecuted": false,
    "source_hash": "556ab541",
    "execution_start": 1656771872988,
    "execution_millis": 285,
    "deepnote_cell_type": "code",
    "deepnote_cell_height": 456.75,
    "deepnote_output_heights": [
     78.75,
     250
    ]
   },
   "source": "plt.hist(planet[\"PlanetaryRadius(Earthradii)\"], range = [0,250])",
   "outputs": [
    {
     "output_type": "execute_result",
     "execution_count": 16,
     "data": {
      "text/plain": "(array([7094.,  856.,  433.,  198.,   97.,   65.,   39.,   17.,   14.,\n          10.]),\n array([  0.,  25.,  50.,  75., 100., 125., 150., 175., 200., 225., 250.]),\n <BarContainer object of 10 artists>)"
     },
     "metadata": {}
    },
    {
     "data": {
      "text/plain": "<Figure size 432x288 with 1 Axes>",
      "image/png": "[encoded data removed]"
     },
     "metadata": {
      "needs_background": "light",
      "image/png": {
       "width": 381,
       "height": 248
      }
     },
     "output_type": "display_data"
    }
   ],
   "execution_count": null
  },
  {
   "cell_type": "markdown",
   "source": "I had to zoom in many times to get to this level, and its pretty clear that a lot of the objects are really small, and only a small number of them are quite large.",
   "metadata": {
    "formattedRanges": [],
    "cell_id": "9380da700a9f4b51a3b71d740c46db78",
    "tags": [],
    "is_collapsed": false,
    "deepnote_cell_type": "text-cell-p"
   }
  },
  {
   "cell_type": "code",
   "metadata": {
    "cell_id": "f869dfe60c874571926f6f6b1648444b",
    "tags": [],
    "deepnote_to_be_reexecuted": false,
    "source_hash": "91086bec",
    "execution_start": 1656771873274,
    "execution_millis": 209,
    "deepnote_cell_type": "code",
    "deepnote_cell_height": 456.75,
    "deepnote_output_heights": [
     78.75,
     250
    ]
   },
   "source": "plt.hist(planet[planet[\"ConfirmedExoplanet\"] == 2][\"PlanetaryRadius(Earthradii)\"], range = [0,250])",
   "outputs": [
    {
     "output_type": "execute_result",
     "execution_count": 17,
     "data": {
      "text/plain": "(array([2.649e+03, 6.000e+00, 1.000e+00, 1.000e+00, 0.000e+00, 0.000e+00,\n        0.000e+00, 0.000e+00, 0.000e+00, 0.000e+00]),\n array([  0.,  25.,  50.,  75., 100., 125., 150., 175., 200., 225., 250.]),\n <BarContainer object of 10 artists>)"
     },
     "metadata": {}
    },
    {
     "data": {
      "text/plain": "<Figure size 432x288 with 1 Axes>",
      "image/png": "[encoded data removed]"
     },
     "metadata": {
      "needs_background": "light",
      "image/png": {
       "width": 381,
       "height": 248
      }
     },
     "output_type": "display_data"
    }
   ],
   "execution_count": null
  },
  {
   "cell_type": "code",
   "metadata": {
    "cell_id": "dd156b9750b24fb4ac27f80bbbd8d843",
    "tags": [],
    "deepnote_to_be_reexecuted": false,
    "source_hash": "22d6662d",
    "execution_start": 1656771873481,
    "execution_millis": 378,
    "deepnote_cell_type": "code",
    "deepnote_cell_height": 401,
    "deepnote_output_heights": [
     268
    ]
   },
   "source": "sns.boxplot(x=\"ConfirmedExoplanet\", y=\"PlanetaryRadius(Earthradii)\", data = planet)\nplt.ylim(0, 500)\nplt.show()",
   "outputs": [
    {
     "data": {
      "text/plain": "<Figure size 432x288 with 1 Axes>",
      "image/png": "[encoded data removed]"
     },
     "metadata": {
      "needs_background": "light",
      "image/png": {
       "width": 389,
       "height": 266
      }
     },
     "output_type": "display_data"
    }
   ],
   "execution_count": null
  },
  {
   "cell_type": "markdown",
   "source": "Even the confirmed exoplanets are quite small, actually the smallest of all the objects.",
   "metadata": {
    "formattedRanges": [],
    "cell_id": "625c1e9e0f624c52aad848aed01e487f",
    "tags": [],
    "is_collapsed": false,
    "deepnote_cell_type": "text-cell-p"
   }
  },
  {
   "cell_type": "code",
   "metadata": {
    "cell_id": "2bd13a63e460497abfdbde7e71fe2e8a",
    "tags": [],
    "deepnote_to_be_reexecuted": false,
    "source_hash": "987d4ef1",
    "execution_start": 1656771873906,
    "execution_millis": 218,
    "deepnote_cell_type": "code",
    "deepnote_cell_height": 475.9375,
    "deepnote_output_heights": [
     97.9375,
     250
    ]
   },
   "source": "plt.hist(planet[\"SurfaceGravity(log10(cm/s**2))\"])",
   "outputs": [
    {
     "output_type": "execute_result",
     "execution_count": 19,
     "data": {
      "text/plain": "(array([   8.,   15.,   10.,   10.,   84.,  151.,  409., 2103., 6076.,\n          79.]),\n array([0.047 , 0.5787, 1.1104, 1.6421, 2.1738, 2.7055, 3.2372, 3.7689,\n        4.3006, 4.8323, 5.364 ]),\n <BarContainer object of 10 artists>)"
     },
     "metadata": {}
    },
    {
     "data": {
      "text/plain": "<Figure size 432x288 with 1 Axes>",
      "image/png": "[encoded data removed]"
     },
     "metadata": {
      "needs_background": "light",
      "image/png": {
       "width": 381,
       "height": 248
      }
     },
     "output_type": "display_data"
    }
   ],
   "execution_count": null
  },
  {
   "cell_type": "code",
   "metadata": {
    "cell_id": "8d4072960d9340dbb7e2298699bf17b8",
    "tags": [],
    "deepnote_to_be_reexecuted": false,
    "source_hash": "1dfbfcb8",
    "execution_start": 1656771874124,
    "execution_millis": 238,
    "deepnote_cell_type": "code",
    "deepnote_cell_height": 413.1875,
    "deepnote_output_heights": [
     21.1875,
     264
    ]
   },
   "source": "sns.boxplot(x=\"ConfirmedExoplanet\", y=\"TransitDuration(hrs)\", data = planet)",
   "outputs": [
    {
     "output_type": "execute_result",
     "execution_count": 20,
     "data": {
      "text/plain": "<AxesSubplot:xlabel='ConfirmedExoplanet', ylabel='TransitDuration(hrs)'>"
     },
     "metadata": {}
    },
    {
     "data": {
      "text/plain": "<Figure size 432x288 with 1 Axes>",
      "image/png": "[encoded data removed]"
     },
     "metadata": {
      "needs_background": "light",
      "image/png": {
       "width": 389,
       "height": 262
      }
     },
     "output_type": "display_data"
    }
   ],
   "execution_count": null
  },
  {
   "cell_type": "code",
   "metadata": {
    "cell_id": "e7e05f74c72d4abbb39a88c9736cf6e8",
    "tags": [],
    "deepnote_to_be_reexecuted": false,
    "source_hash": "4f603e20",
    "execution_start": 1656771874360,
    "execution_millis": 250,
    "deepnote_cell_type": "code",
    "deepnote_cell_height": 471.1875,
    "deepnote_output_heights": [
     21.1875,
     268
    ]
   },
   "source": "\nsns.boxplot(x=\"ConfirmedExoplanet\", y=\"TransitDepth(ppm)\", data = planet)\nplt.ylim(0, 100000)\n",
   "outputs": [
    {
     "output_type": "execute_result",
     "execution_count": 21,
     "data": {
      "text/plain": "(0.0, 100000.0)"
     },
     "metadata": {}
    },
    {
     "data": {
      "text/plain": "<Figure size 432x288 with 1 Axes>",
      "image/png": "[encoded data removed]"
     },
     "metadata": {
      "needs_background": "light",
      "image/png": {
       "width": 407,
       "height": 266
      }
     },
     "output_type": "display_data"
    }
   ],
   "execution_count": null
  },
  {
   "cell_type": "markdown",
   "source": "The transit depth is \"the fraction of stellar flux lost at the minimum of the planetary transit\", so essentially how bright/dim the light from a star became after the planet passed in front of it.",
   "metadata": {
    "formattedRanges": [],
    "cell_id": "0c5b68f495c34c198f7833548c45ef62",
    "tags": [],
    "is_collapsed": false,
    "deepnote_cell_type": "text-cell-p"
   }
  },
  {
   "cell_type": "markdown",
   "source": "It seems this is much more concentrated in lower ppm for confirmed and candidate exoplanets than the false positive ones, which have a huge range. This will likely be a main predictor in the model.",
   "metadata": {
    "formattedRanges": [],
    "cell_id": "1cb12f9665e747868cf25e7c8a95a06d",
    "tags": [],
    "is_collapsed": false,
    "deepnote_cell_type": "text-cell-p"
   }
  },
  {
   "cell_type": "code",
   "metadata": {
    "cell_id": "2d9f0abb16b24927a1a807cfa99a792b",
    "tags": [],
    "deepnote_to_be_reexecuted": false,
    "source_hash": "c04b2719",
    "execution_start": 1656771874640,
    "execution_millis": 286,
    "deepnote_cell_type": "code",
    "deepnote_cell_height": 435.1875,
    "deepnote_output_heights": [
     21.1875,
     268
    ]
   },
   "source": "sns.boxplot(x=\"ConfirmedExoplanet\", y=\"EffectiveTemperature(K)\", data = planet)\nplt.ylim(0,8000)",
   "outputs": [
    {
     "output_type": "execute_result",
     "execution_count": 22,
     "data": {
      "text/plain": "(0.0, 8000.0)"
     },
     "metadata": {}
    },
    {
     "data": {
      "text/plain": "<Figure size 432x288 with 1 Axes>",
      "image/png": "[encoded data removed]"
     },
     "metadata": {
      "needs_background": "light",
      "image/png": {
       "width": 395,
       "height": 266
      }
     },
     "output_type": "display_data"
    }
   ],
   "execution_count": null
  },
  {
   "cell_type": "markdown",
   "source": "Temperature doesn't really seem to have an effect, the mean for all the KOIs are about the same.",
   "metadata": {
    "formattedRanges": [],
    "cell_id": "153bc2f827f743b5858c037dc9d6a5ce",
    "tags": [],
    "is_collapsed": false,
    "deepnote_cell_type": "text-cell-p"
   }
  },
  {
   "cell_type": "markdown",
   "source": "## Classification",
   "metadata": {
    "formattedRanges": [],
    "cell_id": "927cec984446438eaef82eb7005a7b5f",
    "tags": [],
    "is_collapsed": false,
    "deepnote_cell_type": "text-cell-h2"
   }
  },
  {
   "cell_type": "markdown",
   "source": "",
   "metadata": {
    "formattedRanges": [],
    "cell_id": "0eb14de068b14a75b79f5e73adfbae0a",
    "tags": [],
    "is_collapsed": false,
    "deepnote_cell_type": "text-cell-p"
   }
  },
  {
   "cell_type": "code",
   "metadata": {
    "cell_id": "a8d324e10ed0435a85f52933a56e3424",
    "tags": [],
    "deepnote_to_be_reexecuted": false,
    "source_hash": "d7dd8d4",
    "execution_start": 1656771874928,
    "execution_millis": 2,
    "deepnote_cell_type": "code",
    "deepnote_cell_height": 369
   },
   "source": "def evaluation(y_test, y_pred):\n    \n    # Print Accuracy, Recall, F1 Score, and Precision metrics.\n    print('Evaluation:')\n    print('Accuracy: ' + str(metrics.accuracy_score(y_test, y_pred)))\n    print('Recall: ' + str(metrics.recall_score(y_test, y_pred)))\n    print('F1 Score: ' + str(metrics.f1_score(y_test, y_pred)))\n    print('Precision: ' + str(metrics.precision_score(y_test, y_pred)))\n    \n    # Print Confusion Matrix\n    print('\\nConfusion Matrix:')\n    print(' TN,  FP, FN, TP')\n    print(confusion_matrix(y_test, y_pred).ravel())\n    \n# Function Prints best parameters for GridSearchCV\ndef print_results(results):\n    print('Best Parameters: {}\\n'.format(results.best_params_)) ",
   "outputs": [],
   "execution_count": null
  },
  {
   "cell_type": "code",
   "metadata": {
    "cell_id": "f7c3d9930ea5468ba989afe4c2edd599",
    "tags": [],
    "deepnote_to_be_reexecuted": false,
    "source_hash": "4cca2cff",
    "execution_start": 1656771874934,
    "execution_millis": 97,
    "deepnote_cell_type": "code",
    "deepnote_cell_height": 617
   },
   "source": "planet",
   "outputs": [
    {
     "output_type": "execute_result",
     "execution_count": 24,
     "data": {
      "application/vnd.deepnote.dataframe.v3+json": {
       "column_count": 19,
       "row_count": 8945,
       "columns": [
        {
         "name": "kepid",
         "dtype": "int64",
         "stats": {
          "unique_count": 7730,
          "nan_count": 0,
          "min": "757450",
          "max": "12935144",
          "histogram": [
           {
            "bin_start": 757450,
            "bin_end": 1975219.4,
            "count": 50
           },
           {
            "bin_start": 1975219.4,
            "bin_end": 3192988.8,
            "count": 340
           },
           {
            "bin_start": 3192988.8,
            "bin_end": 4410758.199999999,
            "count": 803
           },
           {
            "bin_start": 4410758.199999999,
            "bin_end": 5628527.6,
            "count": 1097
           },
           {
            "bin_start": 5628527.6,
            "bin_end": 6846297,
            "count": 1187
           },
           {
            "bin_start": 6846297,
            "bin_end": 8064066.399999999,
            "count": 1167
           },
           {
            "bin_start": 8064066.399999999,
            "bin_end": 9281835.799999999,
            "count": 1363
           },
           {
            "bin_start": 9281835.799999999,
            "bin_end": 10499605.2,
            "count": 1439
           },
           {
            "bin_start": 10499605.2,
            "bin_end": 11717374.6,
            "count": 1032
           },
           {
            "bin_start": 11717374.6,
            "bin_end": 12935144,
            "count": 467
           }
          ]
         }
        },
        {
         "name": "OrbitalPeriod(days)",
         "dtype": "float64",
         "stats": {
          "unique_count": 8945,
          "nan_count": 0,
          "min": "0.259819659",
          "max": "1071.232624",
          "histogram": [
           {
            "bin_start": 0.259819659,
            "bin_end": 107.3571000931,
            "count": 7709
           },
           {
            "bin_start": 107.3571000931,
            "bin_end": 214.4543805272,
            "count": 406
           },
           {
            "bin_start": 214.4543805272,
            "bin_end": 321.5516609613,
            "count": 247
           },
           {
            "bin_start": 321.5516609613,
            "bin_end": 428.6489413954,
            "count": 333
           },
           {
            "bin_start": 428.6489413954,
            "bin_end": 535.7462218295,
            "count": 153
           },
           {
            "bin_start": 535.7462218295,
            "bin_end": 642.8435022635999,
            "count": 84
           },
           {
            "bin_start": 642.8435022635999,
            "bin_end": 749.9407826977,
            "count": 10
           },
           {
            "bin_start": 749.9407826977,
            "bin_end": 857.0380631318,
            "count": 1
           },
           {
            "bin_start": 857.0380631318,
            "bin_end": 964.1353435658999,
            "count": 0
           },
           {
            "bin_start": 964.1353435658999,
            "bin_end": 1071.232624,
            "count": 2
           }
          ]
         }
        },
        {
         "name": "TransitEpoch(BKJD)",
         "dtype": "float64",
         "stats": {
          "unique_count": 8924,
          "nan_count": 0,
          "min": "120.5159138",
          "max": "1472.522306",
          "histogram": [
           {
            "bin_start": 120.5159138,
            "bin_end": 255.71655302000005,
            "count": 8217
           },
           {
            "bin_start": 255.71655302000005,
            "bin_end": 390.9171922400001,
            "count": 566
           },
           {
            "bin_start": 390.9171922400001,
            "bin_end": 526.11783146,
            "count": 138
           },
           {
            "bin_start": 526.11783146,
            "bin_end": 661.3184706800001,
            "count": 20
           },
           {
            "bin_start": 661.3184706800001,
            "bin_end": 796.5191099000002,
            "count": 1
           },
           {
            "bin_start": 796.5191099000002,
            "bin_end": 931.7197491200002,
            "count": 2
           },
           {
            "bin_start": 931.7197491200002,
            "bin_end": 1066.92038834,
            "count": 0
           },
           {
            "bin_start": 1066.92038834,
            "bin_end": 1202.1210275600001,
            "count": 0
           },
           {
            "bin_start": 1202.1210275600001,
            "bin_end": 1337.3216667800002,
            "count": 0
           },
           {
            "bin_start": 1337.3216667800002,
            "bin_end": 1472.522306,
            "count": 1
           }
          ]
         }
        },
        {
         "name": "ImpactParameter",
         "dtype": "float64",
         "stats": {
          "unique_count": 2192,
          "nan_count": 0,
          "min": "0.0",
          "max": "100.806",
          "histogram": [
           {
            "bin_start": 0,
            "bin_end": 10.0806,
            "count": 8914
           },
           {
            "bin_start": 10.0806,
            "bin_end": 20.1612,
            "count": 11
           },
           {
            "bin_start": 20.1612,
            "bin_end": 30.2418,
            "count": 4
           },
           {
            "bin_start": 30.2418,
            "bin_end": 40.3224,
            "count": 2
           },
           {
            "bin_start": 40.3224,
            "bin_end": 50.403000000000006,
            "count": 1
           },
           {
            "bin_start": 50.403000000000006,
            "bin_end": 60.4836,
            "count": 0
           },
           {
            "bin_start": 60.4836,
            "bin_end": 70.5642,
            "count": 4
           },
           {
            "bin_start": 70.5642,
            "bin_end": 80.6448,
            "count": 4
           },
           {
            "bin_start": 80.6448,
            "bin_end": 90.72540000000001,
            "count": 2
           },
           {
            "bin_start": 90.72540000000001,
            "bin_end": 100.806,
            "count": 3
           }
          ]
         }
        },
        {
         "name": "TransitDuration(hrs)",
         "dtype": "float64",
         "stats": {
          "unique_count": 7526,
          "nan_count": 0,
          "min": "0.052",
          "max": "138.54",
          "histogram": [
           {
            "bin_start": 0.052,
            "bin_end": 13.9008,
            "count": 8355
           },
           {
            "bin_start": 13.9008,
            "bin_end": 27.7496,
            "count": 477
           },
           {
            "bin_start": 27.7496,
            "bin_end": 41.598400000000005,
            "count": 75
           },
           {
            "bin_start": 41.598400000000005,
            "bin_end": 55.4472,
            "count": 17
           },
           {
            "bin_start": 55.4472,
            "bin_end": 69.296,
            "count": 7
           },
           {
            "bin_start": 69.296,
            "bin_end": 83.14480000000002,
            "count": 6
           },
           {
            "bin_start": 83.14480000000002,
            "bin_end": 96.99360000000001,
            "count": 6
           },
           {
            "bin_start": 96.99360000000001,
            "bin_end": 110.84240000000001,
            "count": 0
           },
           {
            "bin_start": 110.84240000000001,
            "bin_end": 124.69120000000001,
            "count": 1
           },
           {
            "bin_start": 124.69120000000001,
            "bin_end": 138.54,
            "count": 1
           }
          ]
         }
        },
        {
         "name": "TransitDepth(ppm)",
         "dtype": "float64",
         "stats": {
          "unique_count": 2835,
          "nan_count": 0,
          "min": "0.0",
          "max": "1540000.0",
          "histogram": [
           {
            "bin_start": 0,
            "bin_end": 154000,
            "count": 8450
           },
           {
            "bin_start": 154000,
            "bin_end": 308000,
            "count": 255
           },
           {
            "bin_start": 308000,
            "bin_end": 462000,
            "count": 180
           },
           {
            "bin_start": 462000,
            "bin_end": 616000,
            "count": 38
           },
           {
            "bin_start": 616000,
            "bin_end": 770000,
            "count": 14
           },
           {
            "bin_start": 770000,
            "bin_end": 924000,
            "count": 7
           },
           {
            "bin_start": 924000,
            "bin_end": 1078000,
            "count": 0
           },
           {
            "bin_start": 1078000,
            "bin_end": 1232000,
            "count": 0
           },
           {
            "bin_start": 1232000,
            "bin_end": 1386000,
            "count": 0
           },
           {
            "bin_start": 1386000,
            "bin_end": 1540000,
            "count": 1
           }
          ]
         }
        },
        {
         "name": "PlanetaryRadius(Earthradii)",
         "dtype": "float64",
         "stats": {
          "unique_count": 2952,
          "nan_count": 0,
          "min": "0.08",
          "max": "200346.0",
          "histogram": [
           {
            "bin_start": 0.08,
            "bin_end": 20034.672000000002,
            "count": 8938
           },
           {
            "bin_start": 20034.672000000002,
            "bin_end": 40069.264,
            "count": 2
           },
           {
            "bin_start": 40069.264,
            "bin_end": 60103.856,
            "count": 1
           },
           {
            "bin_start": 60103.856,
            "bin_end": 80138.448,
            "count": 1
           },
           {
            "bin_start": 80138.448,
            "bin_end": 100173.04000000001,
            "count": 0
           },
           {
            "bin_start": 100173.04000000001,
            "bin_end": 120207.632,
            "count": 1
           },
           {
            "bin_start": 120207.632,
            "bin_end": 140242.224,
            "count": 0
           },
           {
            "bin_start": 140242.224,
            "bin_end": 160276.816,
            "count": 0
           },
           {
            "bin_start": 160276.816,
            "bin_end": 180311.408,
            "count": 1
           },
           {
            "bin_start": 180311.408,
            "bin_end": 200346,
            "count": 1
           }
          ]
         }
        },
        {
         "name": "EquilibriumTemperature(K)",
         "dtype": "float64",
         "stats": {
          "unique_count": 2495,
          "nan_count": 0,
          "min": "92.0",
          "max": "14667.0",
          "histogram": [
           {
            "bin_start": 92,
            "bin_end": 1549.5,
            "count": 7110
           },
           {
            "bin_start": 1549.5,
            "bin_end": 3007,
            "count": 1580
           },
           {
            "bin_start": 3007,
            "bin_end": 4464.5,
            "count": 185
           },
           {
            "bin_start": 4464.5,
            "bin_end": 5922,
            "count": 41
           },
           {
            "bin_start": 5922,
            "bin_end": 7379.5,
            "count": 17
           },
           {
            "bin_start": 7379.5,
            "bin_end": 8837,
            "count": 4
           },
           {
            "bin_start": 8837,
            "bin_end": 10294.5,
            "count": 3
           },
           {
            "bin_start": 10294.5,
            "bin_end": 11752,
            "count": 2
           },
           {
            "bin_start": 11752,
            "bin_end": 13209.5,
            "count": 2
           },
           {
            "bin_start": 13209.5,
            "bin_end": 14667,
            "count": 1
           }
          ]
         }
        },
        {
         "name": "InsolationFlux(Earthflux)",
         "dtype": "float64",
         "stats": {
          "unique_count": 7650,
          "nan_count": 0,
          "min": "0.02",
          "max": "10947554.55",
          "histogram": [
           {
            "bin_start": 0.02,
            "bin_end": 1094755.4730000002,
            "count": 8936
           },
           {
            "bin_start": 1094755.4730000002,
            "bin_end": 2189510.9260000004,
            "count": 3
           },
           {
            "bin_start": 2189510.9260000004,
            "bin_end": 3284266.3790000007,
            "count": 3
           },
           {
            "bin_start": 3284266.3790000007,
            "bin_end": 4379021.832,
            "count": 0
           },
           {
            "bin_start": 4379021.832,
            "bin_end": 5473777.285,
            "count": 1
           },
           {
            "bin_start": 5473777.285,
            "bin_end": 6568532.738000001,
            "count": 0
           },
           {
            "bin_start": 6568532.738000001,
            "bin_end": 7663288.1910000015,
            "count": 1
           },
           {
            "bin_start": 7663288.1910000015,
            "bin_end": 8758043.644000001,
            "count": 0
           },
           {
            "bin_start": 8758043.644000001,
            "bin_end": 9852799.097000001,
            "count": 0
           },
           {
            "bin_start": 9852799.097000001,
            "bin_end": 10947554.55,
            "count": 1
           }
          ]
         }
        },
        {
         "name": "TransitSignal-to-Nois",
         "dtype": "float64",
         "stats": {
          "unique_count": 2721,
          "nan_count": 0,
          "min": "0.0",
          "max": "9054.7",
          "histogram": [
           {
            "bin_start": 0,
            "bin_end": 905.47,
            "count": 8219
           },
           {
            "bin_start": 905.47,
            "bin_end": 1810.94,
            "count": 342
           },
           {
            "bin_start": 1810.94,
            "bin_end": 2716.41,
            "count": 166
           },
           {
            "bin_start": 2716.41,
            "bin_end": 3621.88,
            "count": 86
           },
           {
            "bin_start": 3621.88,
            "bin_end": 4527.35,
            "count": 48
           },
           {
            "bin_start": 4527.35,
            "bin_end": 5432.82,
            "count": 33
           },
           {
            "bin_start": 5432.82,
            "bin_end": 6338.29,
            "count": 23
           },
           {
            "bin_start": 6338.29,
            "bin_end": 7243.76,
            "count": 14
           },
           {
            "bin_start": 7243.76,
            "bin_end": 8149.2300000000005,
            "count": 6
           },
           {
            "bin_start": 8149.2300000000005,
            "bin_end": 9054.7,
            "count": 8
           }
          ]
         }
        },
        {
         "name": "TCEPlanetNumber",
         "dtype": "float64",
         "stats": {
          "unique_count": 8,
          "nan_count": 0,
          "min": "1.0",
          "max": "8.0",
          "histogram": [
           {
            "bin_start": 1,
            "bin_end": 1.7,
            "count": 7526
           },
           {
            "bin_start": 1.7,
            "bin_end": 2.4,
            "count": 944
           },
           {
            "bin_start": 2.4,
            "bin_end": 3.0999999999999996,
            "count": 312
           },
           {
            "bin_start": 3.0999999999999996,
            "bin_end": 3.8,
            "count": 0
           },
           {
            "bin_start": 3.8,
            "bin_end": 4.5,
            "count": 104
           },
           {
            "bin_start": 4.5,
            "bin_end": 5.199999999999999,
            "count": 38
           },
           {
            "bin_start": 5.199999999999999,
            "bin_end": 5.8999999999999995,
            "count": 0
           },
           {
            "bin_start": 5.8999999999999995,
            "bin_end": 6.6,
            "count": 13
           },
           {
            "bin_start": 6.6,
            "bin_end": 7.3,
            "count": 7
           },
           {
            "bin_start": 7.3,
            "bin_end": 8,
            "count": 1
           }
          ]
         }
        },
        {
         "name": "EffectiveTemperature(K)",
         "dtype": "float64"
        },
        {
         "name": "SurfaceGravity(log10(cm/s**2))",
         "dtype": "float64"
        },
        {
         "name": "Radius(Solarradii)",
         "dtype": "float64"
        },
        {
         "name": "RA(decimaldegrees)",
         "dtype": "float64"
        },
        {
         "name": "Dec(decimaldegrees)",
         "dtype": "float64"
        },
        {
         "name": "Kepler-band(mag)",
         "dtype": "float64"
        },
        {
         "name": "PossibleExoplanet",
         "dtype": "int64"
        },
        {
         "name": "ConfirmedExoplanet",
         "dtype": "int64"
        },
        {
         "name": "_deepnote_index_column",
         "dtype": "int64"
        }
       ],
       "rows": [
        {
         "kepid": 10797460,
         "OrbitalPeriod(days)": 9.48803557,
         "TransitEpoch(BKJD)": 170.53875,
         "ImpactParameter": 0.146,
         "TransitDuration(hrs)": 2.9575,
         "TransitDepth(ppm)": 616,
         "PlanetaryRadius(Earthradii)": 2.26,
         "EquilibriumTemperature(K)": 793,
         "InsolationFlux(Earthflux)": 93.59,
         "TransitSignal-to-Nois": 35.8,
         "TCEPlanetNumber": 1,
         "EffectiveTemperature(K)": 5455,
         "SurfaceGravity(log10(cm/s**2))": 4.467,
         "Radius(Solarradii)": 0.927,
         "RA(decimaldegrees)": 291.93423,
         "Dec(decimaldegrees)": 48.141651,
         "Kepler-band(mag)": 15.347,
         "PossibleExoplanet": 1,
         "ConfirmedExoplanet": 2,
         "_deepnote_index_column": 0
        },
        {
         "kepid": 10797460,
         "OrbitalPeriod(days)": 54.4183827,
         "TransitEpoch(BKJD)": 162.51384,
         "ImpactParameter": 0.586,
         "TransitDuration(hrs)": 4.507,
         "TransitDepth(ppm)": 875,
         "PlanetaryRadius(Earthradii)": 2.83,
         "EquilibriumTemperature(K)": 443,
         "InsolationFlux(Earthflux)": 9.11,
         "TransitSignal-to-Nois": 25.8,
         "TCEPlanetNumber": 2,
         "EffectiveTemperature(K)": 5455,
         "SurfaceGravity(log10(cm/s**2))": 4.467,
         "Radius(Solarradii)": 0.927,
         "RA(decimaldegrees)": 291.93423,
         "Dec(decimaldegrees)": 48.141651,
         "Kepler-band(mag)": 15.347,
         "PossibleExoplanet": 1,
         "ConfirmedExoplanet": 2,
         "_deepnote_index_column": 1
        },
        {
         "kepid": 10811496,
         "OrbitalPeriod(days)": 19.89913995,
         "TransitEpoch(BKJD)": 175.850252,
         "ImpactParameter": 0.969,
         "TransitDuration(hrs)": 1.7822,
         "TransitDepth(ppm)": 10800,
         "PlanetaryRadius(Earthradii)": 14.6,
         "EquilibriumTemperature(K)": 638,
         "InsolationFlux(Earthflux)": 39.3,
         "TransitSignal-to-Nois": 76.3,
         "TCEPlanetNumber": 1,
         "EffectiveTemperature(K)": 5853,
         "SurfaceGravity(log10(cm/s**2))": 4.544,
         "Radius(Solarradii)": 0.868,
         "RA(decimaldegrees)": 297.00482,
         "Dec(decimaldegrees)": 48.134129,
         "Kepler-band(mag)": 15.436,
         "PossibleExoplanet": 1,
         "ConfirmedExoplanet": 1,
         "_deepnote_index_column": 2
        },
        {
         "kepid": 10848459,
         "OrbitalPeriod(days)": 1.736952453,
         "TransitEpoch(BKJD)": 170.307565,
         "ImpactParameter": 1.276,
         "TransitDuration(hrs)": 2.40641,
         "TransitDepth(ppm)": 8080,
         "PlanetaryRadius(Earthradii)": 33.46,
         "EquilibriumTemperature(K)": 1395,
         "InsolationFlux(Earthflux)": 891.96,
         "TransitSignal-to-Nois": 505.6,
         "TCEPlanetNumber": 1,
         "EffectiveTemperature(K)": 5805,
         "SurfaceGravity(log10(cm/s**2))": 4.564,
         "Radius(Solarradii)": 0.791,
         "RA(decimaldegrees)": 285.53461,
         "Dec(decimaldegrees)": 48.28521,
         "Kepler-band(mag)": 15.597,
         "PossibleExoplanet": 0,
         "ConfirmedExoplanet": 0,
         "_deepnote_index_column": 3
        },
        {
         "kepid": 10854555,
         "OrbitalPeriod(days)": 2.525591777,
         "TransitEpoch(BKJD)": 171.59555,
         "ImpactParameter": 0.701,
         "TransitDuration(hrs)": 1.6545,
         "TransitDepth(ppm)": 603,
         "PlanetaryRadius(Earthradii)": 2.75,
         "EquilibriumTemperature(K)": 1406,
         "InsolationFlux(Earthflux)": 926.16,
         "TransitSignal-to-Nois": 40.9,
         "TCEPlanetNumber": 1,
         "EffectiveTemperature(K)": 6031,
         "SurfaceGravity(log10(cm/s**2))": 4.438,
         "Radius(Solarradii)": 1.046,
         "RA(decimaldegrees)": 288.75488,
         "Dec(decimaldegrees)": 48.2262,
         "Kepler-band(mag)": 15.509,
         "PossibleExoplanet": 1,
         "ConfirmedExoplanet": 2,
         "_deepnote_index_column": 4
        },
        {
         "kepid": 10872983,
         "OrbitalPeriod(days)": 11.09432054,
         "TransitEpoch(BKJD)": 171.20116,
         "ImpactParameter": 0.538,
         "TransitDuration(hrs)": 4.5945,
         "TransitDepth(ppm)": 1520,
         "PlanetaryRadius(Earthradii)": 3.9,
         "EquilibriumTemperature(K)": 835,
         "InsolationFlux(Earthflux)": 114.81,
         "TransitSignal-to-Nois": 66.5,
         "TCEPlanetNumber": 1,
         "EffectiveTemperature(K)": 6046,
         "SurfaceGravity(log10(cm/s**2))": 4.486,
         "Radius(Solarradii)": 0.972,
         "RA(decimaldegrees)": 296.28613,
         "Dec(decimaldegrees)": 48.22467,
         "Kepler-band(mag)": 15.714,
         "PossibleExoplanet": 1,
         "ConfirmedExoplanet": 2,
         "_deepnote_index_column": 5
        },
        {
         "kepid": 10872983,
         "OrbitalPeriod(days)": 4.13443512,
         "TransitEpoch(BKJD)": 172.97937,
         "ImpactParameter": 0.762,
         "TransitDuration(hrs)": 3.1402,
         "TransitDepth(ppm)": 686,
         "PlanetaryRadius(Earthradii)": 2.77,
         "EquilibriumTemperature(K)": 1160,
         "InsolationFlux(Earthflux)": 427.65,
         "TransitSignal-to-Nois": 40.2,
         "TCEPlanetNumber": 2,
         "EffectiveTemperature(K)": 6046,
         "SurfaceGravity(log10(cm/s**2))": 4.486,
         "Radius(Solarradii)": 0.972,
         "RA(decimaldegrees)": 296.28613,
         "Dec(decimaldegrees)": 48.22467,
         "Kepler-band(mag)": 15.714,
         "PossibleExoplanet": 1,
         "ConfirmedExoplanet": 2,
         "_deepnote_index_column": 6
        },
        {
         "kepid": 10872983,
         "OrbitalPeriod(days)": 2.56658897,
         "TransitEpoch(BKJD)": 179.55437,
         "ImpactParameter": 0.755,
         "TransitDuration(hrs)": 2.429,
         "TransitDepth(ppm)": 227,
         "PlanetaryRadius(Earthradii)": 1.59,
         "EquilibriumTemperature(K)": 1360,
         "InsolationFlux(Earthflux)": 807.74,
         "TransitSignal-to-Nois": 15,
         "TCEPlanetNumber": 3,
         "EffectiveTemperature(K)": 6046,
         "SurfaceGravity(log10(cm/s**2))": 4.486,
         "Radius(Solarradii)": 0.972,
         "RA(decimaldegrees)": 296.28613,
         "Dec(decimaldegrees)": 48.22467,
         "Kepler-band(mag)": 15.714,
         "PossibleExoplanet": 1,
         "ConfirmedExoplanet": 2,
         "_deepnote_index_column": 7
        },
        {
         "kepid": 6721123,
         "OrbitalPeriod(days)": 7.36178958,
         "TransitEpoch(BKJD)": 132.25053,
         "ImpactParameter": 1.169,
         "TransitDuration(hrs)": 5.022,
         "TransitDepth(ppm)": 234,
         "PlanetaryRadius(Earthradii)": 39.21,
         "EquilibriumTemperature(K)": 1342,
         "InsolationFlux(Earthflux)": 767.22,
         "TransitSignal-to-Nois": 47.7,
         "TCEPlanetNumber": 1,
         "EffectiveTemperature(K)": 6227,
         "SurfaceGravity(log10(cm/s**2))": 3.986,
         "Radius(Solarradii)": 1.958,
         "RA(decimaldegrees)": 298.86435,
         "Dec(decimaldegrees)": 42.151569,
         "Kepler-band(mag)": 12.66,
         "PossibleExoplanet": 0,
         "ConfirmedExoplanet": 0,
         "_deepnote_index_column": 8
        },
        {
         "kepid": 10910878,
         "OrbitalPeriod(days)": 16.06864674,
         "TransitEpoch(BKJD)": 173.621937,
         "ImpactParameter": 0.052,
         "TransitDuration(hrs)": 3.5347,
         "TransitDepth(ppm)": 4910,
         "PlanetaryRadius(Earthradii)": 5.76,
         "EquilibriumTemperature(K)": 600,
         "InsolationFlux(Earthflux)": 30.75,
         "TransitSignal-to-Nois": 161.9,
         "TCEPlanetNumber": 1,
         "EffectiveTemperature(K)": 5031,
         "SurfaceGravity(log10(cm/s**2))": 4.485,
         "Radius(Solarradii)": 0.848,
         "RA(decimaldegrees)": 286.99948,
         "Dec(decimaldegrees)": 48.37579,
         "Kepler-band(mag)": 15.841,
         "PossibleExoplanet": 1,
         "ConfirmedExoplanet": 2,
         "_deepnote_index_column": 9
        }
       ]
      },
      "text/plain": "         kepid  OrbitalPeriod(days)  TransitEpoch(BKJD)  ImpactParameter  \\\n0     10797460             9.488036          170.538750            0.146   \n1     10797460            54.418383          162.513840            0.586   \n2     10811496            19.899140          175.850252            0.969   \n3     10848459             1.736952          170.307565            1.276   \n4     10854555             2.525592          171.595550            0.701   \n...        ...                  ...                 ...              ...   \n9559  10090151             0.527699          131.705093            1.252   \n9560  10128825             1.739849          133.001270            0.043   \n9561  10147276             0.681402          132.181750            0.147   \n9562  10155286           333.486169          153.615010            0.214   \n9563  10156110             4.856035          135.993300            0.134   \n\n      TransitDuration(hrs)  TransitDepth(ppm)  PlanetaryRadius(Earthradii)  \\\n0                  2.95750              616.0                         2.26   \n1                  4.50700              875.0                         2.83   \n2                  1.78220            10800.0                        14.60   \n3                  2.40641             8080.0                        33.46   \n4                  1.65450              603.0                         2.75   \n...                    ...                ...                          ...   \n9559               3.22210             1580.0                        29.35   \n9560               3.11400               48.5                         0.72   \n9561               0.86500              104.0                         1.07   \n9562               3.19900              639.0                        19.30   \n9563               3.07800               76.7                         1.05   \n\n      EquilibriumTemperature(K)  InsolationFlux(Earthflux)  \\\n0                         793.0                      93.59   \n1                         443.0                       9.11   \n2                         638.0                      39.30   \n3                        1395.0                     891.96   \n4                        1406.0                     926.16   \n...                         ...                        ...   \n9559                     2088.0                    4500.53   \n9560                     1608.0                    1585.81   \n9561                     2218.0                    5713.41   \n9562                      557.0                      22.68   \n9563                     1266.0                     607.42   \n\n      TransitSignal-to-Nois  TCEPlanetNumber  EffectiveTemperature(K)  \\\n0                      35.8              1.0                   5455.0   \n1                      25.8              2.0                   5455.0   \n2                      76.3              1.0                   5853.0   \n3                     505.6              1.0                   5805.0   \n4                      40.9              1.0                   6031.0   \n...                     ...              ...                      ...   \n9559                  453.3              1.0                   5638.0   \n9560                   10.6              1.0                   6119.0   \n9561                   12.3              1.0                   6173.0   \n9562                   14.0              1.0                   4989.0   \n9563                    8.2              1.0                   6469.0   \n\n      SurfaceGravity(log10(cm/s**2))  Radius(Solarradii)  RA(decimaldegrees)  \\\n0                              4.467               0.927           291.93423   \n1                              4.467               0.927           291.93423   \n2                              4.544               0.868           297.00482   \n3                              4.564               0.791           285.53461   \n4                              4.438               1.046           288.75488   \n...                              ...                 ...                 ...   \n9559                           4.529               0.903           297.18875   \n9560                           4.444               1.031           286.50937   \n9561                           4.447               1.041           294.16489   \n9562                           2.992               7.824           296.76288   \n9563                           4.385               1.193           297.00977   \n\n      Dec(decimaldegrees)  Kepler-band(mag)  PossibleExoplanet  \\\n0               48.141651            15.347                  1   \n1               48.141651            15.347                  1   \n2               48.134129            15.436                  1   \n3               48.285210            15.597                  0   \n4               48.226200            15.509                  1   \n...                   ...               ...                ...   \n9559            47.093819            14.082                  0   \n9560            47.163219            14.757                  1   \n9561            47.176281            15.385                  0   \n9562            47.145142            10.998                  1   \n9563            47.121021            14.826                  0   \n\n      ConfirmedExoplanet  \n0                      2  \n1                      2  \n2                      1  \n3                      0  \n4                      2  \n...                  ...  \n9559                   0  \n9560                   1  \n9561                   0  \n9562                   1  \n9563                   0  \n\n[8945 rows x 19 columns]",
      "text/html": "<div>\n<style scoped>\n    .dataframe tbody tr th:only-of-type {\n        vertical-align: middle;\n    }\n\n    .dataframe tbody tr th {\n        vertical-align: top;\n    }\n\n    .dataframe thead th {\n        text-align: right;\n    }\n</style>\n<table border=\"1\" class=\"dataframe\">\n  <thead>\n    <tr style=\"text-align: right;\">\n      <th></th>\n      <th>kepid</th>\n      <th>OrbitalPeriod(days)</th>\n      <th>TransitEpoch(BKJD)</th>\n      <th>ImpactParameter</th>\n      <th>TransitDuration(hrs)</th>\n      <th>TransitDepth(ppm)</th>\n      <th>PlanetaryRadius(Earthradii)</th>\n      <th>EquilibriumTemperature(K)</th>\n      <th>InsolationFlux(Earthflux)</th>\n      <th>TransitSignal-to-Nois</th>\n      <th>TCEPlanetNumber</th>\n      <th>EffectiveTemperature(K)</th>\n      <th>SurfaceGravity(log10(cm/s**2))</th>\n      <th>Radius(Solarradii)</th>\n      <th>RA(decimaldegrees)</th>\n      <th>Dec(decimaldegrees)</th>\n      <th>Kepler-band(mag)</th>\n      <th>PossibleExoplanet</th>\n      <th>ConfirmedExoplanet</th>\n    </tr>\n  </thead>\n  <tbody>\n    <tr>\n      <th>0</th>\n      <td>10797460</td>\n      <td>9.488036</td>\n      <td>170.538750</td>\n      <td>0.146</td>\n      <td>2.95750</td>\n      <td>616.0</td>\n      <td>2.26</td>\n      <td>793.0</td>\n      <td>93.59</td>\n      <td>35.8</td>\n      <td>1.0</td>\n      <td>5455.0</td>\n      <td>4.467</td>\n      <td>0.927</td>\n      <td>291.93423</td>\n      <td>48.141651</td>\n      <td>15.347</td>\n      <td>1</td>\n      <td>2</td>\n    </tr>\n    <tr>\n      <th>1</th>\n      <td>10797460</td>\n      <td>54.418383</td>\n      <td>162.513840</td>\n      <td>0.586</td>\n      <td>4.50700</td>\n      <td>875.0</td>\n      <td>2.83</td>\n      <td>443.0</td>\n      <td>9.11</td>\n      <td>25.8</td>\n      <td>2.0</td>\n      <td>5455.0</td>\n      <td>4.467</td>\n      <td>0.927</td>\n      <td>291.93423</td>\n      <td>48.141651</td>\n      <td>15.347</td>\n      <td>1</td>\n      <td>2</td>\n    </tr>\n    <tr>\n      <th>2</th>\n      <td>10811496</td>\n      <td>19.899140</td>\n      <td>175.850252</td>\n      <td>0.969</td>\n      <td>1.78220</td>\n      <td>10800.0</td>\n      <td>14.60</td>\n      <td>638.0</td>\n      <td>39.30</td>\n      <td>76.3</td>\n      <td>1.0</td>\n      <td>5853.0</td>\n      <td>4.544</td>\n      <td>0.868</td>\n      <td>297.00482</td>\n      <td>48.134129</td>\n      <td>15.436</td>\n      <td>1</td>\n      <td>1</td>\n    </tr>\n    <tr>\n      <th>3</th>\n      <td>10848459</td>\n      <td>1.736952</td>\n      <td>170.307565</td>\n      <td>1.276</td>\n      <td>2.40641</td>\n      <td>8080.0</td>\n      <td>33.46</td>\n      <td>1395.0</td>\n      <td>891.96</td>\n      <td>505.6</td>\n      <td>1.0</td>\n      <td>5805.0</td>\n      <td>4.564</td>\n      <td>0.791</td>\n      <td>285.53461</td>\n      <td>48.285210</td>\n      <td>15.597</td>\n      <td>0</td>\n      <td>0</td>\n    </tr>\n    <tr>\n      <th>4</th>\n      <td>10854555</td>\n      <td>2.525592</td>\n      <td>171.595550</td>\n      <td>0.701</td>\n      <td>1.65450</td>\n      <td>603.0</td>\n      <td>2.75</td>\n      <td>1406.0</td>\n      <td>926.16</td>\n      <td>40.9</td>\n      <td>1.0</td>\n      <td>6031.0</td>\n      <td>4.438</td>\n      <td>1.046</td>\n      <td>288.75488</td>\n      <td>48.226200</td>\n      <td>15.509</td>\n      <td>1</td>\n      <td>2</td>\n    </tr>\n    <tr>\n      <th>...</th>\n      <td>...</td>\n      <td>...</td>\n      <td>...</td>\n      <td>...</td>\n      <td>...</td>\n      <td>...</td>\n      <td>...</td>\n      <td>...</td>\n      <td>...</td>\n      <td>...</td>\n      <td>...</td>\n      <td>...</td>\n      <td>...</td>\n      <td>...</td>\n      <td>...</td>\n      <td>...</td>\n      <td>...</td>\n      <td>...</td>\n      <td>...</td>\n    </tr>\n    <tr>\n      <th>9559</th>\n      <td>10090151</td>\n      <td>0.527699</td>\n      <td>131.705093</td>\n      <td>1.252</td>\n      <td>3.22210</td>\n      <td>1580.0</td>\n      <td>29.35</td>\n      <td>2088.0</td>\n      <td>4500.53</td>\n      <td>453.3</td>\n      <td>1.0</td>\n      <td>5638.0</td>\n      <td>4.529</td>\n      <td>0.903</td>\n      <td>297.18875</td>\n      <td>47.093819</td>\n      <td>14.082</td>\n      <td>0</td>\n      <td>0</td>\n    </tr>\n    <tr>\n      <th>9560</th>\n      <td>10128825</td>\n      <td>1.739849</td>\n      <td>133.001270</td>\n      <td>0.043</td>\n      <td>3.11400</td>\n      <td>48.5</td>\n      <td>0.72</td>\n      <td>1608.0</td>\n      <td>1585.81</td>\n      <td>10.6</td>\n      <td>1.0</td>\n      <td>6119.0</td>\n      <td>4.444</td>\n      <td>1.031</td>\n      <td>286.50937</td>\n      <td>47.163219</td>\n      <td>14.757</td>\n      <td>1</td>\n      <td>1</td>\n    </tr>\n    <tr>\n      <th>9561</th>\n      <td>10147276</td>\n      <td>0.681402</td>\n      <td>132.181750</td>\n      <td>0.147</td>\n      <td>0.86500</td>\n      <td>104.0</td>\n      <td>1.07</td>\n      <td>2218.0</td>\n      <td>5713.41</td>\n      <td>12.3</td>\n      <td>1.0</td>\n      <td>6173.0</td>\n      <td>4.447</td>\n      <td>1.041</td>\n      <td>294.16489</td>\n      <td>47.176281</td>\n      <td>15.385</td>\n      <td>0</td>\n      <td>0</td>\n    </tr>\n    <tr>\n      <th>9562</th>\n      <td>10155286</td>\n      <td>333.486169</td>\n      <td>153.615010</td>\n      <td>0.214</td>\n      <td>3.19900</td>\n      <td>639.0</td>\n      <td>19.30</td>\n      <td>557.0</td>\n      <td>22.68</td>\n      <td>14.0</td>\n      <td>1.0</td>\n      <td>4989.0</td>\n      <td>2.992</td>\n      <td>7.824</td>\n      <td>296.76288</td>\n      <td>47.145142</td>\n      <td>10.998</td>\n      <td>1</td>\n      <td>1</td>\n    </tr>\n    <tr>\n      <th>9563</th>\n      <td>10156110</td>\n      <td>4.856035</td>\n      <td>135.993300</td>\n      <td>0.134</td>\n      <td>3.07800</td>\n      <td>76.7</td>\n      <td>1.05</td>\n      <td>1266.0</td>\n      <td>607.42</td>\n      <td>8.2</td>\n      <td>1.0</td>\n      <td>6469.0</td>\n      <td>4.385</td>\n      <td>1.193</td>\n      <td>297.00977</td>\n      <td>47.121021</td>\n      <td>14.826</td>\n      <td>0</td>\n      <td>0</td>\n    </tr>\n  </tbody>\n</table>\n<p>8945 rows × 19 columns</p>\n</div>"
     },
     "metadata": {}
    }
   ],
   "execution_count": null
  },
  {
   "cell_type": "code",
   "metadata": {
    "cell_id": "399200626c334feea7ef6cc22586fb79",
    "tags": [],
    "deepnote_to_be_reexecuted": false,
    "source_hash": "73199f2c",
    "execution_start": 1656771875037,
    "execution_millis": 2,
    "deepnote_cell_type": "code",
    "deepnote_cell_height": 81
   },
   "source": "planet = planet.drop(columns = [\"kepid\"])",
   "outputs": [],
   "execution_count": null
  },
  {
   "cell_type": "code",
   "metadata": {
    "cell_id": "7ab24357bc264cd6b4a0a68206a25bac",
    "tags": [],
    "deepnote_to_be_reexecuted": false,
    "source_hash": "e3783712",
    "execution_start": 1656771875043,
    "execution_millis": 2,
    "deepnote_cell_type": "code",
    "deepnote_cell_height": 99
   },
   "source": "predictors = planet.drop(columns=['PossibleExoplanet','ConfirmedExoplanet'])\ny = planet[\"PossibleExoplanet\"]",
   "outputs": [],
   "execution_count": null
  },
  {
   "cell_type": "code",
   "metadata": {
    "cell_id": "13f4969d005a42cb9f7620fd118c4b31",
    "tags": [],
    "deepnote_to_be_reexecuted": false,
    "source_hash": "72b3baad",
    "execution_start": 1656771875090,
    "execution_millis": 1,
    "deepnote_cell_type": "code",
    "deepnote_cell_height": 81
   },
   "source": "X_train, X_test, y_train, y_test = train_test_split(predictors, y, random_state=1, test_size=0.30)",
   "outputs": [],
   "execution_count": null
  },
  {
   "cell_type": "code",
   "metadata": {
    "cell_id": "cd2d2dba11ab4084ae078982d049b4cd",
    "tags": [],
    "deepnote_to_be_reexecuted": false,
    "source_hash": "dc863342",
    "execution_start": 1656771875091,
    "execution_millis": 0,
    "deepnote_cell_type": "code",
    "deepnote_cell_height": 135
   },
   "source": "scaler_tr = preprocessing.StandardScaler().fit(X_train)\nscaler_ts = preprocessing.StandardScaler().fit(X_test)\nX_tr_scaled = scaler_tr.transform(X_train)\nX_tst_scaled = scaler_ts.transform(X_test)",
   "outputs": [],
   "execution_count": null
  },
  {
   "cell_type": "markdown",
   "source": "### Logistic Regression",
   "metadata": {
    "formattedRanges": [],
    "cell_id": "7e6d405fb7034f548bd46624dcd1ced2",
    "tags": [],
    "is_collapsed": false,
    "deepnote_cell_type": "text-cell-h3"
   }
  },
  {
   "cell_type": "markdown",
   "source": "Logistice Regression is a very simple classification method. The model takes the form of \n$$p(x) = \\frac{1}{1+ e^{\\beta_0 + \\beta_1x}}$$ where $$\\beta_0$$ is the intercept, and $$\\beta_1$$ is the slope of the log odds function as a function of x. The result is: ![logistic graph](images/log.jpeg)\nAs we can see, the points are fit into two classes, and compared to linear regression, the fit of f(x) is much tighter. The value $$\\mu$$ is the boundary where the the classes are split. If we rewrite the equation above we get : $$p(x) = \\frac{1}{1+ e^{-(x - \\mu)/s}}$$ where s is a scaling parameter, basically, the larger value of s, the more spread out the distribution is.\n",
   "metadata": {
    "cell_id": "82e3281e1a9148b187def1ea173630b7",
    "tags": [],
    "deepnote_cell_type": "markdown",
    "deepnote_cell_height": 511.140625
   }
  },
  {
   "cell_type": "markdown",
   "source": "I will start with a simple logistic regression, as a baseline. The parameters I will use are:\n- C : This is the inverse of regularization strength. It will essentially reduce overfitting by penalizing larger values of the parameters. Large values will contribute less to the fit of the model and therefore reduce overfitting.\n- max_iter : This is the max iterations used for the solvers to converge\n- class_weight : from sklearn: The “balanced” mode uses the values of y to automatically adjust weights inversely proportional to class frequencies in the input data as n_samples / (n_classes * np.bincount(y))",
   "metadata": {
    "cell_id": "e333989dbb9146a4a23cfef563bd3a41",
    "tags": [],
    "deepnote_cell_type": "markdown",
    "deepnote_cell_height": 198.34375
   }
  },
  {
   "cell_type": "code",
   "metadata": {
    "cell_id": "4b253072d09d4cdbb2f2ed399b162b82",
    "tags": [],
    "deepnote_to_be_reexecuted": false,
    "source_hash": "e6716164",
    "execution_start": 1656771875092,
    "execution_millis": 2164,
    "deepnote_cell_type": "code",
    "deepnote_cell_height": 619.1875
   },
   "source": "# Logistic Regression Model\nlr = LogisticRegression(C=100, max_iter=400, class_weight='balanced')\n\n# Fitting Model to the train set\nlr.fit(X_train, y_train)\n\n# Predicting on the test set\ny_pred = lr.predict(X_test)\n\n# Evaluating model\nevaluation(y_test, y_pred)",
   "outputs": [
    {
     "name": "stdout",
     "text": "Evaluation:\nAccuracy: 0.7622950819672131\nRecall: 0.8633677991137371\nF1 Score: 0.7856182795698926\nPrecision: 0.7207151664611591\n\nConfusion Matrix:\n TN,  FP, FN, TP\n[ 877  453  185 1169]\n/shared-libs/python3.9/py/lib/python3.9/site-packages/sklearn/linear_model/_logistic.py:444: ConvergenceWarning: lbfgs failed to converge (status=1):\nSTOP: TOTAL NO. of ITERATIONS REACHED LIMIT.\n\nIncrease the number of iterations (max_iter) or scale the data as shown in:\n    https://scikit-learn.org/stable/modules/preprocessing.html\nPlease also refer to the documentation for alternative solver options:\n    https://scikit-learn.org/stable/modules/linear_model.html#logistic-regression\n  n_iter_i = _check_optimize_result(\n",
     "output_type": "stream"
    }
   ],
   "execution_count": null
  },
  {
   "cell_type": "markdown",
   "source": "Let's try using the scaled data.",
   "metadata": {
    "formattedRanges": [],
    "cell_id": "cd30439978fa4ddd946b321b87574e10",
    "tags": [],
    "is_collapsed": false,
    "deepnote_cell_type": "text-cell-p"
   }
  },
  {
   "cell_type": "code",
   "metadata": {
    "cell_id": "d8c2848908544ca99c13e05b9e200c34",
    "tags": [],
    "deepnote_to_be_reexecuted": false,
    "source_hash": "ef05c0d4",
    "execution_start": 1656771877302,
    "execution_millis": 245,
    "deepnote_cell_type": "code",
    "deepnote_cell_height": 453.6875
   },
   "source": "# Logistic Regression Model\nlr = LogisticRegression(C=100, max_iter=400, class_weight='balanced')\n\n# Fitting Model to the train set\nlr.fit(X_tr_scaled, y_train)\n\n# Predicting on the test set\ny_pred = lr.predict(X_tst_scaled)\n\n# Evaluating model\nevaluation(y_test, y_pred)",
   "outputs": [
    {
     "name": "stdout",
     "text": "Evaluation:\nAccuracy: 0.7932190760059612\nRecall: 0.8788774002954209\nF1 Score: 0.8109028960817717\nPrecision: 0.7526881720430108\n\nConfusion Matrix:\n TN,  FP, FN, TP\n[ 939  391  164 1190]\n",
     "output_type": "stream"
    }
   ],
   "execution_count": null
  },
  {
   "cell_type": "markdown",
   "source": "### KNN",
   "metadata": {
    "formattedRanges": [],
    "cell_id": "5c305993c96e42d69d6a1fae1e627073",
    "tags": [],
    "is_collapsed": false,
    "deepnote_cell_type": "text-cell-h3"
   }
  },
  {
   "cell_type": "markdown",
   "source": "K Nearest Neighbors essentially looks at each data points K nearest points, and uses their classification. The parameters I will use:\n- n_neighbors : How many neighbors should be used for each point.\n- metric : There are several different metrics to use for distance calculations, and hence finding the closest points. Examples : 'manhattan', 'cosine', 'minkowski'\n- weights : There are different methods of determining weights of each point in a neighborhood. Uniform gives all the points equal weight whereas distance will give more weight to closer points in the neighborhood.",
   "metadata": {
    "cell_id": "a1ea50f8d4514e87a96582959c9e6216",
    "tags": [],
    "deepnote_cell_type": "markdown",
    "deepnote_cell_height": 198.34375
   }
  },
  {
   "cell_type": "code",
   "metadata": {
    "cell_id": "cb00aabf192141c1b1c3719d5fe621c5",
    "tags": [],
    "deepnote_to_be_reexecuted": false,
    "source_hash": "b9df999e",
    "execution_start": 1656771877548,
    "execution_millis": 1153,
    "deepnote_cell_type": "code",
    "deepnote_cell_height": 435.6875
   },
   "source": "knn = KNeighborsClassifier(n_neighbors = 5, metric='manhattan',weights='uniform')\n\n# Fitting Model to the train set\nknn.fit(X_train, y_train)\n\n# Predicting on the test set\ny_pred = knn.predict(X_test)\n\n# Evaluating model\nevaluation(y_test, y_pred)",
   "outputs": [
    {
     "name": "stdout",
     "text": "Evaluation:\nAccuracy: 0.7522354694485842\nRecall: 0.8131462333825702\nF1 Score: 0.7680502267178235\nPrecision: 0.7276933245208196\n\nConfusion Matrix:\n TN,  FP, FN, TP\n[ 918  412  253 1101]\n",
     "output_type": "stream"
    }
   ],
   "execution_count": null
  },
  {
   "cell_type": "code",
   "metadata": {
    "cell_id": "ce5abe38cb894c4181f0bc816bcbb5c1",
    "tags": [],
    "deepnote_to_be_reexecuted": false,
    "source_hash": "5eabeebe",
    "execution_start": 1656771878170,
    "execution_millis": 541,
    "deepnote_cell_type": "code",
    "deepnote_cell_height": 435.6875
   },
   "source": "knn = KNeighborsClassifier(metric='manhattan',weights='uniform')\n\n# Fitting Model to the train set\nknn.fit(X_tr_scaled, y_train)\n\n# Predicting on the test set\ny_pred = knn.predict(X_tst_scaled)\n\n# Evaluating model\nevaluation(y_test, y_pred)",
   "outputs": [
    {
     "name": "stdout",
     "text": "Evaluation:\nAccuracy: 0.7816691505216096\nRecall: 0.8641063515509602\nF1 Score: 0.7997265892002735\nPrecision: 0.7442748091603053\n\nConfusion Matrix:\n TN,  FP, FN, TP\n[ 928  402  184 1170]\n",
     "output_type": "stream"
    }
   ],
   "execution_count": null
  },
  {
   "cell_type": "markdown",
   "source": "It's pretty clear that the scaled data works the best.",
   "metadata": {
    "formattedRanges": [],
    "cell_id": "427efc8191104a20811e37e4bac9207e",
    "tags": [],
    "is_collapsed": false,
    "deepnote_cell_type": "text-cell-p"
   }
  },
  {
   "cell_type": "markdown",
   "source": "### Trees",
   "metadata": {
    "formattedRanges": [],
    "cell_id": "ccff3bf064df4e8aaa575326d00182bf",
    "tags": [],
    "is_collapsed": false,
    "deepnote_cell_type": "text-cell-h3"
   }
  },
  {
   "cell_type": "markdown",
   "source": "Trees aren't as sensitive to variance in the data, so scaling wont be necessary.",
   "metadata": {
    "formattedRanges": [],
    "cell_id": "0d61d9a10bf2437ca73d7c21563a885f",
    "tags": [],
    "is_collapsed": false,
    "deepnote_cell_type": "text-cell-p"
   }
  },
  {
   "cell_type": "markdown",
   "source": "The basic idea behind decision trees are using the predictors to set thresholds, where each threshold is a node in the tree. Say all the exoplanets have a radius under 5 earth radii (I made this up) and most of the false positive objects have a radius over 5 earth radii. This is where we would create a node and \"send down\" observations.  \n![Tree](images/tree_img.png)\nFor each KOI that is under 5 earth radii, we send that down one branch, and the ones over 5 are sent down another branch. The end result is a 'tree' with several nodes, as seen above. Finally the 'leaf' nodes (labeled A,B,C,D in the image) are the class in which a data point would belong. This is why I used the terminology \"sending down the tree\" because the training data is used to build these criterion, and the test data then classifies based on them. In our case there are only 2 possible classes, but there will still be multiple leaf nodes.",
   "metadata": {
    "cell_id": "1cdc1cca9ce046f380df6a68cc44e54e",
    "tags": [],
    "deepnote_cell_type": "markdown",
    "deepnote_cell_height": 777.125
   }
  },
  {
   "cell_type": "code",
   "metadata": {
    "cell_id": "c2a0b347861a41ff9ca19f6ef1f68b9c",
    "tags": [],
    "deepnote_to_be_reexecuted": false,
    "source_hash": "5cead9d7",
    "execution_start": 1656771878540,
    "execution_millis": 172,
    "deepnote_cell_type": "code",
    "deepnote_cell_height": 435.6875
   },
   "source": "tree = DecisionTreeClassifier()\n\n# Fitting Model to the train set\ntree.fit(X_train, y_train)\n\n# Predicting on the test set\ny_pred = tree.predict(X_test)\n\n# Evaluating model\nevaluation(y_test, y_pred)",
   "outputs": [
    {
     "name": "stdout",
     "text": "Evaluation:\nAccuracy: 0.7805514157973175\nRecall: 0.7680945347119645\nF1 Score: 0.7793180966654177\nPrecision: 0.7908745247148289\n\nConfusion Matrix:\n TN,  FP, FN, TP\n[1055  275  314 1040]\n",
     "output_type": "stream"
    }
   ],
   "execution_count": null
  },
  {
   "cell_type": "markdown",
   "source": "We can see that the tree performs quite well, but this is only one tree. Random forests combine multiple trees and classify that way.",
   "metadata": {
    "formattedRanges": [],
    "cell_id": "2b4d4a02952d46de809dda3229a13b97",
    "tags": [],
    "is_collapsed": false,
    "deepnote_cell_type": "text-cell-p"
   }
  },
  {
   "cell_type": "markdown",
   "source": "Random Forests take the process described above and does it multiple times, so were left with multiple relatively uncorrelated trees. How are they uncorrelated you may ask:\n - Each tree uses randomly sampled data from the training data with replacement, a process known as bagging (bootstrap aggragation), so each tree is built on different \"bootstrap\" datasets. \n - Each tree also has a subset of different predictors so they don't use all of the predictors in each, forcing different splits to be made, and making it so the trees don't see all of the features.\n\nWith these uncorrelated trees, we know that some are probably wrong, and some are right. When we feed the model data, it will use all the trees, where each tree has one vote, the class with the most votes is where the observation is classified to.",
   "metadata": {
    "cell_id": "5e378822a2a44635b59ca4f2042dc702",
    "tags": [],
    "deepnote_cell_type": "markdown",
    "deepnote_cell_height": 240.125
   }
  },
  {
   "cell_type": "markdown",
   "source": "There are different criterion to use for making the split, and it based on minimizing a loss function.\n- Gini : Evaluates split based on the 'purity' of the resulting\tnodes, a value of 0 means that a node has 100% of one class, it is calulated as follows ![gini](images/gini.png) \n\n- Entropy : Pretty similar, evaluates the 'chaos' which is basically the impurity, it is just calculated differently, as shown below. A split is only performed if the resulting nodes entropies are smaller than the entropy of their parent node. ![entropy](images/entropy.png)\n\ncredit: [Medium Post](https://towardsdatascience.com/decision-tree-classifier-explained-in-real-life-picking-a-vacation-destination-6226b2b60575)\n\n- Log-loss: Similar to the above, it is just trying to minimize the following equation:\n\n$$L_{\\log}(y, p) = -(y \\log (p) + (1 - y) \\log (1 - p))$$",
   "metadata": {
    "cell_id": "fe5618206a54460f8bf0ec87ff36d6a0",
    "tags": [],
    "deepnote_cell_type": "markdown",
    "deepnote_cell_height": 815.125
   }
  },
  {
   "cell_type": "code",
   "metadata": {
    "cell_id": "b8ea29f5455d41aabe95bc0e9dd69bf1",
    "tags": [],
    "deepnote_to_be_reexecuted": false,
    "source_hash": "2b8bd84c",
    "execution_start": 1656771878676,
    "execution_millis": 2794,
    "deepnote_cell_type": "code",
    "deepnote_cell_height": 399.6875
   },
   "source": "# n_estimators is the number of trees to use\nforest = RandomForestClassifier(n_estimators=100, criterion='gini')\n\nforest.fit(X_train, y_train)\n\ny_pred = forest.predict(X_test)\n\nevaluation(y_test, y_pred)",
   "outputs": [
    {
     "name": "stdout",
     "text": "Evaluation:\nAccuracy: 0.8520864381520119\nRecall: 0.8692762186115214\nF1 Score: 0.8556888404216648\nPrecision: 0.84251968503937\n\nConfusion Matrix:\n TN,  FP, FN, TP\n[1110  220  177 1177]\n",
     "output_type": "stream"
    }
   ],
   "execution_count": null
  },
  {
   "cell_type": "code",
   "metadata": {
    "cell_id": "9c11e3a234f84d05b4dd3d0f8137e90b",
    "tags": [],
    "deepnote_to_be_reexecuted": false,
    "source_hash": "848fb524",
    "execution_start": 1656771881037,
    "execution_millis": 2073,
    "deepnote_cell_type": "code",
    "deepnote_cell_height": 399.6875
   },
   "source": "# n_estimators is the number of trees to use\nforest = RandomForestClassifier(n_estimators=100, criterion='gini')\n\nforest.fit(X_tr_scaled, y_train)\n\ny_pred = forest.predict(X_tst_scaled)\n\nevaluation(y_test, y_pred)",
   "outputs": [
    {
     "name": "stdout",
     "text": "Evaluation:\nAccuracy: 0.7157228017883756\nRecall: 0.6100443131462334\nF1 Score: 0.6840579710144928\nPrecision: 0.7785108388312912\n\nConfusion Matrix:\n TN,  FP, FN, TP\n[1095  235  528  826]\n",
     "output_type": "stream"
    }
   ],
   "execution_count": null
  },
  {
   "cell_type": "markdown",
   "source": "Lastly, we can see if we can perform any better by tuning the parameters.",
   "metadata": {
    "formattedRanges": [],
    "cell_id": "a81f4c1043374d05af036b8abfe3657b",
    "tags": [],
    "is_collapsed": false,
    "deepnote_cell_type": "text-cell-p"
   }
  },
  {
   "cell_type": "markdown",
   "source": "- max_depth: The maximum depth a tree can be built to, the depth is essentially the layers of a tree, just a root will be depth 0, a root with 2 children is depth 1, and if either of those children have children, the tree will have depth of 2 and so on.\n- max_features: Recall that each tree in the forest is bult with a subset of predictors, this number determines the max amount to use for that subset\n- oob_score : Whether to use out of bag samples to estimate the score, out of bag samples are the observations not chosen when creating the bootstrap samples.",
   "metadata": {
    "cell_id": "492a36adf8b6497d88049b6b73b01e48",
    "tags": [],
    "deepnote_cell_type": "markdown",
    "deepnote_cell_height": 187.34375
   }
  },
  {
   "cell_type": "code",
   "metadata": {
    "cell_id": "d6123b9ca7e34849ae5f63d1d0eee9b6",
    "tags": [],
    "deepnote_to_be_reexecuted": false,
    "source_hash": "8c754527",
    "execution_start": 1656771883113,
    "execution_millis": 3,
    "deepnote_cell_type": "code",
    "deepnote_cell_height": 207
   },
   "source": "# GridSearch Parameters\nparameters = {\n    'n_estimators': [10, 50, 100, 150, 200, 250],\n    'max_depth': list(range(3, 14)),\n    'criterion':['gini','entropy'],\n    'max_features': list(range(5,25)),\n    'oob_score':[False,True],\n}",
   "outputs": [],
   "execution_count": null
  },
  {
   "cell_type": "code",
   "metadata": {
    "cell_id": "08663718bb5b4870bd5ecbd59e115d2c",
    "tags": [],
    "deepnote_to_be_reexecuted": false,
    "source_hash": "2dc8ad75",
    "execution_start": 1656771883119,
    "execution_millis": 163015,
    "deepnote_cell_type": "code",
    "deepnote_cell_height": 419.875
   },
   "source": "# I tried Grid Search and it took way too long\ngrid = RandomizedSearchCV(forest, parameters, cv=5, verbose = 1, n_iter = 10)\n\ngrid.fit(X_train, y_train)\ny_test_grid = grid.predict(X_test)\n\n# Evaluating model\nevaluation(y_test, y_pred)",
   "outputs": [
    {
     "name": "stdout",
     "text": "Fitting 5 folds for each of 10 candidates, totalling 50 fits\nEvaluation:\nAccuracy: 0.7157228017883756\nRecall: 0.6100443131462334\nF1 Score: 0.6840579710144928\nPrecision: 0.7785108388312912\n\nConfusion Matrix:\n TN,  FP, FN, TP\n[1095  235  528  826]\n",
     "output_type": "stream"
    }
   ],
   "execution_count": null
  },
  {
   "cell_type": "code",
   "metadata": {
    "cell_id": "e78fb0eebca141b8aa825da9fd88ad29",
    "tags": [],
    "deepnote_to_be_reexecuted": false,
    "source_hash": "bc2baa2b",
    "execution_start": 1656772046132,
    "execution_millis": 2,
    "deepnote_cell_type": "code",
    "deepnote_cell_height": 194.9375,
    "deepnote_output_heights": [
     97.9375
    ]
   },
   "source": "grid.best_params_",
   "outputs": [
    {
     "output_type": "execute_result",
     "execution_count": 38,
     "data": {
      "text/plain": "{'oob_score': True,\n 'n_estimators': 150,\n 'max_features': 5,\n 'max_depth': 13,\n 'criterion': 'entropy'}"
     },
     "metadata": {}
    }
   ],
   "execution_count": null
  },
  {
   "cell_type": "code",
   "metadata": {
    "cell_id": "36f3c16d010f4ac6a83faecb404ea130",
    "tags": [],
    "deepnote_to_be_reexecuted": false,
    "source_hash": "e6d4e836",
    "execution_start": 1656772231352,
    "execution_millis": 5129,
    "deepnote_cell_type": "code",
    "deepnote_cell_height": 399.6875
   },
   "source": "# n_estimators is the number of trees to use\nbest_forest = RandomForestClassifier(n_estimators=150,max_depth=13 ,criterion='entropy', max_features = 5, oob_score = True)\n\nbest_forest.fit(X_train, y_train)\n\ny_pred = best_forest.predict(X_test)\n\nevaluation(y_test, y_pred)",
   "outputs": [
    {
     "name": "stdout",
     "text": "Evaluation:\nAccuracy: 0.8479880774962743\nRecall: 0.8744460856720827\nF1 Score: 0.8530259365994236\nPrecision: 0.8326300984528833\n\nConfusion Matrix:\n TN,  FP, FN, TP\n[1092  238  170 1184]\n",
     "output_type": "stream"
    }
   ],
   "execution_count": null
  },
  {
   "cell_type": "code",
   "metadata": {
    "cell_id": "aa8887072f7649ffb0ba3d9fde7d6627",
    "tags": [],
    "deepnote_to_be_reexecuted": false,
    "source_hash": "529b288f",
    "execution_start": 1656772052264,
    "execution_millis": 27,
    "deepnote_cell_type": "code",
    "deepnote_cell_height": 175.75,
    "deepnote_output_heights": [
     78.75
    ]
   },
   "source": "best_forest.feature_importances_",
   "outputs": [
    {
     "output_type": "execute_result",
     "execution_count": 40,
     "data": {
      "text/plain": "array([0.10536746, 0.03144259, 0.07610874, 0.07204624, 0.09362799,\n       0.25293034, 0.07719025, 0.07888178, 0.06363188, 0.01198099,\n       0.0255451 , 0.01918847, 0.02115697, 0.02905684, 0.02366445,\n       0.01817991])"
     },
     "metadata": {}
    }
   ],
   "execution_count": null
  },
  {
   "cell_type": "code",
   "metadata": {
    "cell_id": "5be86e85d8d74cb4a9b43f7b2106f10f",
    "tags": [],
    "deepnote_to_be_reexecuted": false,
    "source_hash": "3b7766c4",
    "execution_start": 1656772052296,
    "execution_millis": 5,
    "deepnote_cell_type": "code",
    "deepnote_cell_height": 252.5,
    "deepnote_output_heights": [
     155.5
    ]
   },
   "source": "planet.columns",
   "outputs": [
    {
     "output_type": "execute_result",
     "execution_count": 41,
     "data": {
      "text/plain": "Index(['OrbitalPeriod(days)', 'TransitEpoch(BKJD)', 'ImpactParameter',\n       'TransitDuration(hrs)', 'TransitDepth(ppm)',\n       'PlanetaryRadius(Earthradii)', 'EquilibriumTemperature(K)',\n       'InsolationFlux(Earthflux)', 'TransitSignal-to-Nois', 'TCEPlanetNumber',\n       'EffectiveTemperature(K)', 'SurfaceGravity(log10(cm/s**2))',\n       'Radius(Solarradii)', 'RA(decimaldegrees)', 'Dec(decimaldegrees)',\n       'Kepler-band(mag)', 'PossibleExoplanet', 'ConfirmedExoplanet'],\n      dtype='object')"
     },
     "metadata": {}
    }
   ],
   "execution_count": null
  },
  {
   "cell_type": "code",
   "metadata": {
    "cell_id": "4815170f6eb3452eab807c0d8da8ca10",
    "tags": [],
    "deepnote_to_be_reexecuted": false,
    "source_hash": "c5378f73",
    "execution_start": 1656772052346,
    "execution_millis": 302,
    "deepnote_cell_type": "code",
    "deepnote_cell_height": 531,
    "deepnote_output_heights": [
     398,
     448
    ]
   },
   "source": "plt.bar(X_train.columns, best_forest.feature_importances_)\nplt.xticks(rotation= 90)\nplt.show()",
   "outputs": [
    {
     "data": {
      "text/plain": "<Figure size 432x288 with 1 Axes>",
      "image/png": "[encoded data removed]"
     },
     "metadata": {
      "needs_background": "light",
      "image/png": {
       "width": 378,
       "height": 396
      }
     },
     "output_type": "display_data"
    }
   ],
   "execution_count": null
  },
  {
   "cell_type": "markdown",
   "source": "It appears that Planetary Radius is the most important feature by some margin. The EDA I performed showed that confirmed and candidate exoplanets were in a much tighter range than the other KOIs, which ranged from very small to very large (relatively) objects.",
   "metadata": {
    "formattedRanges": [],
    "cell_id": "1332242e46f242f2a99d3c80c07c9959",
    "tags": [],
    "is_collapsed": false,
    "deepnote_cell_type": "text-cell-p"
   }
  },
  {
   "cell_type": "markdown",
   "source": "I suspected that Transit Depth would play an important factor in the model through my EDA, and it is the 3rd most important predictor.",
   "metadata": {
    "cell_id": "311d529066164ddb9b42601d7bc39c3a",
    "tags": [],
    "is_collapsed": false,
    "formattedRanges": [],
    "deepnote_cell_type": "text-cell-p"
   }
  },
  {
   "cell_type": "markdown",
   "source": "### Neural Network",
   "metadata": {
    "cell_id": "931a9a753c8341d993982e734d0e50d7",
    "tags": [],
    "is_collapsed": false,
    "formattedRanges": [],
    "deepnote_cell_type": "text-cell-h3"
   }
  },
  {
   "cell_type": "code",
   "source": "model = Sequential()\nmodel.add(Dense(12, input_dim = keras_tr.shape[1], activation='relu'))\nmodel.add(Dense(8, activation='relu'))\nmodel.add(Dense(1, activation='sigmoid'))",
   "metadata": {
    "cell_id": "ec0b3f26350e4148a7672b6a2aa65705",
    "tags": [],
    "deepnote_to_be_reexecuted": false,
    "source_hash": "c97a3b5",
    "execution_start": 1656775641284,
    "execution_millis": 1,
    "deepnote_cell_type": "code",
    "deepnote_cell_height": 135
   },
   "outputs": [],
   "execution_count": null
  },
  {
   "cell_type": "code",
   "source": "model.compile(loss='binary_crossentropy', optimizer='adam', metrics=['accuracy'])",
   "metadata": {
    "cell_id": "312a3dfd064b4ac8b83dc548b24a4c87",
    "tags": [],
    "deepnote_to_be_reexecuted": false,
    "source_hash": "99e10f1e",
    "execution_start": 1656775643008,
    "execution_millis": 2,
    "deepnote_cell_type": "code",
    "deepnote_cell_height": 81
   },
   "outputs": [],
   "execution_count": null
  },
  {
   "cell_type": "code",
   "source": "keras_tr = tf.convert_to_tensor(X_tr_scaled)",
   "metadata": {
    "cell_id": "7d917c1fbf7242e3810b54d89ce2c454",
    "tags": [],
    "deepnote_to_be_reexecuted": false,
    "source_hash": "151563c6",
    "execution_start": 1656775644162,
    "execution_millis": 0,
    "deepnote_cell_type": "code",
    "deepnote_cell_height": 81
   },
   "outputs": [],
   "execution_count": null
  },
  {
   "cell_type": "code",
   "source": "model.fit(keras_tr, y_train, validation_split = 0.3, epochs=150, batch_size=10)",
   "metadata": {
    "cell_id": "9756aebd2e3d48f1abeaa6f248ffacb7",
    "tags": [],
    "deepnote_to_be_reexecuted": false,
    "source_hash": "3b369513",
    "execution_start": 1656775646024,
    "execution_millis": 142343,
    "deepnote_cell_type": "code",
    "deepnote_cell_height": 753.1875,
    "deepnote_output_heights": [
     385.75,
     21.1875
    ]
   },
   "outputs": [
    {
     "name": "stdout",
     "text": "Epoch 1/150\n439/439 [==============================] - 1s 2ms/step - loss: 0.6225 - accuracy: 0.6476 - val_loss: 0.5456 - val_accuracy: 0.7243\nEpoch 2/150\n439/439 [==============================] - 1s 2ms/step - loss: 0.5047 - accuracy: 0.7615 - val_loss: 0.4737 - val_accuracy: 0.7674\nEpoch 3/150\n439/439 [==============================] - 1s 2ms/step - loss: 0.4614 - accuracy: 0.7907 - val_loss: 0.4507 - val_accuracy: 0.7892\nEpoch 4/150\n439/439 [==============================] - 1s 2ms/step - loss: 0.4395 - accuracy: 0.8044 - val_loss: 0.4386 - val_accuracy: 0.7956\nEpoch 5/150\n439/439 [==============================] - 1s 2ms/step - loss: 0.4275 - accuracy: 0.8090 - val_loss: 0.4294 - val_accuracy: 0.8042\nEpoch 6/150\n439/439 [==============================] - 1s 2ms/step - loss: 0.4193 - accuracy: 0.8138 - val_loss: 0.4240 - val_accuracy: 0.8031\nEpoch 7/150\n439/439 [==============================] - 1s 2ms/step - loss: 0.4127 - accuracy: 0.8172 - val_loss: 0.4178 - val_accuracy: 0.8073\nEpoch 8/150\n439/439 [==============================] - 1s 2ms/step - loss: 0.4090 - accuracy: 0.8227 - val_loss: 0.4149 - val_accuracy: 0.8057\nEpoch 9/150\n439/439 [==============================] - 1s 2ms/step - loss: 0.4051 - accuracy: 0.8229 - val_loss: 0.4115 - val_accuracy: 0.8105\nEpoch 10/150\n439/439 [==============================] - 1s 2ms/step - loss: 0.4012 - accuracy: 0.8245 - val_loss: 0.4035 - val_accuracy: 0.8127\nEpoch 11/150\n439/439 [==============================] - 1s 2ms/step - loss: 0.3969 - accuracy: 0.8259 - val_loss: 0.4040 - val_accuracy: 0.8143\nEpoch 12/150\n439/439 [==============================] - 1s 2ms/step - loss: 0.3953 - accuracy: 0.8263 - val_loss: 0.4051 - val_accuracy: 0.8137\nEpoch 13/150\n439/439 [==============================] - 1s 2ms/step - loss: 0.3929 - accuracy: 0.8288 - val_loss: 0.3992 - val_accuracy: 0.8153\nEpoch 14/150\n439/439 [==============================] - 1s 2ms/step - loss: 0.3884 - accuracy: 0.8293 - val_loss: 0.3972 - val_accuracy: 0.8169\nEpoch 15/150\n439/439 [==============================] - 1s 2ms/step - loss: 0.3865 - accuracy: 0.8291 - val_loss: 0.3970 - val_accuracy: 0.8196\nEpoch 16/150\n439/439 [==============================] - 1s 2ms/step - loss: 0.3849 - accuracy: 0.8298 - val_loss: 0.3919 - val_accuracy: 0.8185\nEpoch 17/150\n439/439 [==============================] - 1s 2ms/step - loss: 0.3826 - accuracy: 0.8295 - val_loss: 0.3910 - val_accuracy: 0.8196\nEpoch 18/150\n439/439 [==============================] - 1s 2ms/step - loss: 0.3796 - accuracy: 0.8339 - val_loss: 0.3858 - val_accuracy: 0.8217\nEpoch 19/150\n439/439 [==============================] - 1s 2ms/step - loss: 0.3786 - accuracy: 0.8318 - val_loss: 0.3847 - val_accuracy: 0.8212\nEpoch 20/150\n439/439 [==============================] - 1s 2ms/step - loss: 0.3757 - accuracy: 0.8325 - val_loss: 0.3849 - val_accuracy: 0.8137\nEpoch 21/150\n439/439 [==============================] - 1s 2ms/step - loss: 0.3735 - accuracy: 0.8364 - val_loss: 0.3859 - val_accuracy: 0.8169\nEpoch 22/150\n439/439 [==============================] - 1s 2ms/step - loss: 0.3716 - accuracy: 0.8380 - val_loss: 0.3889 - val_accuracy: 0.8164\nEpoch 23/150\n439/439 [==============================] - 1s 2ms/step - loss: 0.3699 - accuracy: 0.8348 - val_loss: 0.3851 - val_accuracy: 0.8169\nEpoch 24/150\n439/439 [==============================] - 1s 2ms/step - loss: 0.3686 - accuracy: 0.8357 - val_loss: 0.3850 - val_accuracy: 0.8206\nEpoch 25/150\n439/439 [==============================] - 1s 2ms/step - loss: 0.3672 - accuracy: 0.8407 - val_loss: 0.3858 - val_accuracy: 0.8222\nEpoch 26/150\n439/439 [==============================] - 1s 2ms/step - loss: 0.3653 - accuracy: 0.8380 - val_loss: 0.3878 - val_accuracy: 0.8164\nEpoch 27/150\n439/439 [==============================] - 1s 2ms/step - loss: 0.3642 - accuracy: 0.8389 - val_loss: 0.3863 - val_accuracy: 0.8206\nEpoch 28/150\n439/439 [==============================] - 1s 2ms/step - loss: 0.3622 - accuracy: 0.8398 - val_loss: 0.3875 - val_accuracy: 0.8191\nEpoch 29/150\n439/439 [==============================] - 1s 2ms/step - loss: 0.3615 - accuracy: 0.8409 - val_loss: 0.3925 - val_accuracy: 0.8222\nEpoch 30/150\n439/439 [==============================] - 1s 2ms/step - loss: 0.3602 - accuracy: 0.8405 - val_loss: 0.3897 - val_accuracy: 0.8196\nEpoch 31/150\n439/439 [==============================] - 1s 2ms/step - loss: 0.3602 - accuracy: 0.8387 - val_loss: 0.3892 - val_accuracy: 0.8233\nEpoch 32/150\n439/439 [==============================] - 1s 2ms/step - loss: 0.3573 - accuracy: 0.8407 - val_loss: 0.3883 - val_accuracy: 0.8265\nEpoch 33/150\n439/439 [==============================] - 1s 2ms/step - loss: 0.3575 - accuracy: 0.8403 - val_loss: 0.3917 - val_accuracy: 0.8217\nEpoch 34/150\n439/439 [==============================] - 1s 2ms/step - loss: 0.3561 - accuracy: 0.8403 - val_loss: 0.3922 - val_accuracy: 0.8222\nEpoch 35/150\n439/439 [==============================] - 1s 2ms/step - loss: 0.3542 - accuracy: 0.8384 - val_loss: 0.3988 - val_accuracy: 0.8222\nEpoch 36/150\n439/439 [==============================] - 1s 2ms/step - loss: 0.3549 - accuracy: 0.8409 - val_loss: 0.3995 - val_accuracy: 0.8201\nEpoch 37/150\n439/439 [==============================] - 1s 2ms/step - loss: 0.3539 - accuracy: 0.8414 - val_loss: 0.3916 - val_accuracy: 0.8217\nEpoch 38/150\n439/439 [==============================] - 1s 2ms/step - loss: 0.3522 - accuracy: 0.8414 - val_loss: 0.4026 - val_accuracy: 0.8201\nEpoch 39/150\n439/439 [==============================] - 1s 2ms/step - loss: 0.3525 - accuracy: 0.8409 - val_loss: 0.4018 - val_accuracy: 0.8217\nEpoch 40/150\n439/439 [==============================] - 1s 2ms/step - loss: 0.3508 - accuracy: 0.8428 - val_loss: 0.3923 - val_accuracy: 0.8244\nEpoch 41/150\n439/439 [==============================] - 1s 2ms/step - loss: 0.3509 - accuracy: 0.8423 - val_loss: 0.4019 - val_accuracy: 0.8270\nEpoch 42/150\n439/439 [==============================] - 1s 2ms/step - loss: 0.3494 - accuracy: 0.8464 - val_loss: 0.4045 - val_accuracy: 0.8201\nEpoch 43/150\n439/439 [==============================] - 1s 2ms/step - loss: 0.3507 - accuracy: 0.8412 - val_loss: 0.4114 - val_accuracy: 0.8159\nEpoch 44/150\n439/439 [==============================] - 1s 2ms/step - loss: 0.3515 - accuracy: 0.8396 - val_loss: 0.4116 - val_accuracy: 0.8249\nEpoch 45/150\n439/439 [==============================] - 1s 2ms/step - loss: 0.3483 - accuracy: 0.8444 - val_loss: 0.4092 - val_accuracy: 0.8185\nEpoch 46/150\n439/439 [==============================] - 1s 2ms/step - loss: 0.3473 - accuracy: 0.8448 - val_loss: 0.4080 - val_accuracy: 0.8254\nEpoch 47/150\n439/439 [==============================] - 1s 2ms/step - loss: 0.3480 - accuracy: 0.8444 - val_loss: 0.4082 - val_accuracy: 0.8233\nEpoch 48/150\n439/439 [==============================] - 1s 2ms/step - loss: 0.3474 - accuracy: 0.8460 - val_loss: 0.4090 - val_accuracy: 0.8260\nEpoch 49/150\n439/439 [==============================] - 1s 2ms/step - loss: 0.3469 - accuracy: 0.8423 - val_loss: 0.4077 - val_accuracy: 0.8249\nEpoch 50/150\n439/439 [==============================] - 1s 2ms/step - loss: 0.3456 - accuracy: 0.8450 - val_loss: 0.4106 - val_accuracy: 0.8292\nEpoch 51/150\n439/439 [==============================] - 1s 2ms/step - loss: 0.3464 - accuracy: 0.8444 - val_loss: 0.4220 - val_accuracy: 0.8254\nEpoch 52/150\n439/439 [==============================] - 1s 2ms/step - loss: 0.3454 - accuracy: 0.8457 - val_loss: 0.4073 - val_accuracy: 0.8249\nEpoch 53/150\n439/439 [==============================] - 1s 2ms/step - loss: 0.3468 - accuracy: 0.8428 - val_loss: 0.4169 - val_accuracy: 0.8249\nEpoch 54/150\n439/439 [==============================] - 1s 2ms/step - loss: 0.3447 - accuracy: 0.8444 - val_loss: 0.4127 - val_accuracy: 0.8238\nEpoch 55/150\n439/439 [==============================] - 1s 2ms/step - loss: 0.3454 - accuracy: 0.8435 - val_loss: 0.4124 - val_accuracy: 0.8260\nEpoch 56/150\n439/439 [==============================] - 1s 2ms/step - loss: 0.3430 - accuracy: 0.8471 - val_loss: 0.4119 - val_accuracy: 0.8286\nEpoch 57/150\n439/439 [==============================] - 1s 2ms/step - loss: 0.3437 - accuracy: 0.8437 - val_loss: 0.4107 - val_accuracy: 0.8244\nEpoch 58/150\n439/439 [==============================] - 1s 2ms/step - loss: 0.3430 - accuracy: 0.8480 - val_loss: 0.4195 - val_accuracy: 0.8169\nEpoch 59/150\n439/439 [==============================] - 1s 2ms/step - loss: 0.3422 - accuracy: 0.8446 - val_loss: 0.4190 - val_accuracy: 0.8254\nEpoch 60/150\n439/439 [==============================] - 1s 2ms/step - loss: 0.3434 - accuracy: 0.8455 - val_loss: 0.4154 - val_accuracy: 0.8217\nEpoch 61/150\n439/439 [==============================] - 1s 2ms/step - loss: 0.3409 - accuracy: 0.8469 - val_loss: 0.4191 - val_accuracy: 0.8244\nEpoch 62/150\n439/439 [==============================] - 1s 2ms/step - loss: 0.3413 - accuracy: 0.8466 - val_loss: 0.4134 - val_accuracy: 0.8286\nEpoch 63/150\n439/439 [==============================] - 1s 2ms/step - loss: 0.3411 - accuracy: 0.8480 - val_loss: 0.4152 - val_accuracy: 0.8260\nEpoch 64/150\n439/439 [==============================] - 1s 2ms/step - loss: 0.3408 - accuracy: 0.8466 - val_loss: 0.4181 - val_accuracy: 0.8222\nEpoch 65/150\n439/439 [==============================] - 1s 2ms/step - loss: 0.3412 - accuracy: 0.8471 - val_loss: 0.4154 - val_accuracy: 0.8191\nEpoch 66/150\n439/439 [==============================] - 1s 2ms/step - loss: 0.3419 - accuracy: 0.8482 - val_loss: 0.4043 - val_accuracy: 0.8254\nEpoch 67/150\n439/439 [==============================] - 1s 2ms/step - loss: 0.3427 - accuracy: 0.8444 - val_loss: 0.4191 - val_accuracy: 0.8292\nEpoch 68/150\n439/439 [==============================] - 1s 2ms/step - loss: 0.3390 - accuracy: 0.8455 - val_loss: 0.4245 - val_accuracy: 0.8137\nEpoch 69/150\n439/439 [==============================] - 1s 2ms/step - loss: 0.3402 - accuracy: 0.8501 - val_loss: 0.4158 - val_accuracy: 0.8212\nEpoch 70/150\n439/439 [==============================] - 1s 2ms/step - loss: 0.3397 - accuracy: 0.8444 - val_loss: 0.4168 - val_accuracy: 0.8260\nEpoch 71/150\n439/439 [==============================] - 1s 2ms/step - loss: 0.3379 - accuracy: 0.8485 - val_loss: 0.4223 - val_accuracy: 0.8254\nEpoch 72/150\n439/439 [==============================] - 1s 2ms/step - loss: 0.3390 - accuracy: 0.8464 - val_loss: 0.4119 - val_accuracy: 0.8238\nEpoch 73/150\n439/439 [==============================] - 1s 2ms/step - loss: 0.3377 - accuracy: 0.8496 - val_loss: 0.4160 - val_accuracy: 0.8217\nEpoch 74/150\n439/439 [==============================] - 1s 2ms/step - loss: 0.3380 - accuracy: 0.8494 - val_loss: 0.4211 - val_accuracy: 0.8212\nEpoch 75/150\n439/439 [==============================] - 1s 2ms/step - loss: 0.3404 - accuracy: 0.8473 - val_loss: 0.4268 - val_accuracy: 0.8260\nEpoch 76/150\n439/439 [==============================] - 1s 2ms/step - loss: 0.3366 - accuracy: 0.8501 - val_loss: 0.4236 - val_accuracy: 0.8201\nEpoch 77/150\n439/439 [==============================] - 1s 2ms/step - loss: 0.3371 - accuracy: 0.8471 - val_loss: 0.4186 - val_accuracy: 0.8228\nEpoch 78/150\n439/439 [==============================] - 1s 2ms/step - loss: 0.3375 - accuracy: 0.8498 - val_loss: 0.4144 - val_accuracy: 0.8175\nEpoch 79/150\n439/439 [==============================] - 1s 2ms/step - loss: 0.3379 - accuracy: 0.8508 - val_loss: 0.4368 - val_accuracy: 0.8238\nEpoch 80/150\n439/439 [==============================] - 1s 2ms/step - loss: 0.3393 - accuracy: 0.8492 - val_loss: 0.4082 - val_accuracy: 0.8233\nEpoch 81/150\n439/439 [==============================] - 1s 2ms/step - loss: 0.3387 - accuracy: 0.8464 - val_loss: 0.4244 - val_accuracy: 0.8206\nEpoch 82/150\n439/439 [==============================] - 1s 2ms/step - loss: 0.3368 - accuracy: 0.8482 - val_loss: 0.4250 - val_accuracy: 0.8206\nEpoch 83/150\n439/439 [==============================] - 1s 2ms/step - loss: 0.3356 - accuracy: 0.8480 - val_loss: 0.4327 - val_accuracy: 0.8191\nEpoch 84/150\n439/439 [==============================] - 1s 2ms/step - loss: 0.3355 - accuracy: 0.8480 - val_loss: 0.4199 - val_accuracy: 0.8254\nEpoch 85/150\n439/439 [==============================] - 1s 2ms/step - loss: 0.3354 - accuracy: 0.8487 - val_loss: 0.4280 - val_accuracy: 0.8244\nEpoch 86/150\n439/439 [==============================] - 1s 2ms/step - loss: 0.3368 - accuracy: 0.8489 - val_loss: 0.4254 - val_accuracy: 0.8244\nEpoch 87/150\n439/439 [==============================] - 1s 2ms/step - loss: 0.3355 - accuracy: 0.8480 - val_loss: 0.4305 - val_accuracy: 0.8201\nEpoch 88/150\n439/439 [==============================] - 1s 2ms/step - loss: 0.3362 - accuracy: 0.8492 - val_loss: 0.4236 - val_accuracy: 0.8238\nEpoch 89/150\n439/439 [==============================] - 1s 2ms/step - loss: 0.3346 - accuracy: 0.8476 - val_loss: 0.4318 - val_accuracy: 0.8217\nEpoch 90/150\n439/439 [==============================] - 1s 2ms/step - loss: 0.3350 - accuracy: 0.8517 - val_loss: 0.4339 - val_accuracy: 0.8265\nEpoch 91/150\n439/439 [==============================] - 1s 2ms/step - loss: 0.3336 - accuracy: 0.8519 - val_loss: 0.4390 - val_accuracy: 0.8249\nEpoch 92/150\n439/439 [==============================] - 1s 2ms/step - loss: 0.3388 - accuracy: 0.8480 - val_loss: 0.4237 - val_accuracy: 0.8233\nEpoch 93/150\n439/439 [==============================] - 1s 2ms/step - loss: 0.3349 - accuracy: 0.8480 - val_loss: 0.4386 - val_accuracy: 0.8206\nEpoch 94/150\n439/439 [==============================] - 1s 2ms/step - loss: 0.3344 - accuracy: 0.8508 - val_loss: 0.4365 - val_accuracy: 0.8260\nEpoch 95/150\n439/439 [==============================] - 1s 2ms/step - loss: 0.3337 - accuracy: 0.8514 - val_loss: 0.4435 - val_accuracy: 0.8153\nEpoch 96/150\n439/439 [==============================] - 1s 2ms/step - loss: 0.3338 - accuracy: 0.8494 - val_loss: 0.4349 - val_accuracy: 0.8233\nEpoch 97/150\n439/439 [==============================] - 1s 2ms/step - loss: 0.3332 - accuracy: 0.8535 - val_loss: 0.4460 - val_accuracy: 0.8159\nEpoch 98/150\n439/439 [==============================] - 1s 2ms/step - loss: 0.3329 - accuracy: 0.8505 - val_loss: 0.4492 - val_accuracy: 0.8185\nEpoch 99/150\n439/439 [==============================] - 1s 2ms/step - loss: 0.3347 - accuracy: 0.8489 - val_loss: 0.4391 - val_accuracy: 0.8260\nEpoch 100/150\n439/439 [==============================] - 1s 2ms/step - loss: 0.3322 - accuracy: 0.8537 - val_loss: 0.4578 - val_accuracy: 0.8238\nEpoch 101/150\n439/439 [==============================] - 1s 2ms/step - loss: 0.3336 - accuracy: 0.8498 - val_loss: 0.4334 - val_accuracy: 0.8270\nEpoch 102/150\n439/439 [==============================] - 1s 2ms/step - loss: 0.3361 - accuracy: 0.8524 - val_loss: 0.4502 - val_accuracy: 0.8297\nEpoch 103/150\n439/439 [==============================] - 1s 2ms/step - loss: 0.3332 - accuracy: 0.8505 - val_loss: 0.4525 - val_accuracy: 0.8238\nEpoch 104/150\n439/439 [==============================] - 1s 2ms/step - loss: 0.3325 - accuracy: 0.8469 - val_loss: 0.4506 - val_accuracy: 0.8222\nEpoch 105/150\n439/439 [==============================] - 1s 2ms/step - loss: 0.3331 - accuracy: 0.8494 - val_loss: 0.4467 - val_accuracy: 0.8286\nEpoch 106/150\n439/439 [==============================] - 1s 2ms/step - loss: 0.3320 - accuracy: 0.8517 - val_loss: 0.4436 - val_accuracy: 0.8254\nEpoch 107/150\n439/439 [==============================] - 1s 2ms/step - loss: 0.3316 - accuracy: 0.8519 - val_loss: 0.4470 - val_accuracy: 0.8265\nEpoch 108/150\n439/439 [==============================] - 1s 2ms/step - loss: 0.3326 - accuracy: 0.8496 - val_loss: 0.4444 - val_accuracy: 0.8292\nEpoch 109/150\n439/439 [==============================] - 1s 2ms/step - loss: 0.3309 - accuracy: 0.8528 - val_loss: 0.4441 - val_accuracy: 0.8244\nEpoch 110/150\n439/439 [==============================] - 1s 2ms/step - loss: 0.3310 - accuracy: 0.8501 - val_loss: 0.4466 - val_accuracy: 0.8238\nEpoch 111/150\n439/439 [==============================] - 1s 2ms/step - loss: 0.3329 - accuracy: 0.8505 - val_loss: 0.4416 - val_accuracy: 0.8260\nEpoch 112/150\n439/439 [==============================] - 1s 2ms/step - loss: 0.3327 - accuracy: 0.8537 - val_loss: 0.4751 - val_accuracy: 0.8191\nEpoch 113/150\n439/439 [==============================] - 1s 2ms/step - loss: 0.3357 - accuracy: 0.8494 - val_loss: 0.4568 - val_accuracy: 0.8265\nEpoch 114/150\n439/439 [==============================] - 1s 2ms/step - loss: 0.3312 - accuracy: 0.8498 - val_loss: 0.4555 - val_accuracy: 0.8292\nEpoch 115/150\n439/439 [==============================] - 1s 2ms/step - loss: 0.3297 - accuracy: 0.8494 - val_loss: 0.4636 - val_accuracy: 0.8201\nEpoch 116/150\n439/439 [==============================] - 1s 2ms/step - loss: 0.3304 - accuracy: 0.8517 - val_loss: 0.4588 - val_accuracy: 0.8238\nEpoch 117/150\n439/439 [==============================] - 1s 2ms/step - loss: 0.3287 - accuracy: 0.8537 - val_loss: 0.4696 - val_accuracy: 0.8206\nEpoch 118/150\n439/439 [==============================] - 1s 2ms/step - loss: 0.3313 - accuracy: 0.8501 - val_loss: 0.4563 - val_accuracy: 0.8238\nEpoch 119/150\n439/439 [==============================] - 1s 2ms/step - loss: 0.3287 - accuracy: 0.8508 - val_loss: 0.4613 - val_accuracy: 0.8180\nEpoch 120/150\n439/439 [==============================] - 1s 2ms/step - loss: 0.3309 - accuracy: 0.8505 - val_loss: 0.4667 - val_accuracy: 0.8238\nEpoch 121/150\n439/439 [==============================] - 1s 2ms/step - loss: 0.3304 - accuracy: 0.8521 - val_loss: 0.4552 - val_accuracy: 0.8244\nEpoch 122/150\n439/439 [==============================] - 1s 2ms/step - loss: 0.3290 - accuracy: 0.8494 - val_loss: 0.4697 - val_accuracy: 0.8111\nEpoch 123/150\n439/439 [==============================] - 1s 2ms/step - loss: 0.3306 - accuracy: 0.8482 - val_loss: 0.4655 - val_accuracy: 0.8222\nEpoch 124/150\n439/439 [==============================] - 1s 2ms/step - loss: 0.3297 - accuracy: 0.8514 - val_loss: 0.4704 - val_accuracy: 0.8185\nEpoch 125/150\n439/439 [==============================] - 1s 2ms/step - loss: 0.3352 - accuracy: 0.8505 - val_loss: 0.4677 - val_accuracy: 0.8228\nEpoch 126/150\n439/439 [==============================] - 1s 2ms/step - loss: 0.3295 - accuracy: 0.8505 - val_loss: 0.4660 - val_accuracy: 0.8228\nEpoch 127/150\n439/439 [==============================] - 1s 2ms/step - loss: 0.3286 - accuracy: 0.8521 - val_loss: 0.4686 - val_accuracy: 0.8249\nEpoch 128/150\n439/439 [==============================] - 1s 2ms/step - loss: 0.3287 - accuracy: 0.8510 - val_loss: 0.4651 - val_accuracy: 0.8244\nEpoch 129/150\n439/439 [==============================] - 1s 2ms/step - loss: 0.3289 - accuracy: 0.8519 - val_loss: 0.4650 - val_accuracy: 0.8185\nEpoch 130/150\n439/439 [==============================] - 1s 2ms/step - loss: 0.3298 - accuracy: 0.8535 - val_loss: 0.4623 - val_accuracy: 0.8233\nEpoch 131/150\n439/439 [==============================] - 1s 2ms/step - loss: 0.3286 - accuracy: 0.8508 - val_loss: 0.4697 - val_accuracy: 0.8222\nEpoch 132/150\n439/439 [==============================] - 1s 2ms/step - loss: 0.3287 - accuracy: 0.8487 - val_loss: 0.4785 - val_accuracy: 0.8201\nEpoch 133/150\n439/439 [==============================] - 1s 2ms/step - loss: 0.3281 - accuracy: 0.8501 - val_loss: 0.4665 - val_accuracy: 0.8132\nEpoch 134/150\n439/439 [==============================] - 1s 2ms/step - loss: 0.3293 - accuracy: 0.8537 - val_loss: 0.4680 - val_accuracy: 0.8228\nEpoch 135/150\n439/439 [==============================] - 1s 2ms/step - loss: 0.3291 - accuracy: 0.8512 - val_loss: 0.4751 - val_accuracy: 0.8281\nEpoch 136/150\n439/439 [==============================] - 1s 2ms/step - loss: 0.3291 - accuracy: 0.8505 - val_loss: 0.4607 - val_accuracy: 0.8244\nEpoch 137/150\n439/439 [==============================] - 1s 2ms/step - loss: 0.3280 - accuracy: 0.8517 - val_loss: 0.4763 - val_accuracy: 0.8228\nEpoch 138/150\n439/439 [==============================] - 1s 2ms/step - loss: 0.3268 - accuracy: 0.8521 - val_loss: 0.4696 - val_accuracy: 0.8265\nEpoch 139/150\n439/439 [==============================] - 1s 2ms/step - loss: 0.3282 - accuracy: 0.8539 - val_loss: 0.4675 - val_accuracy: 0.8254\nEpoch 140/150\n439/439 [==============================] - 1s 2ms/step - loss: 0.3264 - accuracy: 0.8528 - val_loss: 0.4813 - val_accuracy: 0.8180\nEpoch 141/150\n439/439 [==============================] - 1s 2ms/step - loss: 0.3268 - accuracy: 0.8494 - val_loss: 0.4676 - val_accuracy: 0.8228\nEpoch 142/150\n439/439 [==============================] - 1s 2ms/step - loss: 0.3308 - accuracy: 0.8526 - val_loss: 0.4631 - val_accuracy: 0.8185\nEpoch 143/150\n439/439 [==============================] - 1s 2ms/step - loss: 0.3315 - accuracy: 0.8524 - val_loss: 0.4643 - val_accuracy: 0.8260\nEpoch 144/150\n439/439 [==============================] - 1s 2ms/step - loss: 0.3269 - accuracy: 0.8549 - val_loss: 0.4942 - val_accuracy: 0.8153\nEpoch 145/150\n439/439 [==============================] - 1s 2ms/step - loss: 0.3281 - accuracy: 0.8508 - val_loss: 0.4818 - val_accuracy: 0.8164\nEpoch 146/150\n439/439 [==============================] - 1s 2ms/step - loss: 0.3268 - accuracy: 0.8524 - val_loss: 0.4811 - val_accuracy: 0.8286\nEpoch 147/150\n439/439 [==============================] - 1s 2ms/step - loss: 0.3258 - accuracy: 0.8519 - val_loss: 0.4765 - val_accuracy: 0.8196\nEpoch 148/150\n439/439 [==============================] - 1s 2ms/step - loss: 0.3247 - accuracy: 0.8519 - val_loss: 0.4767 - val_accuracy: 0.8276\nEpoch 149/150\n439/439 [==============================] - 1s 2ms/step - loss: 0.3276 - accuracy: 0.8542 - val_loss: 0.4775 - val_accuracy: 0.8238\nEpoch 150/150\n439/439 [==============================] - 1s 2ms/step - loss: 0.3270 - accuracy: 0.8514 - val_loss: 0.4801 - val_accuracy: 0.8249\n",
     "output_type": "stream"
    },
    {
     "output_type": "execute_result",
     "execution_count": 59,
     "data": {
      "text/plain": "<keras.callbacks.History at 0x7faa63bdee80>"
     },
     "metadata": {}
    }
   ],
   "execution_count": null
  },
  {
   "cell_type": "code",
   "source": "scores = model.evaluate(X_tst_scaled, y_test)\nprint(\"%s: %.2f%%\" % (model.metrics_names[1], scores[1]*100))",
   "metadata": {
    "cell_id": "3fdf6fdeed2641889cf77c3ee774da49",
    "tags": [],
    "deepnote_to_be_reexecuted": false,
    "source_hash": "2c3c2339",
    "execution_start": 1656775810866,
    "execution_millis": 239,
    "deepnote_cell_type": "code",
    "deepnote_cell_height": 150.375
   },
   "outputs": [
    {
     "name": "stdout",
     "text": "84/84 [==============================] - 0s 985us/step - loss: 0.4414 - accuracy: 0.8163\naccuracy: 81.63%\n",
     "output_type": "stream"
    }
   ],
   "execution_count": null
  },
  {
   "cell_type": "markdown",
   "source": "<a style='text-decoration:none;line-height:16px;display:flex;color:#5B5B62;padding:10px;justify-content:end;' href='https://deepnote.com?utm_source=created-in-deepnote-cell&projectId=eb883b55-1526-4482-aad8-9ba82b613495' target=\"_blank\">\n<img alt='Created in deepnote.com' style='display:inline;max-height:16px;margin:0px;margin-right:7.5px;' src='data:image/svg+xml;base64,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' > </img>\nCreated in <span style='font-weight:600;margin-left:4px;'>Deepnote</span></a>",
   "metadata": {
    "tags": [],
    "created_in_deepnote_cell": true,
    "deepnote_cell_type": "markdown"
   }
  }
 ],
 "nbformat": 4,
 "nbformat_minor": 2,
 "metadata": {
  "orig_nbformat": 2,
  "deepnote": {},
  "deepnote_notebook_id": "2448594b-15f0-4d94-ac7f-5d780a698b22",
  "deepnote_execution_queue": []
 }
}